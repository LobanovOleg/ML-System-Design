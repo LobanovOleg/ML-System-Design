{
 "cells": [
  {
   "attachments": {},
   "cell_type": "markdown",
   "metadata": {},
   "source": [
    "1. Import the numpy package under the name np"
   ]
  },
  {
   "cell_type": "code",
   "execution_count": 2,
   "metadata": {},
   "outputs": [],
   "source": [
    "import numpy as np"
   ]
  },
  {
   "attachments": {},
   "cell_type": "markdown",
   "metadata": {},
   "source": [
    "2. Print the numpy version and the configuration "
   ]
  },
  {
   "cell_type": "code",
   "execution_count": 7,
   "metadata": {},
   "outputs": [
    {
     "name": "stdout",
     "output_type": "stream",
     "text": [
      "NumPy Version :  1.24.2\n",
      "openblas64__info:\n",
      "    libraries = ['openblas64_', 'openblas64_']\n",
      "    library_dirs = ['/usr/local/lib']\n",
      "    language = c\n",
      "    define_macros = [('HAVE_CBLAS', None), ('BLAS_SYMBOL_SUFFIX', '64_'), ('HAVE_BLAS_ILP64', None)]\n",
      "    runtime_library_dirs = ['/usr/local/lib']\n",
      "blas_ilp64_opt_info:\n",
      "    libraries = ['openblas64_', 'openblas64_']\n",
      "    library_dirs = ['/usr/local/lib']\n",
      "    language = c\n",
      "    define_macros = [('HAVE_CBLAS', None), ('BLAS_SYMBOL_SUFFIX', '64_'), ('HAVE_BLAS_ILP64', None)]\n",
      "    runtime_library_dirs = ['/usr/local/lib']\n",
      "openblas64__lapack_info:\n",
      "    libraries = ['openblas64_', 'openblas64_']\n",
      "    library_dirs = ['/usr/local/lib']\n",
      "    language = c\n",
      "    define_macros = [('HAVE_CBLAS', None), ('BLAS_SYMBOL_SUFFIX', '64_'), ('HAVE_BLAS_ILP64', None), ('HAVE_LAPACKE', None)]\n",
      "    runtime_library_dirs = ['/usr/local/lib']\n",
      "lapack_ilp64_opt_info:\n",
      "    libraries = ['openblas64_', 'openblas64_']\n",
      "    library_dirs = ['/usr/local/lib']\n",
      "    language = c\n",
      "    define_macros = [('HAVE_CBLAS', None), ('BLAS_SYMBOL_SUFFIX', '64_'), ('HAVE_BLAS_ILP64', None), ('HAVE_LAPACKE', None)]\n",
      "    runtime_library_dirs = ['/usr/local/lib']\n",
      "Supported SIMD extensions in this NumPy install:\n",
      "    baseline = NEON,NEON_FP16,NEON_VFPV4,ASIMD\n",
      "    found = ASIMDHP,ASIMDDP\n",
      "    not found = ASIMDFHM\n",
      "None\n"
     ]
    }
   ],
   "source": [
    "print(\"NumPy Version : \", np.__version__)\n",
    "print(np.show_config())"
   ]
  },
  {
   "attachments": {},
   "cell_type": "markdown",
   "metadata": {},
   "source": [
    "3. Create a null vector of size 10"
   ]
  },
  {
   "cell_type": "code",
   "execution_count": 61,
   "metadata": {},
   "outputs": [
    {
     "name": "stdout",
     "output_type": "stream",
     "text": [
      "[0 0 0 0 0 0 0 0 0 0]\n"
     ]
    }
   ],
   "source": [
    "x = np.zeros((10), dtype=int)\n",
    "print(x)"
   ]
  },
  {
   "attachments": {},
   "cell_type": "markdown",
   "metadata": {},
   "source": [
    "4. How to find the memory size of any array "
   ]
  },
  {
   "cell_type": "code",
   "execution_count": 328,
   "metadata": {},
   "outputs": [
    {
     "name": "stdout",
     "output_type": "stream",
     "text": [
      "800 bytes\n"
     ]
    }
   ],
   "source": [
    "Z = np.zeros((10, 10))\n",
    "print(\"%d bytes\" % (Z.size * Z.itemsize))"
   ]
  },
  {
   "attachments": {},
   "cell_type": "markdown",
   "metadata": {},
   "source": [
    "5. How to get the documentation of the numpy add function from the command line?"
   ]
  },
  {
   "cell_type": "code",
   "execution_count": null,
   "metadata": {},
   "outputs": [],
   "source": [
    "python3 -c \"import numpy; numpy.info(numpy.add)\""
   ]
  },
  {
   "attachments": {},
   "cell_type": "markdown",
   "metadata": {},
   "source": [
    "6. Create a null vector of size 10 but the fifth value which is 1"
   ]
  },
  {
   "cell_type": "code",
   "execution_count": 58,
   "metadata": {},
   "outputs": [
    {
     "name": "stdout",
     "output_type": "stream",
     "text": [
      "[0 0 0 0 1 0 0 0 0 0]\n"
     ]
    }
   ],
   "source": [
    "x = np.zeros((10), dtype=int)\n",
    "x[4] = 1\n",
    "print(x)"
   ]
  },
  {
   "attachments": {},
   "cell_type": "markdown",
   "metadata": {},
   "source": [
    "7. Create a vector with values ranging from 10 to 49"
   ]
  },
  {
   "cell_type": "code",
   "execution_count": 29,
   "metadata": {},
   "outputs": [
    {
     "name": "stdout",
     "output_type": "stream",
     "text": [
      "[10 11 12 13 14 15 16 17 18 19 20 21 22 23 24 25 26 27 28 29 30 31 32 33\n",
      " 34 35 36 37 38 39 40 41 42 43 44 45 46 47 48 49]\n"
     ]
    }
   ],
   "source": [
    "x = np.arange(10, 50)\n",
    "print(x)"
   ]
  },
  {
   "attachments": {},
   "cell_type": "markdown",
   "metadata": {},
   "source": [
    "8. Reverse a vector (first element becomes last)"
   ]
  },
  {
   "cell_type": "code",
   "execution_count": 30,
   "metadata": {},
   "outputs": [
    {
     "name": "stdout",
     "output_type": "stream",
     "text": [
      "[4 3 2 1 0]\n"
     ]
    }
   ],
   "source": [
    "x = np.arange(5)\n",
    "x = x[::-1]\n",
    "print(x)"
   ]
  },
  {
   "attachments": {},
   "cell_type": "markdown",
   "metadata": {},
   "source": [
    "9. Create a 3x3 matrix with values ranging from 0 to 8"
   ]
  },
  {
   "cell_type": "code",
   "execution_count": 34,
   "metadata": {},
   "outputs": [
    {
     "name": "stdout",
     "output_type": "stream",
     "text": [
      "[[0 1 2]\n",
      " [3 4 5]\n",
      " [6 7 8]]\n"
     ]
    }
   ],
   "source": [
    "x = np.arange(9).reshape(3,3)\n",
    "print(x)"
   ]
  },
  {
   "attachments": {},
   "cell_type": "markdown",
   "metadata": {},
   "source": [
    "10. Find indices of non-zero elements from [1,2,0,0,4,0]"
   ]
  },
  {
   "cell_type": "code",
   "execution_count": 60,
   "metadata": {},
   "outputs": [
    {
     "name": "stdout",
     "output_type": "stream",
     "text": [
      "(array([0, 1, 4]),)\n"
     ]
    }
   ],
   "source": [
    "x = np.nonzero([1,2,0,0,4,0])\n",
    "print(x)"
   ]
  },
  {
   "attachments": {},
   "cell_type": "markdown",
   "metadata": {},
   "source": [
    "11. Create a 3x3 identity matrix"
   ]
  },
  {
   "cell_type": "code",
   "execution_count": 57,
   "metadata": {},
   "outputs": [
    {
     "name": "stdout",
     "output_type": "stream",
     "text": [
      "[[1 0 0]\n",
      " [0 1 0]\n",
      " [0 0 1]]\n"
     ]
    }
   ],
   "source": [
    "x = np.eye((3), dtype=int)\n",
    "print(x)"
   ]
  },
  {
   "attachments": {},
   "cell_type": "markdown",
   "metadata": {},
   "source": [
    "12. Create a 3x3x3 array with random values"
   ]
  },
  {
   "cell_type": "code",
   "execution_count": 38,
   "metadata": {},
   "outputs": [
    {
     "name": "stdout",
     "output_type": "stream",
     "text": [
      "[[[0.34688038 0.32649631 0.64272649]\n",
      "  [0.71172949 0.78708116 0.59767217]\n",
      "  [0.67984192 0.38032379 0.98948505]]\n",
      "\n",
      " [[0.00814946 0.3171235  0.32840445]\n",
      "  [0.46728671 0.55126178 0.03597316]\n",
      "  [0.98735293 0.0709888  0.53690236]]\n",
      "\n",
      " [[0.27738032 0.47018746 0.92578661]\n",
      "  [0.04462677 0.45560097 0.19056061]\n",
      "  [0.57913911 0.40106568 0.96641163]]]\n"
     ]
    }
   ],
   "source": [
    "x = np.random.random((3,3,3))\n",
    "print(x)"
   ]
  },
  {
   "attachments": {},
   "cell_type": "markdown",
   "metadata": {},
   "source": [
    "13. Create a 10x10 array with random values and find the minimum and maximum values"
   ]
  },
  {
   "cell_type": "code",
   "execution_count": 41,
   "metadata": {},
   "outputs": [
    {
     "name": "stdout",
     "output_type": "stream",
     "text": [
      "0.004024807128157004 0.9745836979375939\n"
     ]
    }
   ],
   "source": [
    "x = np.random.random((10, 10))\n",
    "xmin, xmax = x.min(), x.max()\n",
    "print(xmin, xmax)"
   ]
  },
  {
   "attachments": {},
   "cell_type": "markdown",
   "metadata": {},
   "source": [
    "14. Create a random vector of size 30 and find the mean value"
   ]
  },
  {
   "cell_type": "code",
   "execution_count": 43,
   "metadata": {},
   "outputs": [
    {
     "name": "stdout",
     "output_type": "stream",
     "text": [
      "0.4757517193827672\n"
     ]
    }
   ],
   "source": [
    "x = np.random.random(30)\n",
    "xmean = x.mean()\n",
    "print(xmean)"
   ]
  },
  {
   "attachments": {},
   "cell_type": "markdown",
   "metadata": {},
   "source": [
    "15. Create a 2d array with 1 on the border and 0 inside"
   ]
  },
  {
   "cell_type": "code",
   "execution_count": 56,
   "metadata": {},
   "outputs": [
    {
     "name": "stdout",
     "output_type": "stream",
     "text": [
      "[[1 1 1 1]\n",
      " [1 0 0 1]\n",
      " [1 0 0 1]\n",
      " [1 1 1 1]]\n"
     ]
    }
   ],
   "source": [
    "x = np.ones((4, 4), dtype=int)\n",
    "x[1:-1,1:-1] = 0\n",
    "print(x)"
   ]
  },
  {
   "attachments": {},
   "cell_type": "markdown",
   "metadata": {},
   "source": [
    "16. How to add a border (filled with 0's) around an existing array?"
   ]
  },
  {
   "cell_type": "code",
   "execution_count": 329,
   "metadata": {},
   "outputs": [
    {
     "name": "stdout",
     "output_type": "stream",
     "text": [
      "[[0. 0. 0. 0. 0. 0. 0.]\n",
      " [0. 1. 1. 1. 1. 1. 0.]\n",
      " [0. 1. 1. 1. 1. 1. 0.]\n",
      " [0. 1. 1. 1. 1. 1. 0.]\n",
      " [0. 1. 1. 1. 1. 1. 0.]\n",
      " [0. 1. 1. 1. 1. 1. 0.]\n",
      " [0. 0. 0. 0. 0. 0. 0.]]\n"
     ]
    }
   ],
   "source": [
    "Z = np.ones((5,5))\n",
    "Z = np.pad(Z, pad_width=1, mode='constant', constant_values=0)\n",
    "print(Z)"
   ]
  },
  {
   "attachments": {},
   "cell_type": "markdown",
   "metadata": {},
   "source": [
    "17. What is the result of the following expression?"
   ]
  },
  {
   "cell_type": "code",
   "execution_count": 53,
   "metadata": {},
   "outputs": [
    {
     "data": {
      "text/plain": [
       "False"
      ]
     },
     "execution_count": 53,
     "metadata": {},
     "output_type": "execute_result"
    }
   ],
   "source": [
    "0 * np.nan\n",
    "np.nan == np.nan\n",
    "np.inf > np.nan\n",
    "np.nan - np.nan\n",
    "np.nan in set([np.nan])\n",
    "0.3 == 3 * 0.1"
   ]
  },
  {
   "attachments": {},
   "cell_type": "markdown",
   "metadata": {},
   "source": [
    "18. Create a 5x5 matrix with values 1,2,3,4 just below the diagonal"
   ]
  },
  {
   "cell_type": "code",
   "execution_count": 55,
   "metadata": {},
   "outputs": [
    {
     "name": "stdout",
     "output_type": "stream",
     "text": [
      "[[0 0 0 0 0]\n",
      " [1 0 0 0 0]\n",
      " [0 2 0 0 0]\n",
      " [0 0 3 0 0]\n",
      " [0 0 0 4 0]]\n"
     ]
    }
   ],
   "source": [
    "x = np.diag(np.arange(1, 5), k = -1)\n",
    "print(x)"
   ]
  },
  {
   "attachments": {},
   "cell_type": "markdown",
   "metadata": {},
   "source": [
    "19. Create a 8x8 matrix and fill it with a checkerboard pattern"
   ]
  },
  {
   "cell_type": "code",
   "execution_count": 68,
   "metadata": {},
   "outputs": [
    {
     "name": "stdout",
     "output_type": "stream",
     "text": [
      "[[0 1 0 1 0 1 0 1]\n",
      " [1 0 1 0 1 0 1 0]\n",
      " [0 1 0 1 0 1 0 1]\n",
      " [1 0 1 0 1 0 1 0]\n",
      " [0 1 0 1 0 1 0 1]\n",
      " [1 0 1 0 1 0 1 0]\n",
      " [0 1 0 1 0 1 0 1]\n",
      " [1 0 1 0 1 0 1 0]]\n"
     ]
    }
   ],
   "source": [
    "x = np.zeros((8, 8), dtype=int)\n",
    "x[1::2, ::2] = 1\n",
    "x[::2, 1::2] = 1\n",
    "print(x)"
   ]
  },
  {
   "attachments": {},
   "cell_type": "markdown",
   "metadata": {},
   "source": [
    "20. Consider a (6,7,8) shape array, what is the index (x,y,z) of the 100th element?"
   ]
  },
  {
   "cell_type": "code",
   "execution_count": 71,
   "metadata": {},
   "outputs": [
    {
     "name": "stdout",
     "output_type": "stream",
     "text": [
      "(1, 5, 4)\n"
     ]
    }
   ],
   "source": [
    "x = np.unravel_index(100, (6, 7, 8))\n",
    "print(x)"
   ]
  },
  {
   "attachments": {},
   "cell_type": "markdown",
   "metadata": {},
   "source": [
    "21. Create a checkerboard 8x8 matrix using the tile function"
   ]
  },
  {
   "cell_type": "code",
   "execution_count": 74,
   "metadata": {},
   "outputs": [
    {
     "name": "stdout",
     "output_type": "stream",
     "text": [
      "[[0 1 0 1 0 1 0 1]\n",
      " [1 0 1 0 1 0 1 0]\n",
      " [0 1 0 1 0 1 0 1]\n",
      " [1 0 1 0 1 0 1 0]\n",
      " [0 1 0 1 0 1 0 1]\n",
      " [1 0 1 0 1 0 1 0]\n",
      " [0 1 0 1 0 1 0 1]\n",
      " [1 0 1 0 1 0 1 0]]\n"
     ]
    }
   ],
   "source": [
    "x = np.tile(np.array([[0, 1], [1, 0]]), (4, 4))\n",
    "print(x)"
   ]
  },
  {
   "attachments": {},
   "cell_type": "markdown",
   "metadata": {},
   "source": [
    "22. Normalize a 5x5 random matrix"
   ]
  },
  {
   "cell_type": "code",
   "execution_count": 83,
   "metadata": {},
   "outputs": [
    {
     "name": "stdout",
     "output_type": "stream",
     "text": [
      "[[0.74348346 0.         0.41568438 0.15190589 0.18659346]\n",
      " [0.65683695 0.74213995 0.57347558 0.22994963 0.28833616]\n",
      " [0.03220512 0.22318189 1.         0.78698535 0.13991126]\n",
      " [0.66694646 0.12061953 0.06507818 0.76251291 0.88918158]\n",
      " [0.91193733 0.43173002 0.99450552 0.1597141  0.72625163]]\n"
     ]
    }
   ],
   "source": [
    "x = np.random.random((5, 5))\n",
    "xmax, xmin = x.max(), x.min()\n",
    "x = (x - xmin) / (xmax - xmin)\n",
    "print(x)"
   ]
  },
  {
   "attachments": {},
   "cell_type": "markdown",
   "metadata": {},
   "source": [
    "23. Create a custom dtype that describes a color as four unsigned bytes (RGBA)"
   ]
  },
  {
   "cell_type": "code",
   "execution_count": 86,
   "metadata": {},
   "outputs": [
    {
     "name": "stderr",
     "output_type": "stream",
     "text": [
      "/var/folders/tv/7k93pwvn05v4jhsnbpfm9ps80000gn/T/ipykernel_4283/128891023.py:1: FutureWarning: Passing (type, 1) or '1type' as a synonym of type is deprecated; in a future version of numpy, it will be understood as (type, (1,)) / '(1,)type'.\n",
      "  x = np.dtype([(\"r\", np.ubyte, 1),\n"
     ]
    }
   ],
   "source": [
    "x = np.dtype([(\"r\", np.ubyte, 1),\n",
    "                (\"b\", np.ubyte, 1),\n",
    "                (\"g\", np.ubyte, 1),\n",
    "                (\"a\", np.ubyte, 1)])"
   ]
  },
  {
   "attachments": {},
   "cell_type": "markdown",
   "metadata": {},
   "source": [
    "24. Multiply a 5x3 matrix by a 3x2 matrix (real matrix product)"
   ]
  },
  {
   "cell_type": "code",
   "execution_count": 200,
   "metadata": {},
   "outputs": [
    {
     "name": "stdout",
     "output_type": "stream",
     "text": [
      "[[3 3]\n",
      " [3 3]\n",
      " [3 3]\n",
      " [3 3]\n",
      " [3 3]]\n"
     ]
    }
   ],
   "source": [
    "x = np.dot(np.ones((5, 3), dtype=int), np.ones((3, 2), dtype=int))\n",
    "print(x)"
   ]
  },
  {
   "attachments": {},
   "cell_type": "markdown",
   "metadata": {},
   "source": [
    "25. Given a 1D array, negate all elements which are between 3 and 8, in place. "
   ]
  },
  {
   "cell_type": "code",
   "execution_count": 91,
   "metadata": {},
   "outputs": [
    {
     "name": "stdout",
     "output_type": "stream",
     "text": [
      "[ 0  1  2  3 -4 -5 -6 -7 -8  9]\n"
     ]
    }
   ],
   "source": [
    "x = np.arange(10)\n",
    "x[(x > 3) & (x <= 8)] *= -1\n",
    "print(x)"
   ]
  },
  {
   "attachments": {},
   "cell_type": "markdown",
   "metadata": {},
   "source": [
    "26. What is the output of the following script?"
   ]
  },
  {
   "cell_type": "code",
   "execution_count": 92,
   "metadata": {},
   "outputs": [
    {
     "name": "stdout",
     "output_type": "stream",
     "text": [
      "9\n",
      "10\n"
     ]
    }
   ],
   "source": [
    "print(sum(range(5),-1))\n",
    "from numpy import *\n",
    "print(sum(range(5),-1))"
   ]
  },
  {
   "attachments": {},
   "cell_type": "markdown",
   "metadata": {},
   "source": [
    "27. Consider an integer vector Z, which of these expressions are legal? "
   ]
  },
  {
   "cell_type": "code",
   "execution_count": null,
   "metadata": {},
   "outputs": [],
   "source": [
    "Z**Z\n",
    "2 << Z >> 2\n",
    "Z <- Z\n",
    "1j*Z\n",
    "Z/1/1 - legal\n",
    "Z<Z>Z"
   ]
  },
  {
   "attachments": {},
   "cell_type": "markdown",
   "metadata": {},
   "source": [
    "28. What are the result of the following expressions?"
   ]
  },
  {
   "cell_type": "code",
   "execution_count": 3,
   "metadata": {},
   "outputs": [
    {
     "name": "stdout",
     "output_type": "stream",
     "text": [
      "nan\n",
      "0\n",
      "[0.]\n"
     ]
    },
    {
     "name": "stderr",
     "output_type": "stream",
     "text": [
      "/var/folders/tv/7k93pwvn05v4jhsnbpfm9ps80000gn/T/ipykernel_4621/3912170336.py:1: RuntimeWarning: invalid value encountered in divide\n",
      "  print(np.array(0) / np.array(0))\n",
      "/var/folders/tv/7k93pwvn05v4jhsnbpfm9ps80000gn/T/ipykernel_4621/3912170336.py:2: RuntimeWarning: divide by zero encountered in floor_divide\n",
      "  print(np.array(0) // np.array(0))\n",
      "/var/folders/tv/7k93pwvn05v4jhsnbpfm9ps80000gn/T/ipykernel_4621/3912170336.py:3: RuntimeWarning: invalid value encountered in cast\n",
      "  print(np.array([np.nan]).astype(int).astype(float))\n"
     ]
    }
   ],
   "source": [
    "print(np.array(0) / np.array(0))\n",
    "print(np.array(0) // np.array(0))\n",
    "print(np.array([np.nan]).astype(int).astype(float))"
   ]
  },
  {
   "attachments": {},
   "cell_type": "markdown",
   "metadata": {},
   "source": [
    "29. How to round away from zero a float array ?"
   ]
  },
  {
   "cell_type": "code",
   "execution_count": 17,
   "metadata": {},
   "outputs": [
    {
     "name": "stdout",
     "output_type": "stream",
     "text": [
      "[-4.  4. -2.  5. -1.]\n"
     ]
    }
   ],
   "source": [
    "Z = np.random.uniform(-5, 5, 5)\n",
    "print(np.copysign(np.ceil(np.abs(Z)), Z))\n"
   ]
  },
  {
   "attachments": {},
   "cell_type": "markdown",
   "metadata": {},
   "source": [
    "30. How to find common values between two arrays?"
   ]
  },
  {
   "cell_type": "code",
   "execution_count": 21,
   "metadata": {},
   "outputs": [
    {
     "name": "stdout",
     "output_type": "stream",
     "text": [
      "[0 3 4 6 7]\n"
     ]
    }
   ],
   "source": [
    "x = np.random.randint(0, 10, 10)\n",
    "y = np.random.randint(0, 10, 10)\n",
    "z = np.intersect1d(x, y)\n",
    "print(z)"
   ]
  },
  {
   "attachments": {},
   "cell_type": "markdown",
   "metadata": {},
   "source": [
    "31. How to ignore all numpy warnings (not recommended)?"
   ]
  },
  {
   "cell_type": "code",
   "execution_count": 26,
   "metadata": {},
   "outputs": [],
   "source": [
    "x = np.seterr(all=\"ignore\")\n",
    "y = np.ones(1) / 0"
   ]
  },
  {
   "attachments": {},
   "cell_type": "markdown",
   "metadata": {},
   "source": [
    "32. Is the following expressions true?"
   ]
  },
  {
   "cell_type": "code",
   "execution_count": 27,
   "metadata": {},
   "outputs": [
    {
     "data": {
      "text/plain": [
       "False"
      ]
     },
     "execution_count": 27,
     "metadata": {},
     "output_type": "execute_result"
    }
   ],
   "source": [
    "np.sqrt(-1) == np.emath.sqrt(-1)"
   ]
  },
  {
   "attachments": {},
   "cell_type": "markdown",
   "metadata": {},
   "source": [
    "33. How to get the dates of yesterday, today and tomorrow?"
   ]
  },
  {
   "cell_type": "code",
   "execution_count": 29,
   "metadata": {},
   "outputs": [
    {
     "name": "stdout",
     "output_type": "stream",
     "text": [
      "2023-03-25\n",
      "2023-03-26\n",
      "2023-03-27\n"
     ]
    }
   ],
   "source": [
    "y = np.datetime64('today') - np.timedelta64(1)\n",
    "t = np.datetime64('today')\n",
    "tt = np.datetime64('today') + np.timedelta64(1)\n",
    "print(y)\n",
    "print(t)\n",
    "print(tt)"
   ]
  },
  {
   "attachments": {},
   "cell_type": "markdown",
   "metadata": {},
   "source": [
    "34. How to get all the dates corresponding to the month of July 2016?"
   ]
  },
  {
   "cell_type": "code",
   "execution_count": 30,
   "metadata": {},
   "outputs": [
    {
     "name": "stdout",
     "output_type": "stream",
     "text": [
      "['2016-07-01' '2016-07-02' '2016-07-03' '2016-07-04' '2016-07-05'\n",
      " '2016-07-06' '2016-07-07' '2016-07-08' '2016-07-09' '2016-07-10'\n",
      " '2016-07-11' '2016-07-12' '2016-07-13' '2016-07-14' '2016-07-15'\n",
      " '2016-07-16' '2016-07-17' '2016-07-18' '2016-07-19' '2016-07-20'\n",
      " '2016-07-21' '2016-07-22' '2016-07-23' '2016-07-24' '2016-07-25'\n",
      " '2016-07-26' '2016-07-27' '2016-07-28' '2016-07-29' '2016-07-30'\n",
      " '2016-07-31']\n"
     ]
    }
   ],
   "source": [
    "x = np.arange('2016-07', '2016-08', dtype='datetime64[D]')\n",
    "print(x)"
   ]
  },
  {
   "attachments": {},
   "cell_type": "markdown",
   "metadata": {},
   "source": [
    "35. How to compute ((A+B)*(-A/2)) in place (without copy)?"
   ]
  },
  {
   "cell_type": "code",
   "execution_count": 202,
   "metadata": {},
   "outputs": [
    {
     "name": "stdout",
     "output_type": "stream",
     "text": [
      "[1. 1. 1.] [2. 2. 2.]\n",
      "[3. 3. 3.]\n",
      "[0.5 0.5 0.5]\n",
      "[-0.5 -0.5 -0.5]\n",
      "[-1.5 -1.5 -1.5]\n"
     ]
    }
   ],
   "source": [
    "a = np.ones(3) * 1\n",
    "b = np.ones(3) * 2\n",
    "print(a, b)\n",
    "print(np.add(a, b, out=b))\n",
    "print(np.divide(a, 2, out=a))\n",
    "print(np.negative(a, out=a))\n",
    "print(np.multiply(a, b, out=a))"
   ]
  },
  {
   "attachments": {},
   "cell_type": "markdown",
   "metadata": {},
   "source": [
    "36. Extract the integer part of a random array of positive numbers using 4 different methods"
   ]
  },
  {
   "cell_type": "code",
   "execution_count": 52,
   "metadata": {},
   "outputs": [
    {
     "name": "stdout",
     "output_type": "stream",
     "text": [
      "[5 3 6 1 7 1 0 3 7 3]\n",
      "[5. 3. 6. 1. 7. 1. 0. 3. 7. 3.]\n",
      "[5. 3. 6. 1. 7. 1. 0. 3. 7. 3.]\n",
      "[5 3 6 1 7 1 0 3 7 3]\n"
     ]
    }
   ],
   "source": [
    "x = np.random.randint(0, 10, 10)\n",
    "\n",
    "print(x // 1)\n",
    "print(np.floor(x))\n",
    "print(np.trunc(x))\n",
    "print(x.astype(int))"
   ]
  },
  {
   "attachments": {},
   "cell_type": "markdown",
   "metadata": {},
   "source": [
    "37. Create a 5x5 matrix with row values ranging from 0 to 4"
   ]
  },
  {
   "cell_type": "code",
   "execution_count": 54,
   "metadata": {},
   "outputs": [
    {
     "name": "stdout",
     "output_type": "stream",
     "text": [
      "[[0 1 2 3 4]\n",
      " [0 1 2 3 4]\n",
      " [0 1 2 3 4]\n",
      " [0 1 2 3 4]\n",
      " [0 1 2 3 4]]\n"
     ]
    }
   ],
   "source": [
    "x = np.zeros((5, 5), dtype=int)\n",
    "x += np.arange(5)\n",
    "print(x)"
   ]
  },
  {
   "attachments": {},
   "cell_type": "markdown",
   "metadata": {},
   "source": [
    "38. Consider a generator function that generates 10 integers and use it to build an array"
   ]
  },
  {
   "cell_type": "code",
   "execution_count": 59,
   "metadata": {},
   "outputs": [
    {
     "name": "stdout",
     "output_type": "stream",
     "text": [
      "[0 1 2 3 4 5 6 7 8 9]\n"
     ]
    }
   ],
   "source": [
    "def generate():\n",
    "    for x in range(10):\n",
    "        yield x\n",
    "y = np.fromiter(generate(), dtype=int, count=-1)\n",
    "print(y)"
   ]
  },
  {
   "attachments": {},
   "cell_type": "markdown",
   "metadata": {},
   "source": [
    "39. Create a vector of size 10 with values ranging from 0 to 1, both excluded "
   ]
  },
  {
   "cell_type": "code",
   "execution_count": 60,
   "metadata": {},
   "outputs": [
    {
     "name": "stdout",
     "output_type": "stream",
     "text": [
      "[0.09090909 0.18181818 0.27272727 0.36363636 0.45454545 0.54545455\n",
      " 0.63636364 0.72727273 0.81818182 0.90909091]\n"
     ]
    }
   ],
   "source": [
    "x = np.linspace(0, 1, 11, endpoint=False)[1:]\n",
    "print(x)"
   ]
  },
  {
   "attachments": {},
   "cell_type": "markdown",
   "metadata": {},
   "source": [
    "40. Create a random vector of size 10 and sort it"
   ]
  },
  {
   "cell_type": "code",
   "execution_count": 62,
   "metadata": {},
   "outputs": [
    {
     "name": "stdout",
     "output_type": "stream",
     "text": [
      "[0.05532529 0.18841542 0.19237827 0.52129273 0.87506206]\n"
     ]
    }
   ],
   "source": [
    "x = np.random.random((5))\n",
    "x.sort()\n",
    "print(x)"
   ]
  },
  {
   "attachments": {},
   "cell_type": "markdown",
   "metadata": {},
   "source": [
    "41. How to sum a small array faster than np.sum? "
   ]
  },
  {
   "cell_type": "code",
   "execution_count": 63,
   "metadata": {},
   "outputs": [
    {
     "name": "stdout",
     "output_type": "stream",
     "text": [
      "45\n"
     ]
    }
   ],
   "source": [
    "x = np.arange(10)\n",
    "print(np.add.reduce(x))"
   ]
  },
  {
   "attachments": {},
   "cell_type": "markdown",
   "metadata": {},
   "source": [
    "42. Consider two random array A and B, check if they are equal"
   ]
  },
  {
   "cell_type": "code",
   "execution_count": 76,
   "metadata": {},
   "outputs": [
    {
     "name": "stdout",
     "output_type": "stream",
     "text": [
      "True\n"
     ]
    }
   ],
   "source": [
    "a = np.random.randint(0, 2, 5)\n",
    "b = np.random.randint(0, 2, 5)\n",
    "\n",
    "x = np.allclose(a, b)\n",
    "print(x)"
   ]
  },
  {
   "attachments": {},
   "cell_type": "markdown",
   "metadata": {},
   "source": [
    "43. Make an array immutable (read-only)"
   ]
  },
  {
   "cell_type": "code",
   "execution_count": 79,
   "metadata": {},
   "outputs": [
    {
     "name": "stdout",
     "output_type": "stream",
     "text": [
      "[0. 0. 0. 0. 0.]\n"
     ]
    },
    {
     "ename": "ValueError",
     "evalue": "assignment destination is read-only",
     "output_type": "error",
     "traceback": [
      "\u001b[0;31m---------------------------------------------------------------------------\u001b[0m",
      "\u001b[0;31mValueError\u001b[0m                                Traceback (most recent call last)",
      "Cell \u001b[0;32mIn[79], line 4\u001b[0m\n\u001b[1;32m      2\u001b[0m x\u001b[39m.\u001b[39mflags\u001b[39m.\u001b[39mwriteable \u001b[39m=\u001b[39m \u001b[39mFalse\u001b[39;00m\n\u001b[1;32m      3\u001b[0m \u001b[39mprint\u001b[39m(x)\n\u001b[0;32m----> 4\u001b[0m x[\u001b[39m0\u001b[39;49m] \u001b[39m=\u001b[39m \u001b[39m1\u001b[39m\n\u001b[1;32m      5\u001b[0m \u001b[39mprint\u001b[39m(x)\n",
      "\u001b[0;31mValueError\u001b[0m: assignment destination is read-only"
     ]
    }
   ],
   "source": [
    "x = np.zeros(5)\n",
    "x.flags.writeable = False\n",
    "print(x)\n",
    "x[0] = 1\n",
    "print(x)"
   ]
  },
  {
   "attachments": {},
   "cell_type": "markdown",
   "metadata": {},
   "source": [
    "44. Consider a random 10x2 matrix representing cartesian coordinates, convert them to polar coordinates"
   ]
  },
  {
   "cell_type": "code",
   "execution_count": 81,
   "metadata": {},
   "outputs": [
    {
     "name": "stdout",
     "output_type": "stream",
     "text": [
      "[0.82158813 0.62462117 0.90041287 0.99083305 1.17087403 0.84155138\n",
      " 0.51823166 0.78604284 0.81678917 0.21068046]\n",
      "[3.86671800e-01 1.22478157e+00 1.56248714e+00 3.24834369e-01\n",
      " 7.19226093e-01 9.11228687e-04 2.19562361e-01 1.18507880e+00\n",
      " 1.09907661e+00 9.24972890e-01]\n"
     ]
    }
   ],
   "source": [
    "x = np.random.random((10, 2))\n",
    "a, b = x[:, 0], x[:, 1]\n",
    "q = np.sqrt(a**2 + b**2)\n",
    "p = np.arctan2(b, a)\n",
    "print(q)\n",
    "print(p)"
   ]
  },
  {
   "attachments": {},
   "cell_type": "markdown",
   "metadata": {},
   "source": [
    "45. Create random vector of size 10 and replace the maximum value by 0"
   ]
  },
  {
   "cell_type": "code",
   "execution_count": 82,
   "metadata": {},
   "outputs": [
    {
     "name": "stdout",
     "output_type": "stream",
     "text": [
      "[0.82127714 0.78397186 0.95957974 0.07943523 0.30558096 0.31682115\n",
      " 0.89032152 0.38712555 0.38074577 0.        ]\n"
     ]
    }
   ],
   "source": [
    "x = np.random.random(10)\n",
    "x[x.argmax()] = 0\n",
    "print(x)"
   ]
  },
  {
   "attachments": {},
   "cell_type": "markdown",
   "metadata": {},
   "source": [
    "46. Create a structured array with x and y coordinates covering the [0,1]x[0,1] area"
   ]
  },
  {
   "cell_type": "code",
   "execution_count": 83,
   "metadata": {},
   "outputs": [
    {
     "name": "stdout",
     "output_type": "stream",
     "text": [
      "[[(0.  , 0.  ) (0.25, 0.  ) (0.5 , 0.  ) (0.75, 0.  ) (1.  , 0.  )]\n",
      " [(0.  , 0.25) (0.25, 0.25) (0.5 , 0.25) (0.75, 0.25) (1.  , 0.25)]\n",
      " [(0.  , 0.5 ) (0.25, 0.5 ) (0.5 , 0.5 ) (0.75, 0.5 ) (1.  , 0.5 )]\n",
      " [(0.  , 0.75) (0.25, 0.75) (0.5 , 0.75) (0.75, 0.75) (1.  , 0.75)]\n",
      " [(0.  , 1.  ) (0.25, 1.  ) (0.5 , 1.  ) (0.75, 1.  ) (1.  , 1.  )]]\n"
     ]
    }
   ],
   "source": [
    "a = np.zeros((5, 5), [('x', float), ('y', float)])\n",
    "a['x'], a['y'] = np.meshgrid(np.linspace(0, 1, 5),\n",
    "                             np.linspace(0, 1, 5))\n",
    "print(a)"
   ]
  },
  {
   "attachments": {},
   "cell_type": "markdown",
   "metadata": {},
   "source": [
    "47. Given two arrays, X and Y, construct the Cauchy matrix C (Cij =1/(xi - yj))"
   ]
  },
  {
   "cell_type": "code",
   "execution_count": 88,
   "metadata": {},
   "outputs": [
    {
     "name": "stdout",
     "output_type": "stream",
     "text": [
      "[[-2.         -0.66666667 -0.4       ]\n",
      " [ 2.         -2.         -0.66666667]\n",
      " [ 0.66666667  2.         -2.        ]]\n"
     ]
    }
   ],
   "source": [
    "x = np.arange(3)\n",
    "z = x + 0.5\n",
    "y = 1.0 / np.subtract.outer(x, z)\n",
    "print(y)"
   ]
  },
  {
   "attachments": {},
   "cell_type": "markdown",
   "metadata": {},
   "source": [
    "48. Print the minimum and maximum representable value for each numpy scalar type"
   ]
  },
  {
   "cell_type": "code",
   "execution_count": 89,
   "metadata": {},
   "outputs": [
    {
     "name": "stdout",
     "output_type": "stream",
     "text": [
      "-128\n",
      "127\n",
      "-2147483648\n",
      "2147483647\n",
      "-9223372036854775808\n",
      "9223372036854775807\n"
     ]
    }
   ],
   "source": [
    "for dtype in [np.int8, np.int32, np.int64]:\n",
    "    print(np.iinfo(dtype).min)\n",
    "    print(np.iinfo(dtype).max)"
   ]
  },
  {
   "attachments": {},
   "cell_type": "markdown",
   "metadata": {},
   "source": [
    "49. How to print all the values of an array?"
   ]
  },
  {
   "cell_type": "code",
   "execution_count": 93,
   "metadata": {},
   "outputs": [
    {
     "name": "stdout",
     "output_type": "stream",
     "text": [
      "[[0 0 0 0 0 0 0 0 0 0 0 0 0 0 0 0]\n",
      " [0 0 0 0 0 0 0 0 0 0 0 0 0 0 0 0]\n",
      " [0 0 0 0 0 0 0 0 0 0 0 0 0 0 0 0]\n",
      " [0 0 0 0 0 0 0 0 0 0 0 0 0 0 0 0]\n",
      " [0 0 0 0 0 0 0 0 0 0 0 0 0 0 0 0]\n",
      " [0 0 0 0 0 0 0 0 0 0 0 0 0 0 0 0]\n",
      " [0 0 0 0 0 0 0 0 0 0 0 0 0 0 0 0]\n",
      " [0 0 0 0 0 0 0 0 0 0 0 0 0 0 0 0]\n",
      " [0 0 0 0 0 0 0 0 0 0 0 0 0 0 0 0]\n",
      " [0 0 0 0 0 0 0 0 0 0 0 0 0 0 0 0]\n",
      " [0 0 0 0 0 0 0 0 0 0 0 0 0 0 0 0]\n",
      " [0 0 0 0 0 0 0 0 0 0 0 0 0 0 0 0]\n",
      " [0 0 0 0 0 0 0 0 0 0 0 0 0 0 0 0]\n",
      " [0 0 0 0 0 0 0 0 0 0 0 0 0 0 0 0]\n",
      " [0 0 0 0 0 0 0 0 0 0 0 0 0 0 0 0]\n",
      " [0 0 0 0 0 0 0 0 0 0 0 0 0 0 0 0]]\n"
     ]
    }
   ],
   "source": [
    "np.set_printoptions(threshold=float(\"inf\"))\n",
    "x = np.zeros((16, 16), dtype=int)\n",
    "print(x)"
   ]
  },
  {
   "attachments": {},
   "cell_type": "markdown",
   "metadata": {},
   "source": [
    "50. How to find the closest value (to a given scalar) in a vector?"
   ]
  },
  {
   "cell_type": "code",
   "execution_count": 99,
   "metadata": {},
   "outputs": [
    {
     "name": "stdout",
     "output_type": "stream",
     "text": [
      "43\n"
     ]
    }
   ],
   "source": [
    "x = np.arange(100)\n",
    "y = np.random.randint(0, 100)\n",
    "i = (np.abs(x - y)).argmin()\n",
    "print(x[i])"
   ]
  },
  {
   "attachments": {},
   "cell_type": "markdown",
   "metadata": {},
   "source": [
    "51. Create a structured array representing a position (x,y) and a color (r,g,b)"
   ]
  },
  {
   "cell_type": "code",
   "execution_count": 105,
   "metadata": {},
   "outputs": [
    {
     "name": "stdout",
     "output_type": "stream",
     "text": [
      "[((0, 0), (0, 0, 0)) ((0, 0), (0, 0, 0)) ((0, 0), (0, 0, 0))\n",
      " ((0, 0), (0, 0, 0)) ((0, 0), (0, 0, 0)) ((0, 0), (0, 0, 0))\n",
      " ((0, 0), (0, 0, 0)) ((0, 0), (0, 0, 0)) ((0, 0), (0, 0, 0))\n",
      " ((0, 0), (0, 0, 0))]\n"
     ]
    },
    {
     "name": "stderr",
     "output_type": "stream",
     "text": [
      "/var/folders/tv/7k93pwvn05v4jhsnbpfm9ps80000gn/T/ipykernel_4621/3208493536.py:1: FutureWarning: Passing (type, 1) or '1type' as a synonym of type is deprecated; in a future version of numpy, it will be understood as (type, (1,)) / '(1,)type'.\n",
      "  x = np.zeros(10, [('position', [('x', int, 1), ('y', int, 1)]),\n"
     ]
    }
   ],
   "source": [
    "x = np.zeros(10, [('position', [('x', int, 1), ('y', int, 1)]),\n",
    "                  ('color', [('r', int, 1), ('g', int, 1), ('b', int, 1)])])\n",
    "print(x)"
   ]
  },
  {
   "attachments": {},
   "cell_type": "markdown",
   "metadata": {},
   "source": [
    "52. Consider a random vector with shape (100,2) representing coordinates, find point by point distances"
   ]
  },
  {
   "cell_type": "code",
   "execution_count": 108,
   "metadata": {},
   "outputs": [
    {
     "name": "stdout",
     "output_type": "stream",
     "text": [
      "[[0.         0.06762477 0.70019281 0.63207381 0.33718733 0.8640631\n",
      "  0.76247494 0.18713939 0.96297963 0.42462021 0.67588704 0.42627663\n",
      "  0.87703517 0.62155026 0.50617803 0.47952445 0.5201375  0.32228317\n",
      "  0.566758   0.34659058 0.76880255 0.79211336 0.75507865 0.46351076\n",
      "  0.3230513  0.62284471 0.28457764 0.7395737  0.83122146 0.27879751\n",
      "  0.45201786 0.18401313 0.10385559 0.75593502 0.32603212 0.54950283\n",
      "  0.35899376 0.80912484 0.55315941 0.14212538 0.64116269 0.41053528\n",
      "  0.46321146 0.36318506 0.11717672 0.28576162 0.54249766 0.36793544\n",
      "  0.14691741 0.82622138 0.50404406 0.81877731 0.43700169 0.24768413\n",
      "  0.16510254 0.23890587 0.33921924 0.39706209 0.3289569  0.64070455\n",
      "  0.0802778  0.1173952  0.70851578 0.68859363 0.52996708 0.8560571\n",
      "  0.60653034 0.5007733  0.62028443 0.21787092 0.24679304 0.12527584\n",
      "  0.74186454 0.11613404 0.92264281 0.29851583 0.17780134 0.87767329\n",
      "  0.60273292 0.4409252  0.46701472 0.63292389 0.83045092 0.28622588\n",
      "  0.24571302 0.31991011 0.49162563 0.22132207 0.32275964 0.49250193\n",
      "  0.6116159  0.56144346 0.59542001 0.72573581 0.79489382 0.72287573\n",
      "  0.21976724 0.97737873 0.13207337 0.92775409]\n",
      " [0.06762477 0.         0.63636872 0.57309814 0.32644501 0.80241715\n",
      "  0.7019406  0.1978834  0.93386391 0.40270009 0.6393158  0.36460626\n",
      "  0.82327738 0.55397283 0.46834495 0.4968134  0.45331987 0.32843508\n",
      "  0.56768835 0.33017961 0.70340421 0.7356885  0.69098114 0.44923127\n",
      "  0.26776677 0.65871164 0.28423703 0.70933796 0.7893943  0.21938976\n",
      "  0.47877005 0.12309141 0.16432448 0.68900361 0.36981101 0.48300516\n",
      "  0.40660006 0.76417447 0.49287298 0.12133755 0.66339871 0.38552399\n",
      "  0.47419834 0.39008647 0.06053767 0.25708313 0.51307595 0.40215404\n",
      "  0.12444145 0.78113583 0.47297002 0.76391476 0.38100419 0.21485639\n",
      "  0.14150094 0.17970058 0.34637784 0.36539349 0.30499422 0.63977513\n",
      "  0.06673213 0.11702166 0.6446997  0.66089629 0.52266458 0.80240676\n",
      "  0.54906148 0.54364223 0.5530883  0.16599823 0.2205085  0.19052229\n",
      "  0.70040822 0.18214575 0.89670385 0.28121059 0.19890374 0.81012702\n",
      "  0.53610157 0.38938509 0.41979512 0.5880494  0.76720583 0.24676142\n",
      "  0.17897169 0.28584331 0.45446466 0.16821787 0.29283733 0.46063612\n",
      "  0.54408531 0.5690135  0.53391335 0.71647668 0.75562231 0.66730538\n",
      "  0.17742477 0.94585052 0.19933796 0.88604089]\n",
      " [0.70019281 0.63636872 0.         0.12850682 0.58752493 0.1772148\n",
      "  0.10830131 0.77688878 0.67269125 0.52473769 0.43101674 0.46805303\n",
      "  0.29819954 0.24639887 0.40184905 0.79588126 0.2090451  0.6680991\n",
      "  0.72603493 0.77486978 0.08777862 0.20015067 0.05543469 0.57950489\n",
      "  0.55071453 1.02255674 0.80560576 0.52555568 0.43528096 0.42450428\n",
      "  0.84039324 0.51638541 0.76801246 0.14465289 0.85705444 0.33750037\n",
      "  0.90160109 0.38210056 0.16522361 0.59854668 0.93277005 0.50561437\n",
      "  0.74671977 0.79026759 0.61640675 0.51614195 0.47456433 0.83288344\n",
      "  0.67945502 0.38960752 0.45834901 0.24190833 0.29214924 0.51886225\n",
      "  0.68066347 0.55036329 0.67747332 0.46656603 0.52367362 0.74972353\n",
      "  0.67854177 0.63932703 0.00833159 0.53004925 0.64829255 0.28508031\n",
      "  0.16271018 0.97890972 0.29039527 0.4936044  0.53995913 0.82546429\n",
      "  0.39628953 0.79899504 0.68004576 0.55952834 0.79544338 0.27824845\n",
      "  0.32522135 0.31784789 0.3351204  0.32606484 0.13183441 0.47523848\n",
      "  0.49201283 0.6779382  0.40940774 0.586031   0.69967208 0.45214717\n",
      "  0.19759689 0.77283619 0.11793696 0.72525228 0.44791826 0.18487928\n",
      "  0.51092027 0.65547119 0.83018824 0.49785157]\n",
      " [0.63207381 0.57309814 0.12850682 0.         0.47385484 0.23890105\n",
      "  0.13371906 0.73559398 0.57317961 0.40294103 0.30892429 0.48494695\n",
      "  0.26724885 0.32233378 0.27520647 0.67382538 0.22408328 0.55581318\n",
      "  0.59857011 0.76306676 0.2150192  0.16867769 0.1722098  0.45476101\n",
      "  0.54351384 0.90022818 0.77932131 0.40643417 0.34263019 0.35384667\n",
      "  0.72177977 0.45002936 0.68731544 0.26931327 0.75137176 0.38846738\n",
      "  0.79534631 0.29278506 0.08287367 0.5150332  0.8065342  0.38548694\n",
      "  0.62437944 0.67717415 0.56445073 0.41350639 0.34625885 0.72127222\n",
      "  0.63702452 0.3042497  0.33135157 0.2043098  0.19811068 0.42388798\n",
      "  0.64156328 0.5220628  0.56358857 0.3494154  0.4131967  0.62124521\n",
      "  0.62395215 0.55558426 0.13334084 0.4058651  0.52109289 0.24822136\n",
      "  0.03581098 0.86341678 0.36479004 0.41604714 0.44225272 0.75609646\n",
      "  0.28710649 0.72074142 0.57300697 0.45162688 0.75013795 0.40638541\n",
      "  0.39307669 0.21078085 0.21703171 0.20153533 0.22189288 0.37849028\n",
      "  0.45554228 0.66816178 0.28370789 0.55633093 0.68924028 0.3258337\n",
      "  0.2689452  0.6461999  0.06129158 0.5981777  0.34447174 0.11106114\n",
      "  0.42549405 0.56112174 0.75720638 0.42028981]\n",
      " [0.33718733 0.32644501 0.58752493 0.47385484 0.         0.70705185\n",
      "  0.60272651 0.51972732 0.63790395 0.10360116 0.37824419 0.57664493\n",
      "  0.65128527 0.63783972 0.23298384 0.22915437 0.49640304 0.08238849\n",
      "  0.24776663 0.65318685 0.67360747 0.59230162 0.63980348 0.12671506\n",
      "  0.5296931  0.44834309 0.61044171 0.42053868 0.54534257 0.2661873\n",
      "  0.25722254 0.27457262 0.31861258 0.69882651 0.28477316 0.61886945\n",
      "  0.32686566 0.53789467 0.42311244 0.20510824 0.39379629 0.10364917\n",
      "  0.18689866 0.2033582  0.37142875 0.10304477 0.23087868 0.247594\n",
      "  0.44989097 0.55469456 0.20233353 0.60486085 0.30209581 0.13925634\n",
      "  0.4660224  0.44527268 0.08998762 0.12618589 0.06727244 0.31644968\n",
      "  0.39168756 0.21992501 0.59465886 0.36533839 0.19630305 0.63093704\n",
      "  0.43885848 0.39142347 0.65926729 0.22545326 0.11914271 0.41991364\n",
      "  0.45908988 0.35491974 0.59291165 0.05221564 0.51416972 0.8401299\n",
      "  0.66129804 0.27000726 0.25707427 0.37564939 0.6957347  0.15147323\n",
      "  0.39238842 0.5943503  0.2182056  0.45581562 0.60603241 0.19559061\n",
      "  0.60185356 0.2618587  0.46988961 0.39035439 0.50081284 0.52314647\n",
      "  0.18753338 0.65680138 0.4058417  0.63783514]\n",
      " [0.8640631  0.80241715 0.1772148  0.23890105 0.70705185 0.\n",
      "  0.10539189 0.9510994  0.62188536 0.6273067  0.45533666 0.64272772\n",
      "  0.19229654 0.40288351 0.49073056 0.89367051 0.3862489  0.78942396\n",
      "  0.7993709  0.9520304  0.16230567 0.14516225 0.13442659 0.67109328\n",
      "  0.7278723  1.11750831 0.98232734 0.53183446 0.39132502 0.58544308\n",
      "  0.94741476 0.68029892 0.92424427 0.24329367 0.98792077 0.50348508\n",
      "  1.03153032 0.34058255 0.3118124  0.75230562 1.01156271 0.61291943\n",
      "  0.84415231 0.90940111 0.78697198 0.65193139 0.54613185 0.95447575\n",
      "  0.85312117 0.34015957 0.54271074 0.16798073 0.43599215 0.66274939\n",
      "  0.85512178 0.7263516  0.79586566 0.58108264 0.64899659 0.80739099\n",
      "  0.84841374 0.79302341 0.1695399  0.55476115 0.72539686 0.19137579\n",
      "  0.27125955 1.09230289 0.44468125 0.65102336 0.68113222 0.98900873\n",
      "  0.39020368 0.9570044  0.64489126 0.68837428 0.96867674 0.31295249\n",
      "  0.48210752 0.44936185 0.45069845 0.37226628 0.06100406 0.61738323\n",
      "  0.66626632 0.85508448 0.50231842 0.76192989 0.87682701 0.54052051\n",
      "  0.36132495 0.85133627 0.26865103 0.7579867  0.42285013 0.19579714\n",
      "  0.6629382  0.59569519 0.99165402 0.42159884]\n",
      " [0.76247494 0.7019406  0.10830131 0.13371906 0.60272651 0.10539189\n",
      "  0.         0.85671128 0.58425038 0.52526109 0.37566896 0.56988295\n",
      "  0.19041981 0.35459339 0.39047273 0.79355805 0.30591177 0.68504492\n",
      "  0.70536728 0.86871884 0.14993941 0.09630294 0.1003846  0.57155503\n",
      "  0.64530446 1.01855189 0.89325718 0.46164561 0.34635912 0.48368337\n",
      "  0.84550971 0.57925116 0.82033254 0.23079977 0.88286182 0.44496358\n",
      "  0.92656424 0.29284011 0.20931556 0.64817711 0.91670826 0.50999091\n",
      "  0.74397889 0.80546698 0.68932825 0.54654008 0.45086207 0.85028483\n",
      "  0.75828224 0.29753342 0.4439988  0.13686236 0.33143028 0.55759647\n",
      "  0.76133785 0.63586005 0.69184923 0.47700157 0.54401922 0.71851224\n",
      "  0.75006856 0.68881584 0.10384993 0.47651798 0.6299082  0.17835727\n",
      "  0.16588238 0.98947503 0.3985298  0.54793476 0.57582282 0.88707306\n",
      "  0.32342254 0.85344308 0.59799614 0.58321746 0.8730331  0.34149491\n",
      "  0.43351432 0.34397948 0.34595667 0.28205493 0.10145168 0.51217416\n",
      "  0.57294616 0.77221527 0.4013212  0.67107671 0.79378484 0.44084261\n",
      "  0.30582778 0.7560369  0.16894983 0.67827946 0.36719472 0.10927159\n",
      "  0.55869602 0.56357443 0.88899515 0.3990021 ]\n",
      " [0.18713939 0.1978834  0.77688878 0.73559398 0.51972732 0.9510994\n",
      "  0.85671128 0.         1.13120924 0.60016086 0.83430002 0.39203548\n",
      "  0.99624049 0.63962677 0.66335032 0.66463587 0.5746585  0.50936814\n",
      "  0.75361691 0.17935071 0.83144114 0.90307601 0.8286578  0.6445915\n",
      "  0.27268964 0.79242418 0.10051121 0.90659694 0.98008361 0.39400714\n",
      "  0.63233087 0.30348267 0.26096411 0.80012533 0.4912415  0.54628767\n",
      "  0.51648941 0.95175821 0.65289132 0.31635368 0.82309905 0.58333658\n",
      "  0.64998316 0.54448573 0.17678212 0.45496122 0.71070142 0.54336069\n",
      "  0.09858788 0.96847744 0.67036781 0.93490048 0.55597133 0.41264752\n",
      "  0.09632657 0.23096431 0.52635266 0.56290869 0.50257401 0.82733553\n",
      "  0.13123738 0.30096028 0.78507789 0.85863023 0.71463599 0.97577836\n",
      "  0.71643847 0.66221959 0.62542305 0.35592318 0.41813647 0.19054528\n",
      "  0.89178902 0.24704528 1.09452547 0.47705528 0.03028621 0.90270339\n",
      "  0.59845034 0.57220862 0.60773647 0.77680727 0.90849762 0.44278075\n",
      "  0.28493186 0.1971342  0.6498797  0.19584875 0.18822063 0.65788855\n",
      "  0.64540048 0.74849563 0.68824821 0.90987769 0.94853297 0.83768765\n",
      "  0.37336257 1.14251344 0.21691678 1.0765037 ]\n",
      " [0.96297963 0.93386391 0.67269125 0.57317961 0.63790395 0.62188536\n",
      "  0.58425038 1.13120924 0.         0.54024445 0.30760868 1.01824579\n",
      "  0.43268558 0.89549635 0.47249048 0.65742482 0.78404189 0.69000675\n",
      "  0.50682995 1.2262854  0.73403586 0.49146585 0.68386171 0.51568769\n",
      "  1.03797521 0.81103071 1.2084262  0.22463658 0.2381543  0.76152384\n",
      "  0.73156335 0.83529792 0.95647879 0.81250877 0.86680711 0.9543123\n",
      "  0.89513801 0.29173052 0.62171689 0.82129966 0.66756594 0.552593\n",
      "  0.62459873 0.75696352 0.96029259 0.67824474 0.4210411  0.79941873\n",
      "  1.0445915  0.28687618 0.46089631 0.45740967 0.63081165 0.71921827\n",
      "  1.05693833 0.98144431 0.6813368  0.56847933 0.63409262 0.45427923\n",
      "  1.00012874 0.84772061 0.6724982  0.27450159 0.48441176 0.43072969\n",
      "  0.5576155  0.86682792 0.93771574 0.77930407 0.71664073 1.05698292\n",
      "  0.28833982 0.99282345 0.06152181 0.66692854 1.13234832 0.92349613\n",
      "  0.96470548 0.59473916 0.54795343 0.39947676 0.66557322 0.68888188\n",
      "  0.91119015 1.14441887 0.48454344 1.00714945 1.1621425  0.47332071\n",
      "  0.84210913 0.55617188 0.63004447 0.34059424 0.22879865 0.48782244\n",
      "  0.75808799 0.04033351 1.04366389 0.2074312 ]\n",
      " [0.42462021 0.40270009 0.52473769 0.40294103 0.10360116 0.6273067\n",
      "  0.52526109 0.60016086 0.54024445 0.         0.27468857 0.59637407\n",
      "  0.55605355 0.61250843 0.13911389 0.27120513 0.46867713 0.17715479\n",
      "  0.2261843  0.7185249  0.61236964 0.5042304  0.57392927 0.06655808\n",
      "  0.56925143 0.49785831 0.68536305 0.31973607 0.44198813 0.28500098\n",
      "  0.3202559  0.32502752 0.41795023 0.64797126 0.38080582 0.61114124\n",
      "  0.4208036  0.43593228 0.3659521  0.28468671 0.41496623 0.02523172\n",
      "  0.22198238 0.28759233 0.43898561 0.14735207 0.12736452 0.3342032\n",
      "  0.52159275 0.45259177 0.10001798 0.51302714 0.26065476 0.19124481\n",
      "  0.5362297  0.49228868 0.17778707 0.07032575 0.09775329 0.27898377\n",
      "  0.46938989 0.30817915 0.53116341 0.26600874 0.15306506 0.53612946\n",
      "  0.36715076 0.46530688 0.63976718 0.26912418 0.18221513 0.51713177\n",
      "  0.35628195 0.45466644 0.49820005 0.12676716 0.59800943 0.79027037\n",
      "  0.64773089 0.21945312 0.19030586 0.27894022 0.62235578 0.17666281\n",
      "  0.43046063 0.65028154 0.12593105 0.50912551 0.6643768  0.0950969\n",
      "  0.57053845 0.26090772 0.41020879 0.32543884 0.39722348 0.43713841\n",
      "  0.23762903 0.55722623 0.5047582  0.53424709]\n",
      " [0.67588704 0.6393158  0.43101674 0.30892429 0.37824419 0.45533666\n",
      "  0.37566896 0.83430002 0.30760868 0.27468857 0.         0.71408599\n",
      "  0.32233237 0.61934518 0.17102034 0.48731422 0.49377697 0.4487446\n",
      "  0.363692   0.92060704 0.5102336  0.31104748 0.46098698 0.28068756\n",
      "  0.73039192 0.69555653 0.9068317  0.10005238 0.16793503 0.45553376\n",
      "  0.55427491 0.5336405  0.68591552 0.57540634 0.64856229 0.66371695\n",
      "  0.68561044 0.17083281 0.33476382 0.53412884 0.57355313 0.27797895\n",
      "  0.44129221 0.54667695 0.66019229 0.3911983  0.14828172 0.59338793\n",
      "  0.74422329 0.18597902 0.17748157 0.30023329 0.32433806 0.4282576\n",
      "  0.75556989 0.67462003 0.44615407 0.28001637 0.35440935 0.35754385\n",
      "  0.70435118 0.56548862 0.43375622 0.10086478 0.30032182 0.30603761\n",
      "  0.28289686 0.70273008 0.65872673 0.47891946 0.43048501 0.78079146\n",
      "  0.08805108 0.72285785 0.287179   0.3928785  0.83807726 0.70667354\n",
      "  0.68119571 0.28722271 0.24037287 0.10836092 0.47546658 0.39258194\n",
      "  0.60410948 0.83740466 0.18488632 0.70110673 0.85539413 0.18681678\n",
      "  0.56699869 0.41898261 0.35518783 0.30323906 0.12267671 0.26654418\n",
      "  0.46189891 0.31186611 0.77122078 0.25964422]\n",
      " [0.42627663 0.36460626 0.46805303 0.48494695 0.57664493 0.64272772\n",
      "  0.56988295 0.39203548 1.01824579 0.59637407 0.71408599 0.\n",
      "  0.74680391 0.26631342 0.57137507 0.79728077 0.26529354 0.62164563\n",
      "  0.81575483 0.32369727 0.49500026 0.64472191 0.50890628 0.6615794\n",
      "  0.11934679 0.99320884 0.37893709 0.80979323 0.8101065  0.31346585\n",
      "  0.80151374 0.31748033 0.5283867  0.44239347 0.72411782 0.16198884\n",
      "  0.76423522 0.76620479 0.41189093 0.42715759 0.96655084 0.57146853\n",
      "  0.76079607 0.71861404 0.30910137 0.47407586 0.64924961 0.74234481\n",
      "  0.31777531 0.78005512 0.60988648 0.68441799 0.39079014 0.43873686\n",
      "  0.30787292 0.1878505  0.63906598 0.52946833 0.51954894 0.87480767\n",
      "  0.35943562 0.45231898 0.47500156 0.78099652 0.74825695 0.72936198\n",
      "  0.48358836 0.89289577 0.24211111 0.35433471 0.4617066  0.5270719\n",
      "  0.73529418 0.54181839 1.00123762 0.52498766 0.41964484 0.5229971\n",
      "  0.21057864 0.4318054  0.48085491 0.6192632  0.58879602 0.42857911\n",
      "  0.19791713 0.23011848 0.56490993 0.21205823 0.25113729 0.59665928\n",
      "  0.28937434 0.8375218  0.42445247 0.91352953 0.7972423  0.59574126\n",
      "  0.39315932 1.01563333 0.5450685  0.89726979]\n",
      " [0.87703517 0.82327738 0.29819954 0.26724885 0.65128527 0.19229654\n",
      "  0.19041981 0.99624049 0.43268558 0.55605355 0.32233237 0.74680391\n",
      "  0.         0.54455589 0.41861579 0.80186938 0.48176091 0.73137898\n",
      "  0.68551305 1.0302645  0.33021247 0.10223141 0.28531719 0.58373369\n",
      "  0.81056074 1.01604367 1.04461456 0.37583253 0.21233979 0.605661\n",
      "  0.86453446 0.70122484 0.9177592  0.41415271 0.93548945 0.63182268\n",
      "  0.97642843 0.16895268 0.34886796 0.74769737 0.89588236 0.54864451\n",
      "  0.75391826 0.84321737 0.82193816 0.62298192 0.44809091 0.89000257\n",
      "  0.89806604 0.1628164  0.45883623 0.06297703 0.44266356 0.64578785\n",
      "  0.90385586 0.78808831 0.73357819 0.52882116 0.60516603 0.67843874\n",
      "  0.87900999 0.78637852 0.29416238 0.41165145 0.61902796 0.02104531\n",
      "  0.28075061 1.0131131  0.58858168 0.65937494 0.65852485 0.99745025\n",
      "  0.23984251 0.95331219 0.46036179 0.64667134 1.00880378 0.50329912\n",
      "  0.62310174 0.43638337 0.41673409 0.27715004 0.2434801  0.60095241\n",
      "  0.72038463 0.93540809 0.4331682  0.82189973 0.95648829 0.46137502\n",
      "  0.49489387 0.74048498 0.3245546  0.61016612 0.25330679 0.15901591\n",
      "  0.66010403 0.40479136 0.99489123 0.229646  ]\n",
      " [0.62155026 0.55397283 0.24639887 0.32233378 0.63783972 0.40288351\n",
      "  0.35459339 0.63962677 0.89549635 0.61250843 0.61934518 0.26631342\n",
      "  0.54455589 0.         0.528738   0.86601457 0.1438313  0.70647292\n",
      "  0.8367103  0.58998842 0.24335091 0.44541061 0.2705232  0.67747569\n",
      "  0.37581425 1.08548751 0.64119103 0.71923785 0.66372892 0.39416943\n",
      "  0.89223182 0.4573628  0.71176623 0.17872576 0.8614061  0.10721172\n",
      "  0.90546492 0.61252203 0.28537315 0.5652702  1.02414353 0.58834402\n",
      "  0.82081519 0.82308309 0.51344081 0.54192947 0.61169695 0.85806085\n",
      "  0.55176101 0.62255949 0.58182003 0.48727142 0.3529469  0.52438024\n",
      "  0.54676951 0.41153819 0.72066783 0.54306233 0.57090538 0.87861036\n",
      "  0.57416424 0.60184969 0.25080694 0.70862147 0.75993502 0.53103971\n",
      "  0.33990557 1.01195144 0.04410849 0.46282271 0.549322   0.73992963\n",
      "  0.60865313 0.73488172 0.89384972 0.59455666 0.66424532 0.26311803\n",
      "  0.07958985 0.39675012 0.43781054 0.51152397 0.34386101 0.49240365\n",
      "  0.37796676 0.49567639 0.52951262 0.445058   0.51696329 0.57122689\n",
      "  0.05338862 0.87336014 0.26663704 0.88299407 0.66674321 0.41789586\n",
      "  0.49480708 0.88314558 0.75219141 0.73579955]\n",
      " [0.50617803 0.46834495 0.40184905 0.27520647 0.23298384 0.49073056\n",
      "  0.39047273 0.66335032 0.47249048 0.13911389 0.17102034 0.57137507\n",
      "  0.41861579 0.528738   0.         0.40316792 0.38864871 0.3127745\n",
      "  0.32447143 0.75398301 0.48939925 0.36521461 0.44738747 0.18116073\n",
      "  0.5727514  0.62816018 0.73698552 0.24973415 0.32659557 0.29002179\n",
      "  0.45730927 0.3635824  0.52244516 0.53447412 0.51687367 0.54937965\n",
      "  0.55794288 0.31080426 0.25535546 0.36503937 0.53133072 0.13002953\n",
      "  0.35360278 0.4264932  0.48968809 0.22380337 0.08328653 0.47295976\n",
      "  0.57385177 0.32791714 0.0566821  0.37413789 0.18648064 0.25858526\n",
      "  0.58555691 0.51058962 0.3153866  0.1157165  0.19337372 0.35421866\n",
      "  0.53333117 0.39805844 0.40747478 0.21191623 0.24653222 0.39841498\n",
      "  0.23975985 0.60364119 0.56217807 0.30832643 0.26287304 0.61418346\n",
      "  0.23738252 0.55927353 0.44323562 0.23430223 0.66706835 0.67565619\n",
      "  0.57721162 0.14194779 0.09400501 0.14275268 0.48951516 0.22167993\n",
      "  0.44119841 0.67367824 0.01535024 0.53520418 0.69085576 0.05075265\n",
      "  0.4810576  0.37108413 0.29411526 0.35598027 0.28872985 0.29867455\n",
      "  0.29092021 0.48056553 0.60615155 0.42262996]\n",
      " [0.47952445 0.4968134  0.79588126 0.67382538 0.22915437 0.89367051\n",
      "  0.79355805 0.66463587 0.65742482 0.27120513 0.48731422 0.79728077\n",
      "  0.80186938 0.86601457 0.40316792 0.         0.72369304 0.17644651\n",
      "  0.15093311 0.8238484  0.8834584  0.76383961 0.84509633 0.22268947\n",
      "  0.73725958 0.22667577 0.76370432 0.48217876 0.64746489 0.49257087\n",
      "  0.0741504  0.48364369 0.4127487  0.91684468 0.22998078 0.84771953\n",
      "  0.24684482 0.65806209 0.63583108 0.3867623  0.16995344 0.29063384\n",
      "  0.04958189 0.1291032  0.55285295 0.33022727 0.35444767 0.15652265\n",
      "  0.61853284 0.67284056 0.35133572 0.76685545 0.52299634 0.35990543\n",
      "  0.63642523 0.64846441 0.15860132 0.33213996 0.29536023 0.21502005\n",
      "  0.55265899 0.37989999 0.802345   0.42621461 0.18875734 0.78339898\n",
      "  0.63801536 0.21708906 0.88822286 0.44296806 0.33608444 0.51209754\n",
      "  0.57534629 0.43976638 0.6003005  0.27686646 0.65021362 1.05903769\n",
      "  0.89044496 0.48564636 0.46101489 0.53011917 0.89199092 0.37973277\n",
      "  0.60532081 0.78168466 0.3923031  0.65172226 0.78955519 0.35315128\n",
      "  0.82857015 0.10890684 0.6807973  0.32997144 0.59678952 0.70004148\n",
      "  0.40415955 0.68731544 0.48917198 0.72591442]\n",
      " [0.5201375  0.45331987 0.2090451  0.22408328 0.49640304 0.3862489\n",
      "  0.30591177 0.5746585  0.78404189 0.46867713 0.49377697 0.26529354\n",
      "  0.48176091 0.1438313  0.38864871 0.72369304 0.         0.56733143\n",
      "  0.6930298  0.56584622 0.25681999 0.37959191 0.25677256 0.53369015\n",
      "  0.34170255 0.94466511 0.59790171 0.59364806 0.56173207 0.26561456\n",
      "  0.7522084  0.34272684 0.60105239 0.23584458 0.73104383 0.17056325\n",
      "  0.77557767 0.51408987 0.16232552 0.44285814 0.88068013 0.4445268\n",
      "  0.67800493 0.68585486 0.42375208 0.40300538 0.47191626 0.72263255\n",
      "  0.47899295 0.52654532 0.44040925 0.41960144 0.20943385 0.38933948\n",
      "  0.4784083  0.34510569 0.5808774  0.39926744 0.4292218  0.73589893\n",
      "  0.48640206 0.48172811 0.21672568 0.57743398 0.61642582 0.46460729\n",
      "  0.22944635 0.87579271 0.17376023 0.33690571 0.41386579 0.64368314\n",
      "  0.49583983 0.62799341 0.7760255  0.4548116  0.59513782 0.36361111\n",
      "  0.1896296  0.25366301 0.29624377 0.38867709 0.33765575 0.35418397\n",
      "  0.29226481 0.4689322  0.38840039 0.38082586 0.49065601 0.42940523\n",
      "  0.10586925 0.72953363 0.16279251 0.74434367 0.55658846 0.33329329\n",
      "  0.36495781 0.77607251 0.652195   0.64332749]\n",
      " [0.32228317 0.32843508 0.6680991  0.55581318 0.08238849 0.78942396\n",
      "  0.68504492 0.50936814 0.69000675 0.17715479 0.4487446  0.62164563\n",
      "  0.73137898 0.70647292 0.3127745  0.17644651 0.56733143 0.\n",
      "  0.24487713 0.65842926 0.75367907 0.67420028 0.72081664 0.17577719\n",
      "  0.56110256 0.38046575 0.60543803 0.48023529 0.6166631  0.32167379\n",
      "  0.18627549 0.30720115 0.27917148 0.77624549 0.20415116 0.67942739\n",
      "  0.24533686 0.61271567 0.50322721 0.21296727 0.34639132 0.18275075\n",
      "  0.14660405 0.12220737 0.38160265 0.1645604  0.30049389 0.16545922\n",
      "  0.45239332 0.62927416 0.27709303 0.68603544 0.38002061 0.18726325\n",
      "  0.46978821 0.47269745 0.01822656 0.20854876 0.14456513 0.31934719\n",
      "  0.38873424 0.21219854 0.67534605 0.42329692 0.21778733 0.71118858\n",
      "  0.52094004 0.3120749  0.72515979 0.26774078 0.16258384 0.38300234\n",
      "  0.53237181 0.3130012  0.64096413 0.1127004  0.49914931 0.91684755\n",
      "  0.72436412 0.35025482 0.33925893 0.45481675 0.77770523 0.21411686\n",
      "  0.42890342 0.6100921  0.29835149 0.47730262 0.61922021 0.27205541\n",
      "  0.67318461 0.24078077 0.55025761 0.41178165 0.57031195 0.60525015\n",
      "  0.22910077 0.71212334 0.36495259 0.7070032 ]\n",
      " [0.566758   0.56768835 0.72603493 0.59857011 0.24776663 0.7993709\n",
      "  0.70536728 0.75361691 0.50682995 0.2261843  0.363692   0.81575483\n",
      "  0.68551305 0.8367103  0.32447143 0.15093311 0.6930298  0.24487713\n",
      "  0.         0.89730483 0.81338346 0.66139578 0.7702464  0.15989534\n",
      "  0.77629088 0.33289758 0.84859784 0.34149555 0.51378474 0.50228914\n",
      "  0.22504393 0.52201655 0.52028775 0.85847485 0.37232694 0.83729101\n",
      "  0.39459838 0.53110736 0.57744381 0.44762075 0.21241004 0.25122169\n",
      "  0.12519089 0.26354604 0.61656435 0.34491172 0.2546018  0.30060236\n",
      "  0.69211431 0.54457671 0.2678187  0.65806241 0.48379125 0.38532615\n",
      "  0.70894085 0.69283394 0.22873123 0.29650909 0.2968356  0.07498619\n",
      "  0.63050713 0.45401589 0.73148336 0.28829086 0.07819459 0.66853792\n",
      "  0.56351192 0.36207007 0.86512312 0.47118238 0.36665942 0.62368565\n",
      "  0.44989468 0.55209238 0.44941805 0.29930811 0.74394935 0.99996381\n",
      "  0.87377001 0.44055206 0.40384444 0.42735129 0.80641314 0.38759319\n",
      "  0.63810111 0.84158644 0.31820928 0.70353205 0.85276356 0.2748979\n",
      "  0.79312858 0.0557403  0.61805169 0.18184484 0.46251844 0.60358173\n",
      "  0.43417474 0.5373298  0.6036602  0.5859863 ]\n",
      " [0.34659058 0.33017961 0.77486978 0.76306676 0.65318685 0.9520304\n",
      "  0.86871884 0.17935071 1.2262854  0.7185249  0.92060704 0.32369727\n",
      "  1.0302645  0.58998842 0.75398301 0.8238484  0.56584622 0.65842926\n",
      "  0.89730483 0.         0.81273053 0.93098258 0.82092378 0.77161319\n",
      "  0.22415819 0.96612117 0.0920184  1.00349681 1.05003931 0.46507839\n",
      "  0.798608   0.39565711 0.43453511 0.76502592 0.66574194 0.48512912\n",
      "  0.6932174  1.0145448  0.68163737 0.44971075 0.98740788 0.6981368\n",
      "  0.80363818 0.70975315 0.28183599 0.57147143 0.81433838 0.71340876\n",
      "  0.20605143 1.03036212 0.77269192 0.96736216 0.61156251 0.52750923\n",
      "  0.18868512 0.24833767 0.67628325 0.66912292 0.62207741 0.96869156\n",
      "  0.27119093 0.44634886 0.78249184 0.96123759 0.84916068 1.01097703\n",
      "  0.75160946 0.83850613 0.56467605 0.45254812 0.53971012 0.3698873\n",
      "  0.96536055 0.42441584 1.19627242 0.60497769 0.20622182 0.84480082\n",
      "  0.53110615 0.63900735 0.68216285 0.84666256 0.90182625 0.54623986\n",
      "  0.31938385 0.09697112 0.74244776 0.21960353 0.07520799 0.75939024\n",
      "  0.610283   0.89912973 0.70765354 1.04028891 1.02550206 0.87226498\n",
      "  0.48107088 1.23247315 0.39626016 1.14424027]\n",
      " [0.76880255 0.70340421 0.08777862 0.2150192  0.67360747 0.16230567\n",
      "  0.14993941 0.83144114 0.73403586 0.61236964 0.5102336  0.49500026\n",
      "  0.33021247 0.24335091 0.48939925 0.8834584  0.25681999 0.75367907\n",
      "  0.81338346 0.81273053 0.         0.24510189 0.05060513 0.66728208\n",
      "  0.58998168 1.11013168 0.851566   0.60188979 0.49599896 0.49787785\n",
      "  0.92734966 0.58639207 0.84171904 0.08411106 0.94024671 0.34720073\n",
      "  0.98490993 0.44243107 0.25051224 0.67460819 1.02046539 0.59305975\n",
      "  0.83434233 0.87588644 0.67836088 0.59945637 0.56124032 0.91802036\n",
      "  0.73576111 0.44743409 0.54582791 0.28384858 0.37547672 0.59973926\n",
      "  0.73521373 0.60148042 0.76345691 0.55359685 0.60912556 0.8359138\n",
      "  0.74097826 0.7151547  0.08192549 0.61037306 0.73573988 0.32181694\n",
      "  0.24987229 1.06502058 0.28391872 0.5684764  0.62159174 0.89370118\n",
      "  0.46764882 0.87145347 0.7465467  0.64417638 0.8519299  0.1965718\n",
      "  0.32173827 0.40361875 0.42254415 0.40791864 0.10171679 0.5570288\n",
      "  0.54872943 0.71605359 0.49710754 0.63714968 0.73781551 0.53977648\n",
      "  0.20671433 0.86045129 0.20381623 0.80810372 0.51485234 0.25152396\n",
      "  0.58853443 0.71350842 0.90007933 0.54783096]\n",
      " [0.79211336 0.7356885  0.20015067 0.16867769 0.59230162 0.14516225\n",
      "  0.09630294 0.90307601 0.49146585 0.5042304  0.31104748 0.64472191\n",
      "  0.10223141 0.44541061 0.36521461 0.76383961 0.37959191 0.67420028\n",
      "  0.66139578 0.93098258 0.24510189 0.         0.19636999 0.54156024\n",
      "  0.71021688 0.98480645 0.94798822 0.38683607 0.25494796 0.51656493\n",
      "  0.82151304 0.61279824 0.83959655 0.32692293 0.87674293 0.53041126\n",
      "  0.91915931 0.20209268 0.25140919 0.66781023 0.87379601 0.49294058\n",
      "  0.71469051 0.79091871 0.73051385 0.55137605 0.41126683 0.83705209\n",
      "  0.80458848 0.20479414 0.41309266 0.04186089 0.3551561  0.56957969\n",
      "  0.80955146 0.69073398 0.6785762  0.46668566 0.53995377 0.66552681\n",
      "  0.78900462 0.70749915 0.19705892 0.40991608 0.58935936 0.08621463\n",
      "  0.18714272 0.96858476 0.48951568 0.57437918 0.58467637 0.91453019\n",
      "  0.24533092 0.87432199 0.50858978 0.5809173  0.91687868 0.43204414\n",
      "  0.52330818 0.35547245 0.34392379 0.23495478 0.17636315 0.52404349\n",
      "  0.62411487 0.83565034 0.37836263 0.72500374 0.85686273 0.41282055\n",
      "  0.39484424 0.71451342 0.22373735 0.61313108 0.28122883 0.07076361\n",
      "  0.57884245 0.46930827 0.91368563 0.30288763]\n",
      " [0.75507865 0.69098114 0.05543469 0.1722098  0.63980348 0.13442659\n",
      "  0.1003846  0.8286578  0.68386171 0.57392927 0.46098698 0.50890628\n",
      "  0.28531719 0.2705232  0.44738747 0.84509633 0.25677256 0.72081664\n",
      "  0.7702464  0.82092378 0.05060513 0.19636999 0.         0.62684585\n",
      "  0.59694773 1.07167515 0.85466556 0.55188929 0.4457572  0.4798185\n",
      "  0.89126456 0.57138563 0.82340788 0.13056394 0.91117819 0.36940174\n",
      "  0.9556602  0.39217749 0.21914542 0.65398001 0.97869186 0.55558237\n",
      "  0.79575238 0.84288199 0.66998186 0.57037572 0.51691933 0.88588523\n",
      "  0.73164115 0.39745161 0.50342479 0.23604388 0.34664153 0.57384407\n",
      "  0.7323493  0.60082544 0.72979099 0.51761347 0.57661721 0.790582\n",
      "  0.7322718  0.69476134 0.04728304 0.56137575 0.69298186 0.2755448\n",
      "  0.20784194 1.03094461 0.31324409 0.54901884 0.59474993 0.88033351\n",
      "  0.41715481 0.85432139 0.69599566 0.61302998 0.84776945 0.24654436\n",
      "  0.35007788 0.37082558 0.38548435 0.35986393 0.0809691  0.53002497\n",
      "  0.54408141 0.72396055 0.45589075 0.63655008 0.74573763 0.49803616\n",
      "  0.22722955 0.8182853  0.17178478 0.76005167 0.46425758 0.20097264\n",
      "  0.56631352 0.66372538 0.88527557 0.49924626]\n",
      " [0.46351076 0.44923127 0.57950489 0.45476101 0.12671506 0.67109328\n",
      "  0.57155503 0.6445915  0.51568769 0.06655808 0.28068756 0.6615794\n",
      "  0.58373369 0.67747569 0.18116073 0.22268947 0.53369015 0.17577719\n",
      "  0.15989534 0.77161319 0.66728208 0.54156024 0.62684585 0.\n",
      "  0.6307873  0.44701133 0.73341155 0.30456973 0.44775075 0.34913114\n",
      "  0.28108805 0.38214945 0.44312136 0.70682022 0.36900731 0.67760808\n",
      "  0.40513681 0.44963801 0.42456029 0.32848779 0.35445232 0.0917618\n",
      "  0.17329538 0.2659911  0.49024211 0.20183488 0.13646116 0.31273005\n",
      "  0.57108987 0.46552359 0.1286684  0.5459132  0.32483505 0.24535054\n",
      "  0.58654711 0.55155182 0.16958146 0.13677006 0.15098299 0.21324041\n",
      "  0.51530705 0.34612934 0.58555137 0.24753163 0.08682419 0.5646546\n",
      "  0.41903247 0.42944795 0.70540196 0.32761358 0.23190804 0.54540813\n",
      "  0.3673674  0.47892683 0.468552   0.16802774 0.63998402 0.84897076\n",
      "  0.7138747  0.28238173 0.24890225 0.30894227 0.67066166 0.23767504\n",
      "  0.491834   0.70709485 0.17124069 0.56644747 0.72031379 0.13072571\n",
      "  0.63466378 0.19722515 0.46734413 0.268685   0.39960614 0.47736591\n",
      "  0.29360442 0.53681202 0.53035024 0.53523503]\n",
      " [0.3230513  0.26776677 0.55071453 0.54351384 0.5296931  0.7278723\n",
      "  0.64530446 0.27268964 1.03797521 0.56925143 0.73039192 0.11934679\n",
      "  0.81056074 0.37581425 0.5727514  0.73725958 0.34170255 0.56110256\n",
      "  0.77629088 0.22415819 0.58998168 0.71021688 0.59694773 0.6307873\n",
      "  0.         0.91879188 0.26549616 0.82046189 0.84601195 0.28780836\n",
      "  0.73180348 0.25575742 0.42683405 0.54615931 0.63661021 0.27660731\n",
      "  0.67419747 0.8068348  0.46359352 0.35298478 0.90712424 0.545685\n",
      "  0.70580248 0.64535076 0.2081339  0.43181331 0.64335859 0.66349724\n",
      "  0.2015146  0.82197579 0.60208819 0.74758378 0.40923105 0.39100342\n",
      "  0.19020487 0.0904555  0.57918366 0.50843746 0.48138293 0.84112469\n",
      "  0.24993462 0.3702738  0.55833365 0.78456405 0.71541066 0.79172174\n",
      "  0.53480385 0.80933789 0.35670977 0.30515005 0.41066651 0.4142699\n",
      "  0.76488772 0.43595084 1.01422623 0.47757907 0.30036045 0.63690396\n",
      "  0.32754715 0.44326315 0.49024771 0.64607332 0.67788556 0.39318374\n",
      "  0.1389533  0.12722993 0.56352041 0.1018173  0.14895756 0.58853554\n",
      "  0.39034139 0.7907709  0.48648343 0.89401121 0.82633614 0.65384306\n",
      "  0.34226975 1.03996514 0.43392645 0.93784873]\n",
      " [0.62284471 0.65871164 1.02255674 0.90022818 0.44834309 1.11750831\n",
      "  1.01855189 0.79242418 0.81103071 0.49785831 0.69555653 0.99320884\n",
      "  1.01604367 1.08548751 0.62816018 0.22667577 0.94466511 0.38046575\n",
      "  0.33289758 0.96612117 1.11013168 0.98480645 1.07167515 0.44701133\n",
      "  0.91879188 0.         0.89267284 0.67199649 0.84624983 0.70169893\n",
      "  0.19430084 0.67574048 0.53197829 1.14276714 0.30120982 1.05968282\n",
      "  0.28062824 0.86390236 0.86224631 0.56760334 0.14493705 0.51721661\n",
      "  0.27592448 0.27466138 0.71876594 0.54418664 0.57355536 0.25655886\n",
      "  0.76959315 0.87745975 0.57487933 0.9851312  0.74764806 0.56717529\n",
      "  0.78782322 0.82834721 0.365333   0.55817    0.51560113 0.36184906\n",
      "  0.70246937 0.54868386 1.02901452 0.62044323 0.39721111 0.99845758\n",
      "  0.86441814 0.13972137 1.10528136 0.64397715 0.54223613 0.61242519\n",
      "  0.7823922  0.54662051 0.75010396 0.4911306  0.77153203 1.28484143\n",
      "  1.10482987 0.71139674 0.68766115 0.74996476 1.11759389 0.59401855\n",
      "  0.79619365 0.94151557 0.61785493 0.82466965 0.94542492 0.57770967\n",
      "  1.0501862  0.27718248 0.90737936 0.47076868 0.79496315 0.92280182\n",
      "  0.60621337 0.84612148 0.58594295 0.91534716]\n",
      " [0.28457764 0.28423703 0.80560576 0.77932131 0.61044171 0.98232734\n",
      "  0.89325718 0.10051121 1.2084262  0.68536305 0.9068317  0.37893709\n",
      "  1.04461456 0.64119103 0.73698552 0.76370432 0.59790171 0.60543803\n",
      "  0.84859784 0.0920184  0.851566   0.94798822 0.85466556 0.73341155\n",
      "  0.26549616 0.89267284 0.         0.98403149 1.04569991 0.4555148\n",
      "  0.7325718  0.37340388 0.36145245 0.81107985 0.59146387 0.54025301\n",
      "  0.61596952 1.01392465 0.69660936 0.40542623 0.92317259 0.6669816\n",
      "  0.74769519 0.64454348 0.24845388 0.53841478 0.79028908 0.64385948\n",
      "  0.16436318 1.03027858 0.74919573 0.98224566 0.61217516 0.49497546\n",
      "  0.15149266 0.25766094 0.62274032 0.64277853 0.58766024 0.92170209\n",
      "  0.21884698 0.39461113 0.81354915 0.93834624 0.80644924 1.02465813\n",
      "  0.76391742 0.76179264 0.62054401 0.42912556 0.50339882 0.28659288\n",
      "  0.95876006 0.34664293 1.17448269 0.56538457 0.12220717 0.90135104\n",
      "  0.58950511 0.63403753 0.6735144  0.8415333  0.93550278 0.52038178\n",
      "  0.32423531 0.15279391 0.7243014  0.22300424 0.13499985 0.73629448\n",
      "  0.65512373 0.8455361  0.72748716 1.00065785 1.01726677 0.8856239\n",
      "  0.45200699 1.21755018 0.31339997 1.14138464]\n",
      " [0.7395737  0.70933796 0.52555568 0.40643417 0.42053868 0.53183446\n",
      "  0.46164561 0.90659694 0.22463658 0.31973607 0.10005238 0.80979323\n",
      "  0.37583253 0.71923785 0.24973415 0.48217876 0.59364806 0.48023529\n",
      "  0.34149555 1.00349681 0.60188979 0.38683607 0.55188929 0.30456973\n",
      "  0.82046189 0.67199649 0.98403149 0.         0.17762846 0.53972792\n",
      "  0.55401071 0.61114546 0.73765853 0.67020852 0.66973761 0.76340576\n",
      "  0.70275401 0.20786507 0.43480838 0.59762873 0.53934857 0.33010877\n",
      "  0.44119935 0.56242941 0.73578944 0.45424846 0.1970809  0.6076633\n",
      "  0.820085   0.21745618 0.23639712 0.36800609 0.41904739 0.49482953\n",
      "  0.83256468 0.76024309 0.47398905 0.34401948 0.4112043  0.31521442\n",
      "  0.77554553 0.62514875 0.52773567 0.05761186 0.294944   0.36325875\n",
      "  0.38179936 0.69902314 0.75874054 0.55496794 0.49289186 0.83663429\n",
      "  0.14169751 0.77433473 0.19382935 0.44557028 0.90793481 0.79839797\n",
      "  0.78123659 0.37949888 0.33112809 0.2078157  0.55868244 0.46426044\n",
      "  0.69061033 0.92334191 0.26105217 0.78490907 0.94058378 0.24872273\n",
      "  0.66678834 0.39675842 0.45449454 0.23471488 0.12740959 0.35282352\n",
      "  0.53345169 0.23798926 0.82449392 0.24457022]\n",
      " [0.83122146 0.7893943  0.43528096 0.34263019 0.54534257 0.39132502\n",
      "  0.34635912 0.98008361 0.2381543  0.44198813 0.16793503 0.8101065\n",
      "  0.21233979 0.66372892 0.32659557 0.64746489 0.56173207 0.6166631\n",
      "  0.51378474 1.05003931 0.49599896 0.25494796 0.4457572  0.44775075\n",
      "  0.84601195 0.84624983 1.04569991 0.17762846 0.         0.59018534\n",
      "  0.71671248 0.6766628  0.84847978 0.5743847  0.81624815 0.72985044\n",
      "  0.85288685 0.05358212 0.40122719 0.69099494 0.7159772  0.44380114\n",
      "  0.60324749 0.71350569 0.80372262 0.55039704 0.31617339 0.76005208\n",
      "  0.88643122 0.05117949 0.34338446 0.22377406 0.43884333 0.58436286\n",
      "  0.89612641 0.80171441 0.61405433 0.4410209  0.51749848 0.49240094\n",
      "  0.85252386 0.72460598 0.43482653 0.22584669 0.45874718 0.20473142\n",
      "  0.33229798 0.86426793 0.70675025 0.62486953 0.58945869 0.94076572\n",
      "  0.0893841  0.88537327 0.25404036 0.55714152 0.98652582 0.68662389\n",
      "  0.73567217 0.41203803 0.37268668 0.2041754  0.43070555 0.54511664\n",
      "  0.73065546 0.96158193 0.34167097 0.8313712  0.98095193 0.35150647\n",
      "  0.61045931 0.56948874 0.40207472 0.40982611 0.05128671 0.25050779\n",
      "  0.61306929 0.22045366 0.93264583 0.09665359]\n",
      " [0.27879751 0.21938976 0.42450428 0.35384667 0.2661873  0.58544308\n",
      "  0.48368337 0.39400714 0.76152384 0.28500098 0.45553376 0.31346585\n",
      "  0.605661   0.39416943 0.29002179 0.49257087 0.26561456 0.32167379\n",
      "  0.50228914 0.46507839 0.49787785 0.51656493 0.4798185  0.34913114\n",
      "  0.28780836 0.70169893 0.4555148  0.53972792 0.59018534 0.\n",
      "  0.5074089  0.09631501 0.34396785 0.49645665 0.46745354 0.35802067\n",
      "  0.51168637 0.55916193 0.27436903 0.17836189 0.65957442 0.26059649\n",
      "  0.45267224 0.43254526 0.21761622 0.16318897 0.35649889 0.46524492\n",
      "  0.29776912 0.5756949  0.31498422 0.54557116 0.16309445 0.13452741\n",
      "  0.3064487  0.22060542 0.33772661 0.22130866 0.20641255 0.56209376\n",
      "  0.27336247 0.21825307 0.43277519 0.50019532 0.43550108 0.58491788\n",
      "  0.32974069 0.6193922  0.40787463 0.07167632 0.15947493 0.40357802\n",
      "  0.50341833 0.37450421 0.73324158 0.2159856  0.40431035 0.62886149\n",
      "  0.40414532 0.17892679 0.21834806 0.38602234 0.55332986 0.11562404\n",
      "  0.15196197 0.38367031 0.27934782 0.24566269 0.40087152 0.3014328\n",
      "  0.36874441 0.52499588 0.31689503 0.6076105  0.56243224 0.44865386\n",
      "  0.10064241 0.76739891 0.40658462 0.68593643]\n",
      " [0.45201786 0.47877005 0.84039324 0.72177977 0.25722254 0.94741476\n",
      "  0.84550971 0.63233087 0.73156335 0.3202559  0.55427491 0.80151374\n",
      "  0.86453446 0.89223182 0.45730927 0.0741504  0.7522084  0.18627549\n",
      "  0.22504393 0.798608   0.92734966 0.82151304 0.89126456 0.28108805\n",
      "  0.73180348 0.19430084 0.7325718  0.55401071 0.71671248 0.5074089\n",
      "  0.         0.48424508 0.37376321 0.95549932 0.16750763 0.86538306\n",
      "  0.17738594 0.72506804 0.6775105  0.37889383 0.19130881 0.33633076\n",
      "  0.1134825  0.08900906 0.53746006 0.3504308  0.41650287 0.09607064\n",
      "  0.59605826 0.74022403 0.40863338 0.82689275 0.55895044 0.37288249\n",
      "  0.61424359 0.64167062 0.17156787 0.37382852 0.32432032 0.28736176\n",
      "  0.52902976 0.36438767 0.84721874 0.49754879 0.25931137 0.84559579\n",
      "  0.68611552 0.14876287 0.91137759 0.45040057 0.34795768 0.46792303\n",
      "  0.64226902 0.3966381  0.67444081 0.29768327 0.61524087 1.09705964\n",
      "  0.9105943  0.52499114 0.50578537 0.5899643  0.94223106 0.40017456\n",
      "  0.60551597 0.76443949 0.44521309 0.64085635 0.77039792 0.40873544\n",
      "  0.85794307 0.18071194 0.72363159 0.4031137  0.66639077 0.75591863\n",
      "  0.41238875 0.76134872 0.44343924 0.79698881]\n",
      " [0.18401313 0.12309141 0.51638541 0.45002936 0.27457262 0.68029892\n",
      "  0.57925116 0.30348267 0.83529792 0.32502752 0.5336405  0.31748033\n",
      "  0.70122484 0.4573628  0.3635824  0.48364369 0.34272684 0.30720115\n",
      "  0.52201655 0.39565711 0.58639207 0.61279824 0.57138563 0.38214945\n",
      "  0.25575742 0.67574048 0.37340388 0.61114546 0.6766628  0.09631501\n",
      "  0.48424508 0.         0.25832577 0.57798441 0.41442123 0.40196255\n",
      "  0.45679441 0.64848031 0.3700396  0.11279884 0.65357331 0.30358196\n",
      "  0.45057881 0.40119204 0.1271425  0.1803768  0.41928367 0.4262123\n",
      "  0.21069779 0.66525609 0.37777425 0.64146281 0.25859558 0.13749653\n",
      "  0.22198773 0.17083759 0.32507578 0.27346781 0.23116864 0.58869698\n",
      "  0.1786331  0.14555258 0.52470213 0.56682629 0.46434849 0.68041759\n",
      "  0.42604304 0.5784117  0.46349195 0.05689618 0.15543738 0.30925188\n",
      "  0.58853683 0.28588161 0.80261694 0.22272233 0.31138364 0.70501091\n",
      "  0.45273063 0.26993537 0.30425826 0.47333123 0.64646079 0.15062612\n",
      "  0.12179608 0.32533082 0.35093933 0.1843565  0.33938041 0.36461123\n",
      "  0.44007487 0.5350858  0.41165614 0.64972064 0.64581886 0.54467449\n",
      "  0.08867972 0.84414635 0.31398075 0.77304319]\n",
      " [0.10385559 0.16432448 0.76801246 0.68731544 0.31861258 0.92424427\n",
      "  0.82033254 0.26096411 0.95647879 0.41795023 0.68591552 0.5283867\n",
      "  0.9177592  0.71176623 0.52244516 0.4127487  0.60105239 0.27917148\n",
      "  0.52028775 0.43453511 0.84171904 0.83959655 0.82340788 0.44312136\n",
      "  0.42683405 0.53197829 0.36145245 0.73765853 0.84847978 0.34396785\n",
      "  0.37376321 0.25832577 0.         0.83617375 0.23121517 0.6456382\n",
      "  0.26004231 0.83252621 0.6126987  0.17234645 0.56506096 0.40949126\n",
      "  0.40554699 0.28762546 0.21992758 0.29958205 0.5434594  0.28284375\n",
      "  0.24567338 0.84968877 0.50894769 0.86245937 0.48922473 0.27211349\n",
      "  0.26336092 0.34180527 0.2932888  0.40745902 0.33153812 0.59527272\n",
      "  0.18170464 0.13214424 0.77624766 0.68331771 0.49657987 0.89672206\n",
      "  0.65856447 0.40442373 0.71371145 0.27448379 0.26153776 0.10383595\n",
      "  0.75958199 0.03694245 0.91127142 0.29352466 0.24198021 0.9629801\n",
      "  0.69840771 0.48412572 0.50124612 0.65876353 0.89557825 0.31681208\n",
      "  0.34203737 0.41884241 0.50720708 0.32515148 0.41965112 0.49911586\n",
      "  0.69749549 0.50575775 0.65752567 0.69094021 0.8079118  0.7691138\n",
      "  0.26189127 0.97482819 0.08726368 0.94380894]\n",
      " [0.75593502 0.68900361 0.14465289 0.26931327 0.69882651 0.24329367\n",
      "  0.23079977 0.80012533 0.81250877 0.64797126 0.57540634 0.44239347\n",
      "  0.41415271 0.17872576 0.53447412 0.91684468 0.23584458 0.77624549\n",
      "  0.85847485 0.76502592 0.08411106 0.32692293 0.13056394 0.70682022\n",
      "  0.54615931 1.14276714 0.81107985 0.67020852 0.5743847  0.49645665\n",
      "  0.95549932 0.57798441 0.83617375 0.         0.95395591 0.28587803\n",
      "  0.99872728 0.52083957 0.28229722 0.67480962 1.06127116 0.6268046\n",
      "  0.86851494 0.89785936 0.6575071  0.6162594  0.61107188 0.93796741\n",
      "  0.7073813  0.5268237  0.59111717 0.36652162 0.39673434 0.61053924\n",
      "  0.70484536 0.56920506 0.78758121 0.58471695 0.6324739  0.88674948\n",
      "  0.71997932 0.71447285 0.14276935 0.67401775 0.78031386 0.4053597\n",
      "  0.30094934 1.08825385 0.21443664 0.56812466 0.63385205 0.87921764\n",
      "  0.54009686 0.8636126  0.82242982 0.66440663 0.82263714 0.1423002\n",
      "  0.25254506 0.43137285 0.45818343 0.46971264 0.18230937 0.57055815\n",
      "  0.52369121 0.66948947 0.54026588 0.60430435 0.69104753 0.58358441\n",
      "  0.15596725 0.90288098 0.24043241 0.86747356 0.59021664 0.32601662\n",
      "  0.59278414 0.79329183 0.88800293 0.62977754]\n",
      " [0.32603212 0.36981101 0.85705444 0.75137176 0.28477316 0.98792077\n",
      "  0.88286182 0.4912415  0.86680711 0.38080582 0.64856229 0.72411782\n",
      "  0.93548945 0.8614061  0.51687367 0.22998078 0.73104383 0.20415116\n",
      "  0.37232694 0.66574194 0.94024671 0.87674293 0.91117819 0.36900731\n",
      "  0.63661021 0.30120982 0.59146387 0.66973761 0.81624815 0.46745354\n",
      "  0.16750763 0.41442123 0.23121517 0.95395591 0.         0.81546707\n",
      "  0.04477615 0.81497362 0.69204317 0.30165436 0.35142736 0.38684572\n",
      "  0.24733657 0.11011234 0.43030544 0.34093158 0.50113411 0.07349307\n",
      "  0.47276397 0.83133847 0.48038784 0.88962785 0.56502719 0.34350076\n",
      "  0.49086418 0.54695301 0.2033976  0.41006415 0.33895887 0.44234958\n",
      "  0.40629469 0.27209463 0.86467916 0.61212866 0.38242815 0.91526444\n",
      "  0.71738125 0.17477056 0.87289041 0.39886638 0.3201266  0.31306765\n",
      "  0.73379601 0.24565541 0.81300073 0.29975859 0.47039762 1.09124928\n",
      "  0.86519695 0.54166159 0.53742566 0.65896258 0.97250854 0.38393097\n",
      "  0.5269512  0.64593974 0.50237321 0.53802202 0.64836235 0.47587957\n",
      "  0.83556809 0.3380731  0.73941219 0.55417145 0.76853157 0.80724259\n",
      "  0.36688585 0.89296885 0.28706884 0.90422402]\n",
      " [0.54950283 0.48300516 0.33750037 0.38846738 0.61886945 0.50348508\n",
      "  0.44496358 0.54628767 0.9543123  0.61114124 0.66371695 0.16198884\n",
      "  0.63182268 0.10721172 0.54937965 0.84771953 0.17056325 0.67942739\n",
      "  0.83729101 0.48512912 0.34720073 0.53041126 0.36940174 0.67760808\n",
      "  0.27660731 1.05968282 0.54025301 0.76340576 0.72985044 0.35802067\n",
      "  0.86538306 0.40196255 0.6456382  0.28587803 0.81546707 0.\n",
      "  0.85835215 0.68100008 0.33270244 0.51417814 1.01189339 0.58606991\n",
      "  0.80546407 0.78991126 0.4359632  0.51771837 0.6323043  0.82077811\n",
      "  0.46354406 0.69270448 0.59782179 0.57191078 0.36379836 0.4925191\n",
      "  0.45651667 0.32446355 0.69515826 0.54084326 0.55418669 0.8866015\n",
      "  0.49382102 0.54721065 0.34317071 0.74524165 0.76319448 0.616624\n",
      "  0.39802692 0.97472925 0.08029133 0.41961344 0.51749307 0.66212939\n",
      "  0.66600756 0.66512138 0.9465759  0.57118542 0.57238446 0.36116082\n",
      "  0.05351165 0.40900344 0.45545414 0.55915045 0.44594757 0.46803392\n",
      "  0.30403745 0.39210397 0.54715126 0.35558806 0.41307508 0.58587321\n",
      "  0.14217986 0.86838972 0.32799172 0.904858   0.72647057 0.49340035\n",
      "  0.45558468 0.94570594 0.67685989 0.80863559]\n",
      " [0.35899376 0.40660006 0.90160109 0.79534631 0.32686566 1.03153032\n",
      "  0.92656424 0.51648941 0.89513801 0.4208036  0.68561044 0.76423522\n",
      "  0.97642843 0.90546492 0.55794288 0.24684482 0.77557767 0.24533686\n",
      "  0.39459838 0.6932174  0.98490993 0.91915931 0.9556602  0.40513681\n",
      "  0.67419747 0.28062824 0.61596952 0.70275401 0.85288685 0.51168637\n",
      "  0.17738594 0.45679441 0.26004231 0.99872728 0.04477615 0.85835215\n",
      "  0.         0.85318926 0.73654258 0.3442104  0.34873825 0.42798446\n",
      "  0.27139152 0.14034555 0.46683849 0.38552664 0.53897271 0.09578316\n",
      "  0.50475243 0.86940301 0.51984909 0.93136929 0.60962874 0.3882558\n",
      "  0.52267014 0.58508022 0.24301757 0.45265742 0.38254775 0.46175241\n",
      "  0.43912493 0.31323806 0.90920816 0.64517942 0.41189521 0.95631787\n",
      "  0.76122748 0.14584588 0.9165156  0.44274524 0.36490221 0.33265746\n",
      "  0.77156012 0.26944676 0.84014882 0.34373817 0.49403446 1.13596814\n",
      "  0.90836117 0.58589747 0.58089042 0.69954752 1.0166409  0.42869377\n",
      "  0.56767798 0.67815406 0.54361809 0.57463836 0.67954138 0.51587505\n",
      "  0.87999248 0.35572651 0.78391248 0.57583256 0.80458837 0.84988429\n",
      "  0.41119039 0.92245426 0.3059834  0.9396085 ]\n",
      " [0.80912484 0.76417447 0.38210056 0.29278506 0.53789467 0.34058255\n",
      "  0.29284011 0.95175821 0.29173052 0.43593228 0.17083281 0.76620479\n",
      "  0.16895268 0.61252203 0.31080426 0.65806209 0.51408987 0.61271567\n",
      "  0.53110736 1.0145448  0.44243107 0.20209268 0.39217749 0.44963801\n",
      "  0.8068348  0.86390236 1.01392465 0.20786507 0.05358212 0.55916193\n",
      "  0.72506804 0.64848031 0.83252621 0.52083957 0.81497362 0.68100008\n",
      "  0.85318926 0.         0.35525382 0.67072683 0.73789959 0.43469743\n",
      "  0.61212441 0.71526282 0.77500187 0.53303472 0.31425413 0.7621266\n",
      "  0.85670697 0.01717005 0.33596108 0.17260977 0.40319218 0.56435226\n",
      "  0.86560804 0.76635536 0.61168735 0.42651358 0.50407816 0.51672391\n",
      "  0.82594133 0.7059097  0.38152359 0.24807175 0.4705662  0.15834922\n",
      "  0.28493754 0.87355691 0.65576877 0.59852863 0.57155849 0.92193556\n",
      "  0.08279972 0.86924116 0.30649719 0.5447415  0.95959428 0.63335584\n",
      "  0.68530382 0.38023562 0.34461104 0.17628352 0.37823136 0.52318549\n",
      "  0.69551436 0.9245696  0.32614653 0.79698853 0.9443306  0.34231775\n",
      "  0.55936374 0.58675958 0.3530142  0.44257688 0.08463077 0.1975333\n",
      "  0.5896571  0.27337837 0.91522081 0.13132702]\n",
      " [0.55315941 0.49287298 0.16522361 0.08287367 0.42311244 0.3118124\n",
      "  0.20931556 0.65289132 0.62171689 0.3659521  0.33476382 0.41189093\n",
      "  0.34886796 0.28537315 0.25535546 0.63583108 0.16232552 0.50322721\n",
      "  0.57744381 0.68163737 0.25051224 0.25140919 0.21914542 0.42456029\n",
      "  0.46359352 0.86224631 0.69660936 0.43480838 0.40122719 0.27436903\n",
      "  0.6775105  0.3700396  0.6126987  0.28229722 0.69204317 0.33270244\n",
      "  0.73654258 0.35525382 0.         0.44110339 0.77899915 0.34528037\n",
      "  0.58715501 0.62543073 0.48238701 0.35123394 0.33546514 0.66779795\n",
      "  0.55430961 0.3686347  0.31149205 0.28612102 0.12782791 0.3558634\n",
      "  0.5587327  0.43951712 0.51294569 0.30430586 0.358704   0.60954236\n",
      "  0.54233455 0.48190233 0.17272022 0.42331047 0.49925373 0.32939413\n",
      "  0.07195617 0.81451409 0.32404525 0.33921097 0.3761762  0.67779366\n",
      "  0.33353174 0.64524774 0.61436424 0.39431078 0.66769575 0.42453029\n",
      "  0.34673747 0.15310994 0.17590743 0.22790728 0.28458976 0.31150411\n",
      "  0.37271483 0.58725569 0.25971425 0.47364948 0.6081744  0.30305351\n",
      "  0.23392158 0.62090218 0.04736991 0.60222425 0.39440511 0.19064638\n",
      "  0.35204863 0.61398748 0.6799749  0.48587128]\n",
      " [0.14212538 0.12133755 0.59854668 0.5150332  0.20510824 0.75230562\n",
      "  0.64817711 0.31635368 0.82129966 0.28468671 0.53412884 0.42715759\n",
      "  0.74769737 0.5652702  0.36503937 0.3867623  0.44285814 0.21296727\n",
      "  0.44762075 0.44971075 0.67460819 0.66781023 0.65398001 0.32848779\n",
      "  0.35298478 0.56760334 0.40542623 0.59762873 0.69099494 0.17836189\n",
      "  0.37889383 0.11279884 0.17234645 0.67480962 0.30165436 0.51417814\n",
      "  0.3442104  0.67072683 0.44110339 0.         0.55594595 0.26935783\n",
      "  0.35956481 0.29317705 0.16948014 0.1436368  0.40055115 0.31518884\n",
      "  0.24512554 0.68787625 0.3619333  0.69148803 0.31692519 0.1066367\n",
      "  0.26160124 0.26306502 0.23118012 0.25495867 0.18783819 0.51910106\n",
      "  0.18688248 0.04083513 0.60671548 0.54708297 0.40133666 0.72665249\n",
      "  0.48622569 0.46635773 0.57379844 0.10673237 0.10474004 0.25166145\n",
      "  0.60161354 0.20653249 0.78177351 0.16071437 0.31333458 0.80645774\n",
      "  0.56444917 0.31250275 0.33253353 0.49504488 0.7247973  0.14823715\n",
      "  0.22932229 0.39729382 0.35031295 0.26496081 0.40692374 0.35037699\n",
      "  0.5441671  0.45159981 0.48642341 0.59523189 0.65371251 0.59747276\n",
      "  0.08955231 0.83535107 0.2473143  0.78735365]\n",
      " [0.64116269 0.66339871 0.93277005 0.8065342  0.39379629 1.01156271\n",
      "  0.91670826 0.82309905 0.66756594 0.41496623 0.57355313 0.96655084\n",
      "  0.89588236 1.02414353 0.53133072 0.16995344 0.88068013 0.34639132\n",
      "  0.21241004 0.98740788 1.02046539 0.87379601 0.97869186 0.35445232\n",
      "  0.90712424 0.14493705 0.92317259 0.53934857 0.7159772  0.65957442\n",
      "  0.19130881 0.65357331 0.56506096 1.06127116 0.35142736 1.01189339\n",
      "  0.34873825 0.73789959 0.77899915 0.55594595 0.         0.43782291\n",
      "  0.20693781 0.27862982 0.72053262 0.4964704  0.46593356 0.28503038\n",
      "  0.78336703 0.7504794  0.47531859 0.8700292  0.67490363 0.52832118\n",
      "  0.80143771 0.81816894 0.32850073 0.48235831 0.4577068  0.22457603\n",
      "  0.71676062 0.54703449 0.93857553 0.49083755 0.28681857 0.87936158\n",
      "  0.77107417 0.24206734 1.04867319 0.61223898 0.50492089 0.65866362\n",
      "  0.65817534 0.58769775 0.60642313 0.44363561 0.80639715 1.20341997\n",
      "  1.05297416 0.63439938 0.60323401 0.63970644 1.01747906 0.54526952\n",
      "  0.77521687 0.94904092 0.52336278 0.82077629 0.95616497 0.48076782\n",
      "  0.98409531 0.16073286 0.82168098 0.32829015 0.66486981 0.81576656\n",
      "  0.57340984 0.70323358 0.63385042 0.78008139]\n",
      " [0.41053528 0.38552399 0.50561437 0.38548694 0.10364917 0.61291943\n",
      "  0.50999091 0.58333658 0.552593   0.02523172 0.27797895 0.57146853\n",
      "  0.54864451 0.58834402 0.13002953 0.29063384 0.4445268  0.18275075\n",
      "  0.25122169 0.6981368  0.59305975 0.49294058 0.55558237 0.0917618\n",
      "  0.545685   0.51721661 0.6669816  0.33010877 0.44380114 0.26059649\n",
      "  0.33633076 0.30358196 0.40949126 0.6268046  0.38684572 0.58606991\n",
      "  0.42798446 0.43469743 0.34528037 0.26935783 0.43782291 0.\n",
      "  0.24187479 0.2980333  0.41972458 0.12864788 0.13408802 0.3441128\n",
      "  0.50287512 0.45156608 0.1005612  0.50359779 0.23716235 0.17203505\n",
      "  0.51715371 0.46966448 0.18581861 0.04546072 0.08158944 0.30413877\n",
      "  0.45225408 0.2951997  0.51220619 0.27811548 0.17829321 0.52843919\n",
      "  0.34979816 0.47949949 0.61522983 0.2472554  0.1653693  0.50697832\n",
      "  0.3566583  0.44637665 0.51241636 0.11603858 0.58216927 0.76908759\n",
      "  0.62288887 0.1968395  0.17051571 0.27234616 0.60600123 0.15403403\n",
      "  0.40704753 0.62849371 0.11563512 0.48726196 0.64292016 0.09255121\n",
      "  0.54683115 0.28503607 0.39016985 0.34844971 0.40061007 0.42484396\n",
      "  0.21708915 0.56808302 0.49571855 0.53742212]\n",
      " [0.46321146 0.47419834 0.74671977 0.62437944 0.18689866 0.84415231\n",
      "  0.74397889 0.64998316 0.62459873 0.22198238 0.44129221 0.76079607\n",
      "  0.75391826 0.82081519 0.35360278 0.04958189 0.67800493 0.14660405\n",
      "  0.12519089 0.80363818 0.83434233 0.71469051 0.79575238 0.17329538\n",
      "  0.70580248 0.27592448 0.74769519 0.44119935 0.60324749 0.45267224\n",
      "  0.1134825  0.45057881 0.40554699 0.86851494 0.24733657 0.80546407\n",
      "  0.27139152 0.61212441 0.58715501 0.35956481 0.20693781 0.24187479\n",
      "  0.         0.13836353 0.52808952 0.28953934 0.3060504  0.1763567\n",
      "  0.59762953 0.62715454 0.30196371 0.71815271 0.47566645 0.32210872\n",
      "  0.61521378 0.61814312 0.12840636 0.28403561 0.25151828 0.19724373\n",
      "  0.53301975 0.35739746 0.75314068 0.384482   0.14625918 0.7352887\n",
      "  0.5885685  0.26146059 0.84396995 0.40686285 0.29918265 0.50756884\n",
      "  0.52933241 0.43530883 0.56899407 0.23680655 0.63754957 1.01076262\n",
      "  0.84721569 0.43761158 0.41203778 0.48128565 0.84241856 0.33836285\n",
      "  0.57158238 0.75667276 0.34272145 0.62363719 0.76566355 0.30363355\n",
      "  0.7824877  0.10022804 0.63190861 0.30694873 0.55290849 0.65065679\n",
      "  0.36808487 0.65293704 0.4861483  0.68370728]\n",
      " [0.36318506 0.39008647 0.79026759 0.67717415 0.2033582  0.90940111\n",
      "  0.80546698 0.54448573 0.75696352 0.28759233 0.54667695 0.71861404\n",
      "  0.84321737 0.82308309 0.4264932  0.1291032  0.68585486 0.12220737\n",
      "  0.26354604 0.70975315 0.87588644 0.79091871 0.84288199 0.2659911\n",
      "  0.64535076 0.27466138 0.64454348 0.56242941 0.71350569 0.43254526\n",
      "  0.08900906 0.40119204 0.28762546 0.89785936 0.11011234 0.78991126\n",
      "  0.14034555 0.71526282 0.62543073 0.29317705 0.27862982 0.2980333\n",
      "  0.13836353 0.         0.44905449 0.28327102 0.40113134 0.04693983\n",
      "  0.50704922 0.73128612 0.38466169 0.80058661 0.50200756 0.29911401\n",
      "  0.52523471 0.55501783 0.11364706 0.32846947 0.26676814 0.33505752\n",
      "  0.44002612 0.27646992 0.79749516 0.50484761 0.2727512  0.82344044\n",
      "  0.64210532 0.19053488 0.83969472 0.37140927 0.27405797 0.3847095\n",
      "  0.63321443 0.31264891 0.70294479 0.23348415 0.52810546 1.03811581\n",
      "  0.83667922 0.47243542 0.46027127 0.56609412 0.8990331  0.33167289\n",
      "  0.52153358 0.67561604 0.41281925 0.55314084 0.68144503 0.38185681\n",
      "  0.79168617 0.23317292 0.67244575 0.44521717 0.66487687 0.72284987\n",
      "  0.33447191 0.78348612 0.3611886  0.79955548]\n",
      " [0.11717672 0.06053767 0.61640675 0.56445073 0.37142875 0.78697198\n",
      "  0.68932825 0.17678212 0.96029259 0.43898561 0.66019229 0.30910137\n",
      "  0.82193816 0.51344081 0.48968809 0.55285295 0.42375208 0.38160265\n",
      "  0.61656435 0.28183599 0.67836088 0.73051385 0.66998186 0.49024211\n",
      "  0.2081339  0.71876594 0.24845388 0.73578944 0.80372262 0.21761622\n",
      "  0.53746006 0.1271425  0.21992758 0.6575071  0.43030544 0.4359632\n",
      "  0.46683849 0.77500187 0.48238701 0.16948014 0.72053262 0.41972458\n",
      "  0.52808952 0.44905449 0.         0.29163925 0.54184021 0.46224366\n",
      "  0.0842989  0.79170922 0.500745   0.76114353 0.38024567 0.24782282\n",
      "  0.09749867 0.12189337 0.39974278 0.39439811 0.34172089 0.68732186\n",
      "  0.0626638  0.17357797 0.6247127  0.68989248 0.56732597 0.80132701\n",
      "  0.54341266 0.60417989 0.50897661 0.18136351 0.25842962 0.22680986\n",
      "  0.71566657 0.23290347 0.92602956 0.32319476 0.18692374 0.77324134\n",
      "  0.48941925 0.39545733 0.4311731  0.60021347 0.74813642 0.27192931\n",
      "  0.13560292 0.22886458 0.47668993 0.10780633 0.23763016 0.4878583\n",
      "  0.50823718 0.62102339 0.52038244 0.75881486 0.77293403 0.66395811\n",
      "  0.20369611 0.97003653 0.24089873 0.90005276]\n",
      " [0.28576162 0.25708313 0.51614195 0.41350639 0.10304477 0.65193139\n",
      "  0.54654008 0.45496122 0.67824474 0.14735207 0.3911983  0.47407586\n",
      "  0.62298192 0.54192947 0.22380337 0.33022727 0.40300538 0.1645604\n",
      "  0.34491172 0.57147143 0.59945637 0.55137605 0.57037572 0.20183488\n",
      "  0.43181331 0.54418664 0.53841478 0.45424846 0.55039704 0.16318897\n",
      "  0.3504308  0.1803768  0.29958205 0.6162594  0.34093158 0.51771837\n",
      "  0.38552664 0.53303472 0.35123394 0.1436368  0.4964704  0.12864788\n",
      "  0.28953934 0.28327102 0.29163925 0.         0.25724591 0.32190292\n",
      "  0.37442424 0.55020184 0.21831652 0.57034949 0.2241022  0.04396331\n",
      "  0.38892538 0.35039256 0.17890104 0.11143214 0.05090158 0.4094358\n",
      "  0.32378875 0.1744624  0.52378887 0.40442693 0.28430137 0.60204161\n",
      "  0.38069509 0.47367637 0.56109694 0.12681396 0.03928705 0.39042815\n",
      "  0.46117378 0.33623331 0.63987195 0.05347008 0.45450793 0.7556687\n",
      "  0.56135938 0.20272847 0.20761108 0.35929624 0.6331686  0.04987908\n",
      "  0.29329461 0.50528532 0.208745   0.36462044 0.51867769 0.20674603\n",
      "  0.50887461 0.36354822 0.39859095 0.46992294 0.51165497 0.48066184\n",
      "  0.09177151 0.69182762 0.38246392 0.64634499]\n",
      " [0.54249766 0.51307595 0.47456433 0.34625885 0.23087868 0.54613185\n",
      "  0.45086207 0.71070142 0.4210411  0.12736452 0.14828172 0.64924961\n",
      "  0.44809091 0.61169695 0.08328653 0.35444767 0.47191626 0.30049389\n",
      "  0.2546018  0.81433838 0.56124032 0.41126683 0.51691933 0.13646116\n",
      "  0.64335859 0.57355536 0.79028908 0.1970809  0.31617339 0.35649889\n",
      "  0.41650287 0.41928367 0.5434594  0.61107188 0.50113411 0.6323043\n",
      "  0.53897271 0.31425413 0.33546514 0.40055115 0.46593356 0.13408802\n",
      "  0.3060504  0.40113134 0.54184021 0.25724591 0.         0.44803345\n",
      "  0.62598588 0.33043056 0.04172117 0.41255093 0.26883583 0.29827798\n",
      "  0.63911103 0.57592289 0.29823357 0.14783764 0.21445149 0.27568897\n",
      "  0.57950424 0.42835414 0.47959064 0.1481064  0.17931221 0.42930778\n",
      "  0.3119351  0.56517029 0.64539853 0.36251608 0.29581737 0.64101937\n",
      "  0.23267559 0.58031699 0.3842606  0.25011549 0.71136514 0.75110552\n",
      "  0.66048518 0.22386673 0.17687417 0.17642604 0.55182995 0.26995241\n",
      "  0.50841077 0.73827416 0.08558161 0.5979369  0.75440573 0.05518953\n",
      "  0.56361823 0.30538441 0.37176935 0.27274902 0.27034604 0.35049072\n",
      "  0.33844402 0.43492854 0.6297876  0.40732253]\n",
      " [0.36793544 0.40215404 0.83288344 0.72127222 0.247594   0.95447575\n",
      "  0.85028483 0.54336069 0.79941873 0.3342032  0.59338793 0.74234481\n",
      "  0.89000257 0.85806085 0.47295976 0.15652265 0.72263255 0.16545922\n",
      "  0.30060236 0.71340876 0.91802036 0.83705209 0.88588523 0.31273005\n",
      "  0.66349724 0.25655886 0.64385948 0.6076633  0.76005208 0.46524492\n",
      "  0.09607064 0.4262123  0.28284375 0.93796741 0.07349307 0.82077811\n",
      "  0.09578316 0.7621266  0.66779795 0.31518884 0.28503038 0.3441128\n",
      "  0.1763567  0.04693983 0.46224366 0.32190292 0.44803345 0.\n",
      "  0.51417081 0.7781261  0.43153769 0.84709347 0.54323668 0.33380139\n",
      "  0.53241849 0.57305849 0.15876878 0.3733932  0.30927046 0.36961123\n",
      "  0.44694595 0.29326091 0.84020847 0.55013767 0.31613927 0.87019223\n",
      "  0.68638148 0.15415568 0.87311253 0.40117988 0.30899395 0.37379655\n",
      "  0.6800304  0.30331821 0.74460334 0.27409247 0.52481334 1.07757148\n",
      "  0.86859959 0.51510608 0.50465068 0.61286239 0.9431644  0.36911341\n",
      "  0.54449822 0.68540348 0.45917697 0.56840466 0.68980485 0.42862797\n",
      "  0.82827435 0.26483087 0.71496519 0.48232947 0.71127442 0.76875894\n",
      "  0.36558006 0.82667129 0.34884315 0.84567993]\n",
      " [0.14691741 0.12444145 0.67945502 0.63702452 0.44989097 0.85312117\n",
      "  0.75828224 0.09858788 1.0445915  0.52159275 0.74422329 0.31777531\n",
      "  0.89806604 0.55176101 0.57385177 0.61853284 0.47899295 0.45239332\n",
      "  0.69211431 0.20605143 0.73576111 0.80458848 0.73164115 0.57108987\n",
      "  0.2015146  0.76959315 0.16436318 0.820085   0.88643122 0.29776912\n",
      "  0.59605826 0.21069779 0.24567338 0.7073813  0.47276397 0.46354406\n",
      "  0.50475243 0.85670697 0.55430961 0.24512554 0.78336703 0.50287512\n",
      "  0.59762953 0.50704922 0.0842989  0.37442424 0.62598588 0.51417081\n",
      "  0.         0.87330811 0.58495008 0.83659957 0.45870508 0.33084007\n",
      "  0.01824806 0.14023885 0.47023505 0.47842696 0.42400892 0.76407746\n",
      "  0.06723577 0.24029904 0.68767416 0.77406386 0.64619288 0.87765373\n",
      "  0.61805404 0.6474245  0.54100031 0.26556646 0.34002997 0.21432641\n",
      "  0.79868868 0.24602318 1.01021426 0.40327755 0.11620955 0.8146173\n",
      "  0.51665617 0.47657705 0.51374464 0.68259391 0.81118939 0.35613958\n",
      "  0.18756161 0.17340284 0.56091815 0.10797744 0.17586241 0.57209233\n",
      "  0.55389496 0.6931228  0.58973789 0.83917426 0.85635158 0.73940298\n",
      "  0.28764932 1.05427224 0.23571004 0.98259629]\n",
      " [0.82622138 0.78113583 0.38960752 0.3042497  0.55469456 0.34015957\n",
      "  0.29753342 0.96847744 0.28687618 0.45259177 0.18597902 0.78005512\n",
      "  0.1628164  0.62255949 0.32791714 0.67284056 0.52654532 0.62927416\n",
      "  0.54457671 1.03036212 0.44743409 0.20479414 0.39745161 0.46552359\n",
      "  0.82197579 0.87745975 1.03027858 0.21745618 0.05117949 0.5756949\n",
      "  0.74022403 0.66525609 0.84968877 0.5268237  0.83133847 0.69270448\n",
      "  0.86940301 0.01717005 0.3686347  0.68787625 0.7504794  0.45156608\n",
      "  0.62715454 0.73128612 0.79170922 0.55020184 0.33043056 0.7781261\n",
      "  0.87330811 0.         0.35265793 0.17272373 0.41919903 0.58151059\n",
      "  0.88212596 0.7822431  0.62810555 0.44362063 0.52116599 0.52859268\n",
      "  0.8428099  0.72307656 0.38869639 0.25996806 0.48502062 0.15411361\n",
      "  0.29783951 0.88861357 0.66598436 0.6154472  0.58872835 0.93909779\n",
      "  0.0982229  0.88640594 0.3050057  0.5618004  0.97642435 0.63680103\n",
      "  0.69600019 0.39677319 0.36150196 0.19333987 0.38005712 0.5403102\n",
      "  0.71145676 0.94013107 0.34325712 0.81302271 0.95996136 0.3591423\n",
      "  0.56953238 0.60027796 0.36487161 0.45197101 0.09140925 0.20590087\n",
      "  0.60672603 0.26648233 0.93239082 0.11724384]\n",
      " [0.50404406 0.47297002 0.45834901 0.33135157 0.20233353 0.54271074\n",
      "  0.4439988  0.67036781 0.46089631 0.10001798 0.17748157 0.60988648\n",
      "  0.45883623 0.58182003 0.0566821  0.35133572 0.44040925 0.27709303\n",
      "  0.2678187  0.77269192 0.54582791 0.41309266 0.50342479 0.1286684\n",
      "  0.60208819 0.57487933 0.74919573 0.23639712 0.34338446 0.31498422\n",
      "  0.40863338 0.37777425 0.50894769 0.59111717 0.48038784 0.59782179\n",
      "  0.51984909 0.33596108 0.31149205 0.3619333  0.47531859 0.1005612\n",
      "  0.30196371 0.38466169 0.500745   0.21831652 0.04172117 0.43153769\n",
      "  0.58495008 0.35265793 0.         0.4185643  0.23407408 0.25844619\n",
      "  0.59792712 0.53424372 0.27705989 0.10762411 0.17792098 0.29855537\n",
      "  0.53924705 0.39101361 0.46390403 0.18919579 0.18994797 0.43926737\n",
      "  0.29604642 0.55631151 0.6141671  0.32105676 0.25726905 0.60504842\n",
      "  0.25675674 0.54587896 0.42529078 0.21557263 0.67153783 0.73233597\n",
      "  0.62776656 0.18884936 0.14417653 0.18211452 0.54379969 0.22881634\n",
      "  0.46685127 0.69656121 0.05244612 0.55621623 0.71268456 0.01355581\n",
      "  0.53501246 0.31486192 0.35072798 0.30756704 0.3000717  0.34870593\n",
      "  0.29760028 0.47358942 0.5946884  0.43686118]\n",
      " [0.81877731 0.76391476 0.24190833 0.2043098  0.60486085 0.16798073\n",
      "  0.13686236 0.93490048 0.45740967 0.51302714 0.30023329 0.68441799\n",
      "  0.06297703 0.48727142 0.37413789 0.76685545 0.41960144 0.68603544\n",
      "  0.65806241 0.96736216 0.28384858 0.04186089 0.23604388 0.5459132\n",
      "  0.74758378 0.9851312  0.98224566 0.36800609 0.22377406 0.54557116\n",
      "  0.82689275 0.64146281 0.86245937 0.36652162 0.88962785 0.57191078\n",
      "  0.93136929 0.17260977 0.28612102 0.69148803 0.8700292  0.50359779\n",
      "  0.71815271 0.80058661 0.76114353 0.57034949 0.41255093 0.84709347\n",
      "  0.83659957 0.17272373 0.4185643  0.         0.38292748 0.59108444\n",
      "  0.84212811 0.72551156 0.68935857 0.48048809 0.5555444  0.65748731\n",
      "  0.81875122 0.73065127 0.23868689 0.39618555 0.58822687 0.04502907\n",
      "  0.21870191 0.97484251 0.53137656 0.60092094 0.60491586 0.94009923\n",
      "  0.22669091 0.89766344 0.47772906 0.59687758 0.94789145 0.46705284\n",
      "  0.56514416 0.37919461 0.36294591 0.23697734 0.20816702 0.54586064\n",
      "  0.65805382 0.87245508 0.38806641 0.7594343  0.89354683 0.41964083\n",
      "  0.43667033 0.71210979 0.26165138 0.59856908 0.25515661 0.09722198\n",
      "  0.60320292 0.43359647 0.93828319 0.26430942]\n",
      " [0.43700169 0.38100419 0.29214924 0.19811068 0.30209581 0.43599215\n",
      "  0.33143028 0.55597133 0.63081165 0.26065476 0.32433806 0.39079014\n",
      "  0.44266356 0.3529469  0.18648064 0.52299634 0.20943385 0.38002061\n",
      "  0.48379125 0.61156251 0.37547672 0.3551561  0.34664153 0.32483505\n",
      "  0.40923105 0.74764806 0.61217516 0.41904739 0.43884333 0.16309445\n",
      "  0.55895044 0.25859558 0.48922473 0.39673434 0.56502719 0.36379836\n",
      "  0.60962874 0.40319218 0.12782791 0.31692519 0.67490363 0.23716235\n",
      "  0.47566645 0.50200756 0.38024567 0.2241022  0.26883583 0.54323668\n",
      "  0.45870508 0.41919903 0.23407408 0.38292748 0.         0.22819832\n",
      "  0.46607064 0.36326302 0.39096503 0.19260514 0.23584177 0.52683221\n",
      "  0.43644125 0.35747731 0.29986144 0.39125915 0.40701509 0.42188595\n",
      "  0.17002589 0.692082   0.38252289 0.21947314 0.24834829 0.55991094\n",
      "  0.35594454 0.52279167 0.61108157 0.26914737 0.56713089 0.5381126\n",
      "  0.39428089 0.04522547 0.0926462  0.23698986 0.41197208 0.18368293\n",
      "  0.29234683 0.52276678 0.18344771 0.39382392 0.54211004 0.22229163\n",
      "  0.30992843 0.52143198 0.17499562 0.54112026 0.41720355 0.28633396\n",
      "  0.22738349 0.63126132 0.56005045 0.53268234]\n",
      " [0.24768413 0.21485639 0.51886225 0.42388798 0.13925634 0.66274939\n",
      "  0.55759647 0.41264752 0.71921827 0.19124481 0.4282576  0.43873686\n",
      "  0.64578785 0.52438024 0.25858526 0.35990543 0.38933948 0.18726325\n",
      "  0.38532615 0.52750923 0.59973926 0.56957969 0.57384407 0.24535054\n",
      "  0.39100342 0.56717529 0.49497546 0.49482953 0.58436286 0.13452741\n",
      "  0.37288249 0.13749653 0.27211349 0.61053924 0.34350076 0.4925191\n",
      "  0.3882558  0.56435226 0.3558634  0.1066367  0.52832118 0.17203505\n",
      "  0.32210872 0.29911401 0.24782282 0.04396331 0.29827798 0.33380139\n",
      "  0.33084007 0.58151059 0.25844619 0.59108444 0.22819832 0.\n",
      "  0.34518299 0.30811814 0.20357472 0.15082804 0.09469693 0.45128736\n",
      "  0.28141024 0.14201163 0.52676017 0.44604052 0.32687192 0.62475906\n",
      "  0.39277326 0.4875786  0.54059312 0.08621279 0.02507995 0.35761938\n",
      "  0.49498047 0.30801517 0.68187806 0.08705462 0.41313093 0.74783873\n",
      "  0.53821087 0.2151253  0.22914765 0.38895266 0.64016746 0.04566266\n",
      "  0.25323368 0.46178503 0.24396459 0.32136492 0.47498017 0.2463481\n",
      "  0.49475083 0.40110203 0.4027723  0.51368761 0.54731247 0.49887\n",
      "  0.0489475  0.73187938 0.35178931 0.68073871]\n",
      " [0.16510254 0.14150094 0.68066347 0.64156328 0.4660224  0.85512178\n",
      "  0.76133785 0.09632657 1.05693833 0.5362297  0.75556989 0.30787292\n",
      "  0.90385586 0.54676951 0.58555691 0.63642523 0.4784083  0.46978821\n",
      "  0.70894085 0.18868512 0.73521373 0.80955146 0.7323493  0.58654711\n",
      "  0.19020487 0.78782322 0.15149266 0.83256468 0.89612641 0.3064487\n",
      "  0.61424359 0.22198773 0.26336092 0.70484536 0.49086418 0.45651667\n",
      "  0.52267014 0.86560804 0.5587327  0.26160124 0.80143771 0.51715371\n",
      "  0.61521378 0.52523471 0.09749867 0.38892538 0.63911103 0.53241849\n",
      "  0.01824806 0.88212596 0.59792712 0.84212811 0.46607064 0.34518299\n",
      "  0.         0.13585933 0.48767193 0.49179556 0.43880076 0.78069111\n",
      "  0.08548308 0.25782396 0.68884339 0.78711225 0.66228981 0.8835468\n",
      "  0.6234467  0.66549636 0.53464951 0.27763499 0.35510301 0.22867034\n",
      "  0.80870769 0.26287395 1.02321182 0.41893318 0.1178838  0.80984357\n",
      "  0.50937156 0.48537271 0.52352958 0.6920963  0.81223239 0.36915891\n",
      "  0.18885563 0.15551999 0.57282774 0.10171393 0.15765816 0.58497797\n",
      "  0.55062363 0.71045698 0.5931673  0.85485085 0.86677296 0.745004\n",
      "  0.3011623  1.06611137 0.25078884 0.99211783]\n",
      " [0.23890587 0.17970058 0.55036329 0.5220628  0.44527268 0.7263516\n",
      "  0.63586005 0.23096431 0.98144431 0.49228868 0.67462003 0.1878505\n",
      "  0.78808831 0.41153819 0.51058962 0.64846441 0.34510569 0.47269745\n",
      "  0.69283394 0.24833767 0.60148042 0.69073398 0.60082544 0.55155182\n",
      "  0.0904555  0.82834721 0.25766094 0.76024309 0.80171441 0.22060542\n",
      "  0.64167062 0.17083759 0.34180527 0.56920506 0.54695301 0.32446355\n",
      "  0.58508022 0.76635536 0.43951712 0.26306502 0.81816894 0.46966448\n",
      "  0.61814312 0.55501783 0.12189337 0.35039256 0.57592289 0.57305849\n",
      "  0.14023885 0.7822431  0.53424372 0.72551156 0.36326302 0.30811814\n",
      "  0.13585933 0.         0.49085096 0.43535128 0.40085313 0.75940539\n",
      "  0.17229566 0.27982255 0.55842916 0.72063362 0.63468492 0.76832699\n",
      "  0.50774654 0.71925916 0.40116417 0.22394037 0.32619386 0.34078354\n",
      "  0.71725526 0.35408967 0.95382427 0.3935268  0.25374094 0.67445755\n",
      "  0.37781801 0.39106252 0.43505365 0.59846259 0.68126897 0.31569019\n",
      "  0.07109057 0.16309945 0.49994069 0.03573324 0.18077582 0.52073717\n",
      "  0.41478116 0.70498709 0.46982727 0.8177199  0.77761175 0.62925677\n",
      "  0.25917899 0.98628526 0.35784793 0.89592135]\n",
      " [0.33921924 0.34637784 0.67747332 0.56358857 0.08998762 0.79586566\n",
      "  0.69184923 0.52635266 0.6813368  0.17778707 0.44615407 0.63906598\n",
      "  0.73357819 0.72066783 0.3153866  0.15860132 0.5808774  0.01822656\n",
      "  0.22873123 0.67628325 0.76345691 0.6785762  0.72979099 0.16958146\n",
      "  0.57918366 0.365333   0.62274032 0.47398905 0.61405433 0.33772661\n",
      "  0.17156787 0.32507578 0.2932888  0.78758121 0.2033976  0.69515826\n",
      "  0.24301757 0.61168735 0.51294569 0.23118012 0.32850073 0.18581861\n",
      "  0.12840636 0.11364706 0.39974278 0.17890104 0.29823357 0.15876878\n",
      "  0.47023505 0.62810555 0.27705989 0.68935857 0.39096503 0.20357472\n",
      "  0.48767193 0.49085096 0.         0.21484818 0.15512517 0.30344409\n",
      "  0.40636831 0.22997195 0.68462315 0.41675722 0.20528374 0.71354275\n",
      "  0.52848321 0.30158103 0.73996251 0.28495659 0.17911185 0.3970932\n",
      "  0.53074652 0.32650919 0.6314204  0.12614488 0.5157409  0.92852851\n",
      "  0.73970057 0.35983849 0.34664505 0.45658625 0.78542681 0.2286995\n",
      "  0.44672458 0.62827208 0.30129673 0.49552674 0.63734971 0.27286754\n",
      "  0.68667421 0.22309778 0.55979112 0.39792652 0.56705713 0.61008995\n",
      "  0.24623638 0.70423322 0.3784281  0.70342407]\n",
      " [0.39706209 0.36539349 0.46656603 0.3494154  0.12618589 0.58108264\n",
      "  0.47700157 0.56290869 0.56847933 0.07032575 0.28001637 0.52946833\n",
      "  0.52882116 0.54306233 0.1157165  0.33213996 0.39926744 0.20854876\n",
      "  0.29650909 0.66912292 0.55359685 0.46668566 0.51761347 0.13677006\n",
      "  0.50843746 0.55817    0.64277853 0.34401948 0.4410209  0.22130866\n",
      "  0.37382852 0.27346781 0.40745902 0.58471695 0.41006415 0.54084326\n",
      "  0.45265742 0.42651358 0.30430586 0.25495867 0.48235831 0.04546072\n",
      "  0.28403561 0.32846947 0.39439811 0.11143214 0.14783764 0.3733932\n",
      "  0.47842696 0.44362063 0.10762411 0.48048809 0.19260514 0.15082804\n",
      "  0.49179556 0.43535128 0.21484818 0.         0.07776903 0.34797334\n",
      "  0.43173893 0.2854825  0.47339477 0.29590641 0.22281194 0.50822174\n",
      "  0.31407696 0.51402111 0.56978721 0.21657483 0.15066508 0.50089697\n",
      "  0.35217609 0.44435355 0.53202425 0.11900837 0.56391575 0.72689811\n",
      "  0.57745523 0.15357631 0.13245695 0.25662503 0.57102556 0.1230259\n",
      "  0.37059069 0.59608139 0.10036978 0.45499327 0.61133876 0.09558658\n",
      "  0.50188677 0.33039836 0.35001236 0.38634554 0.40106161 0.39723449\n",
      "  0.1907821  0.58109828 0.49189362 0.53647157]\n",
      " [0.3289569  0.30499422 0.52367362 0.4131967  0.06727244 0.64899659\n",
      "  0.54401922 0.50257401 0.63409262 0.09775329 0.35440935 0.51954894\n",
      "  0.60516603 0.57090538 0.19337372 0.29536023 0.4292218  0.14456513\n",
      "  0.2968356  0.62207741 0.60912556 0.53995377 0.57661721 0.15098299\n",
      "  0.48138293 0.51560113 0.58766024 0.4112043  0.51749848 0.20641255\n",
      "  0.32432032 0.23116864 0.33153812 0.6324739  0.33895887 0.55418669\n",
      "  0.38254775 0.50407816 0.358704   0.18783819 0.4577068  0.08158944\n",
      "  0.25151828 0.26676814 0.34172089 0.05090158 0.21445149 0.30927046\n",
      "  0.42400892 0.52116599 0.17792098 0.5555444  0.23584177 0.09469693\n",
      "  0.43880076 0.40085313 0.15512517 0.07776903 0.         0.35978363\n",
      "  0.37170209 0.2139497  0.53096738 0.35965192 0.23411044 0.58445711\n",
      "  0.37881702 0.4563971  0.59288467 0.17698042 0.08448624 0.42713929\n",
      "  0.42899339 0.36847967 0.5939568  0.04152679 0.50088511 0.77352728\n",
      "  0.59570059 0.20584724 0.19848916 0.33427384 0.63488972 0.09097049\n",
      "  0.34258425 0.55617814 0.178024   0.41546794 0.56957467 0.16767869\n",
      "  0.53461801 0.31869055 0.40578723 0.41903267 0.47638888 0.46983357\n",
      "  0.14263826 0.64918661 0.41689475 0.61246311]\n",
      " [0.64070455 0.63977513 0.74972353 0.62124521 0.31644968 0.80739099\n",
      "  0.71851224 0.82733553 0.45427923 0.27898377 0.35754385 0.87480767\n",
      "  0.67843874 0.87861036 0.35421866 0.21502005 0.73589893 0.31934719\n",
      "  0.07498619 0.96869156 0.8359138  0.66552681 0.790582   0.21324041\n",
      "  0.84112469 0.36184906 0.92170209 0.31521442 0.49240094 0.56209376\n",
      "  0.28736176 0.58869698 0.59527272 0.88674948 0.44234958 0.8866015\n",
      "  0.46175241 0.51672391 0.60954236 0.51910106 0.22457603 0.30413877\n",
      "  0.19724373 0.33505752 0.68732186 0.4094358  0.27568897 0.36961123\n",
      "  0.76407746 0.52859268 0.29855537 0.65748731 0.52683221 0.45128736\n",
      "  0.78069111 0.75940539 0.30344409 0.34797334 0.35978363 0.\n",
      "  0.7032546  0.52712534 0.75454082 0.26867848 0.12659587 0.66294532\n",
      "  0.58731858 0.41389545 0.90932641 0.53624767 0.4340913  0.69866807\n",
      "  0.43892815 0.62705088 0.39468516 0.36685962 0.81812172 1.02672422\n",
      "  0.92043771 0.48225207 0.44123513 0.43663619 0.81996103 0.44926094\n",
      "  0.70236645 0.91070938 0.35090901 0.77162954 0.92248198 0.30815041\n",
      "  0.83283003 0.10665291 0.64717536 0.11661992 0.44150048 0.61290132\n",
      "  0.50022766 0.48750581 0.67859336 0.55555989]\n",
      " [0.0802778  0.06673213 0.67854177 0.62395215 0.39168756 0.84841374\n",
      "  0.75006856 0.13123738 1.00012874 0.46938989 0.70435118 0.35943562\n",
      "  0.87900999 0.57416424 0.53333117 0.55265899 0.48640206 0.38873424\n",
      "  0.63050713 0.27119093 0.74097826 0.78900462 0.7322718  0.51530705\n",
      "  0.24993462 0.70246937 0.21884698 0.77554553 0.85252386 0.27336247\n",
      "  0.52902976 0.1786331  0.18170464 0.71997932 0.40629469 0.49382102\n",
      "  0.43912493 0.82594133 0.54233455 0.18688248 0.71676062 0.45225408\n",
      "  0.53301975 0.44002612 0.0626638  0.32378875 0.57950424 0.44694595\n",
      "  0.06723577 0.8428099  0.53924705 0.81875122 0.43644125 0.28141024\n",
      "  0.08548308 0.17229566 0.40636831 0.43173893 0.37170209 0.7032546\n",
      "  0.         0.1767288  0.68685521 0.72740608 0.58761184 0.85827701\n",
      "  0.60187798 0.58104449 0.56824733 0.22768424 0.28721964 0.16870005\n",
      "  0.7638022  0.18658648 0.96328828 0.34736788 0.13404388 0.83477142\n",
      "  0.54733237 0.44846543 0.48133661 0.65019072 0.81020014 0.31215868\n",
      "  0.19716663 0.23967223 0.51965282 0.14869742 0.24295833 0.52682292\n",
      "  0.57018721 0.62946456 0.58120068 0.78199866 0.81972742 0.72170749\n",
      "  0.24269964 1.01175057 0.18565299 0.94911104]\n",
      " [0.1173952  0.11702166 0.63932703 0.55558426 0.21992501 0.79302341\n",
      "  0.68881584 0.30096028 0.84772061 0.30817915 0.56548862 0.45231898\n",
      "  0.78637852 0.60184969 0.39805844 0.37989999 0.48172811 0.21219854\n",
      "  0.45401589 0.44634886 0.7151547  0.70749915 0.69476134 0.34612934\n",
      "  0.3702738  0.54868386 0.39461113 0.62514875 0.72460598 0.21825307\n",
      "  0.36438767 0.14555258 0.13214424 0.71447285 0.27209463 0.54721065\n",
      "  0.31323806 0.7059097  0.48190233 0.04083513 0.54703449 0.2951997\n",
      "  0.35739746 0.27646992 0.17357797 0.1744624  0.42835414 0.29326091\n",
      "  0.24029904 0.72307656 0.39101361 0.73065127 0.35747731 0.14201163\n",
      "  0.25782396 0.27982255 0.22997195 0.2854825  0.2139497  0.52712534\n",
      "  0.1767288  0.         0.64750122 0.57321902 0.41376631 0.76533449\n",
      "  0.52654822 0.44111478 0.60893693 0.14685456 0.13523634 0.21620599\n",
      "  0.63530356 0.16701362 0.80637884 0.18162432 0.29432493 0.84531149\n",
      "  0.59821246 0.35204352 0.37038022 0.53082443 0.76563211 0.18568405\n",
      "  0.25487921 0.40203853 0.38308257 0.27667471 0.40965525 0.38003339\n",
      "  0.58217254 0.4529789  0.52725471 0.60925309 0.68611722 0.63705268\n",
      "  0.13011982 0.8631342  0.20977855 0.82068439]\n",
      " [0.70851578 0.6446997  0.00833159 0.13334084 0.59465886 0.1695399\n",
      "  0.10384993 0.78507789 0.6724982  0.53116341 0.43375622 0.47500156\n",
      "  0.29416238 0.25080694 0.40747478 0.802345   0.21672568 0.67534605\n",
      "  0.73148336 0.78249184 0.08192549 0.19705892 0.04728304 0.58555137\n",
      "  0.55833365 1.02901452 0.81354915 0.52773567 0.43482653 0.43277519\n",
      "  0.84721874 0.52470213 0.77624766 0.14276935 0.86467916 0.34317071\n",
      "  0.90920816 0.38152359 0.17272022 0.60671548 0.93857553 0.51220619\n",
      "  0.75314068 0.79749516 0.6247127  0.52378887 0.47959064 0.84020847\n",
      "  0.68767416 0.38869639 0.46390403 0.23868689 0.29986144 0.52676017\n",
      "  0.68884339 0.55842916 0.68462315 0.47339477 0.53096738 0.75454082\n",
      "  0.68685521 0.64750122 0.         0.53308752 0.65382062 0.28146786\n",
      "  0.16798689 0.98600601 0.29470535 0.50182664 0.54778674 0.83378775\n",
      "  0.39745407 0.80725982 0.68060426 0.56697061 0.80367517 0.27434356\n",
      "  0.32987587 0.32512235 0.34175816 0.32938256 0.1235699  0.48306271\n",
      "  0.50021631 0.68554846 0.41523063 0.59410449 0.70728925 0.45786421\n",
      "  0.2026917  0.77853241 0.12537693 0.72896852 0.44839941 0.18474688\n",
      "  0.51903072 0.65482231 0.83849578 0.49607927]\n",
      " [0.68859363 0.66089629 0.53004925 0.4058651  0.36533839 0.55476115\n",
      "  0.47651798 0.85863023 0.27450159 0.26600874 0.10086478 0.78099652\n",
      "  0.41165145 0.70862147 0.21191623 0.42621461 0.57743398 0.42329692\n",
      "  0.28829086 0.96123759 0.61037306 0.40991608 0.56137575 0.24753163\n",
      "  0.78456405 0.62044323 0.93834624 0.05761186 0.22584669 0.50019532\n",
      "  0.49754879 0.56682629 0.68331771 0.67401775 0.61212866 0.74524165\n",
      "  0.64517942 0.24807175 0.42331047 0.54708297 0.49083755 0.27811548\n",
      "  0.384482   0.50484761 0.68989248 0.40442693 0.1481064  0.55013767\n",
      "  0.77406386 0.25996806 0.18919579 0.39618555 0.39125915 0.44604052\n",
      "  0.78711225 0.72063362 0.41675722 0.29590641 0.35965192 0.26867848\n",
      "  0.72740608 0.57321902 0.53308752 0.         0.23826383 0.39716741\n",
      "  0.37769543 0.64325124 0.74649636 0.51018039 0.44254173 0.78309525\n",
      "  0.17190111 0.71986622 0.23615763 0.39255282 0.85890194 0.80663325\n",
      "  0.76667107 0.3492059  0.30014368 0.20441516 0.57616583 0.41797067\n",
      "  0.65198542 0.88349708 0.22118062 0.74384921 0.90011811 0.20224159\n",
      "  0.65717231 0.34391416 0.44839422 0.20322832 0.17456754 0.36735668\n",
      "  0.48654928 0.29152598 0.77034696 0.29970784]\n",
      " [0.52996708 0.52266458 0.64829255 0.52109289 0.19630305 0.72539686\n",
      "  0.6299082  0.71463599 0.48441176 0.15306506 0.30032182 0.74825695\n",
      "  0.61902796 0.75993502 0.24653222 0.18875734 0.61642582 0.21778733\n",
      "  0.07819459 0.84916068 0.73573988 0.58935936 0.69298186 0.08682419\n",
      "  0.71541066 0.39721111 0.80644924 0.294944   0.45874718 0.43550108\n",
      "  0.25931137 0.46434849 0.49657987 0.78031386 0.38242815 0.76319448\n",
      "  0.41189521 0.4705662  0.49925373 0.40133666 0.28681857 0.17829321\n",
      "  0.14625918 0.2727512  0.56732597 0.28430137 0.17931221 0.31613927\n",
      "  0.64619288 0.48502062 0.18994797 0.58822687 0.40701509 0.32687192\n",
      "  0.66228981 0.63468492 0.20528374 0.22281194 0.23411044 0.12659587\n",
      "  0.58761184 0.41376631 0.65382062 0.23826383 0.         0.60130224\n",
      "  0.48590476 0.40575704 0.78902409 0.41100721 0.31100617 0.60032459\n",
      "  0.38809784 0.5307364  0.43131362 0.24447446 0.70770436 0.92185254\n",
      "  0.79854852 0.36336835 0.32587923 0.35449922 0.73066198 0.32294624\n",
      "  0.57653082 0.78799767 0.24005199 0.64808364 0.80045805 0.19676655\n",
      "  0.71582987 0.12613079 0.53989968 0.19590498 0.40803503 0.5296865\n",
      "  0.37568668 0.51075138 0.58268444 0.53769761]\n",
      " [0.8560571  0.80240676 0.28508031 0.24822136 0.63093704 0.19137579\n",
      "  0.17835727 0.97577836 0.43072969 0.53612946 0.30603761 0.72936198\n",
      "  0.02104531 0.53103971 0.39841498 0.78339898 0.46460729 0.71118858\n",
      "  0.66853792 1.01097703 0.32181694 0.08621463 0.2755448  0.5646546\n",
      "  0.79172174 0.99845758 1.02465813 0.36325875 0.20473142 0.58491788\n",
      "  0.84559579 0.68041759 0.89672206 0.4053597  0.91526444 0.616624\n",
      "  0.95631787 0.15834922 0.32939413 0.72665249 0.87936158 0.52843919\n",
      "  0.7352887  0.82344044 0.80132701 0.60204161 0.42930778 0.87019223\n",
      "  0.87765373 0.15411361 0.43926737 0.04502907 0.42188595 0.62475906\n",
      "  0.8835468  0.76832699 0.71354275 0.50822174 0.58445711 0.66294532\n",
      "  0.85827701 0.76533449 0.28146786 0.39716741 0.60130224 0.\n",
      "  0.26074087 0.99409461 0.57512511 0.63842074 0.63753603 0.97642394\n",
      "  0.22529101 0.93226993 0.4558075  0.62595358 0.98821277 0.49932178\n",
      "  0.60919898 0.41537018 0.3957183  0.25735479 0.23910124 0.57991396\n",
      "  0.70042348 0.91630303 0.41289804 0.80203391 0.9373309  0.44158535\n",
      "  0.48079403 0.72333997 0.30623248 0.59697569 0.24297593 0.13907449\n",
      "  0.63907037 0.4043349  0.9738484  0.23097428]\n",
      " [0.60653034 0.54906148 0.16271018 0.03581098 0.43885848 0.27125955\n",
      "  0.16588238 0.71643847 0.5576155  0.36715076 0.28289686 0.48358836\n",
      "  0.28075061 0.33990557 0.23975985 0.63801536 0.22944635 0.52094004\n",
      "  0.56351192 0.75160946 0.24987229 0.18714272 0.20784194 0.41903247\n",
      "  0.53480385 0.86441814 0.76391742 0.38179936 0.33229798 0.32974069\n",
      "  0.68611552 0.42604304 0.65856447 0.30094934 0.71738125 0.39802692\n",
      "  0.76122748 0.28493754 0.07195617 0.48622569 0.77107417 0.34979816\n",
      "  0.5885685  0.64210532 0.54341266 0.38069509 0.3119351  0.68638148\n",
      "  0.61805404 0.29783951 0.29604642 0.21870191 0.17002589 0.39277326\n",
      "  0.6234467  0.50774654 0.52848321 0.31407696 0.37881702 0.58731858\n",
      "  0.60187798 0.52654822 0.16798689 0.37769543 0.48590476 0.26074087\n",
      "  0.         0.82800273 0.38111796 0.38937579 0.41042332 0.72982642\n",
      "  0.26957249 0.69246822 0.55402645 0.41763888 0.72988676 0.43955978\n",
      "  0.40715793 0.1783132  0.1818387  0.17459027 0.25696857 0.34719858\n",
      "  0.43968262 0.65777247 0.24805347 0.54132774 0.67854445 0.29031812\n",
      "  0.28679117 0.61082961 0.07329892 0.5670886  0.32905737 0.12173471\n",
      "  0.39671318 0.54783031 0.73007325 0.41497123]\n",
      " [0.5007733  0.54364223 0.97890972 0.86341678 0.39142347 1.09230289\n",
      "  0.98947503 0.66221959 0.86682792 0.46530688 0.70273008 0.89289577\n",
      "  1.0131131  1.01195144 0.60364119 0.21708906 0.87579271 0.3120749\n",
      "  0.36207007 0.83850613 1.06502058 0.96858476 1.03094461 0.42944795\n",
      "  0.80933789 0.13972137 0.76179264 0.69902314 0.86426793 0.6193922\n",
      "  0.14876287 0.5784117  0.40442373 1.08825385 0.17477056 0.97472925\n",
      "  0.14584588 0.87355691 0.81451409 0.46635773 0.24206734 0.47949949\n",
      "  0.26146059 0.19053488 0.60417989 0.47367637 0.56517029 0.15415568\n",
      "  0.6474245  0.88861357 0.55631151 0.97484251 0.692082   0.4875786\n",
      "  0.66549636 0.71925916 0.30158103 0.51402111 0.4563971  0.41389545\n",
      "  0.58104449 0.44111478 0.98600601 0.64325124 0.40575704 0.99409461\n",
      "  0.82800273 0.         1.02725186 0.55511895 0.46267374 0.47821124\n",
      "  0.79075974 0.41520898 0.80800567 0.42397744 0.63987901 1.22862639\n",
      "  1.02270501 0.66140421 0.6464699  0.738051   1.08484264 0.52174985\n",
      "  0.69501913 0.82066566 0.59105194 0.71169137 0.82289391 0.55584407\n",
      "  0.98155221 0.31072639 0.86131261 0.53020499 0.8137056  0.90225762\n",
      "  0.51970977 0.89853305 0.45145846 0.94295906]\n",
      " [0.62028443 0.5530883  0.29039527 0.36479004 0.65926729 0.44468125\n",
      "  0.3985298  0.62542305 0.93771574 0.63976718 0.65872673 0.24211111\n",
      "  0.58858168 0.04410849 0.56217807 0.88822286 0.17376023 0.72515979\n",
      "  0.86512312 0.56467605 0.28391872 0.48951568 0.31324409 0.70540196\n",
      "  0.35670977 1.10528136 0.62054401 0.75874054 0.70675025 0.40787463\n",
      "  0.91137759 0.46349195 0.71371145 0.21443664 0.87289041 0.08029133\n",
      "  0.9165156  0.65576877 0.32404525 0.57379844 1.04867319 0.61522983\n",
      "  0.84396995 0.83969472 0.50897661 0.56109694 0.64539853 0.87311253\n",
      "  0.54100031 0.66598436 0.6141671  0.53137656 0.38252289 0.54059312\n",
      "  0.53464951 0.40116417 0.73996251 0.56978721 0.59288467 0.90932641\n",
      "  0.56824733 0.60893693 0.29470535 0.74649636 0.78902409 0.57512511\n",
      "  0.38111796 1.02725186 0.         0.47419389 0.56566196 0.73574858\n",
      "  0.65039582 0.73502915 0.93511649 0.61424862 0.65113609 0.28090749\n",
      "  0.0381518  0.42711001 0.46999724 0.55132605 0.38511762 0.51126484\n",
      "  0.37477378 0.47215856 0.56213021 0.43326301 0.4930375  0.6031565\n",
      "  0.09645699 0.9000798  0.30803603 0.91755232 0.70891871 0.46162376\n",
      "  0.50797884 0.9258669  0.7494024  0.77951513]\n",
      " [0.21787092 0.16599823 0.4936044  0.41604714 0.22545326 0.65102336\n",
      "  0.54793476 0.35592318 0.77930407 0.26912418 0.47891946 0.35433471\n",
      "  0.65937494 0.46282271 0.30832643 0.44296806 0.33690571 0.26774078\n",
      "  0.47118238 0.45254812 0.5684764  0.57437918 0.54901884 0.32761358\n",
      "  0.30515005 0.64397715 0.42912556 0.55496794 0.62486953 0.07167632\n",
      "  0.45040057 0.05689618 0.27448379 0.56812466 0.39886638 0.41961344\n",
      "  0.44274524 0.59852863 0.33921097 0.10673237 0.61223898 0.2472554\n",
      "  0.40686285 0.37140927 0.18136351 0.12681396 0.36251608 0.40117988\n",
      "  0.26556646 0.6154472  0.32105676 0.60092094 0.21947314 0.08621279\n",
      "  0.27763499 0.22394037 0.28495659 0.21657483 0.17698042 0.53624767\n",
      "  0.22768424 0.14685456 0.50182664 0.51018039 0.41100721 0.63842074\n",
      "  0.38937579 0.55511895 0.47419389 0.         0.10774695 0.34045434\n",
      "  0.53623915 0.30623354 0.74608088 0.17324033 0.36165797 0.70034692\n",
      "  0.46786742 0.2239062  0.25396844 0.42259819 0.62118419 0.0938129\n",
      "  0.16705589 0.38125296 0.29535239 0.24004101 0.39572415 0.30794038\n",
      "  0.43930129 0.48727022 0.3834042  0.59429794 0.59263014 0.50502318\n",
      "  0.03882922 0.7887067  0.34117538 0.72144146]\n",
      " [0.24679304 0.2205085  0.53995913 0.44225272 0.11914271 0.68113222\n",
      "  0.57582282 0.41813647 0.71664073 0.18221513 0.43048501 0.4617066\n",
      "  0.65852485 0.549322   0.26287304 0.33608444 0.41386579 0.16258384\n",
      "  0.36665942 0.53971012 0.62159174 0.58467637 0.59474993 0.23190804\n",
      "  0.41066651 0.54223613 0.50339882 0.49289186 0.58945869 0.15947493\n",
      "  0.34795768 0.15543738 0.26153776 0.63385205 0.3201266  0.51749307\n",
      "  0.36490221 0.57155849 0.3761762  0.10474004 0.50492089 0.1653693\n",
      "  0.29918265 0.27405797 0.25842962 0.03928705 0.29581737 0.30899395\n",
      "  0.34002997 0.58872835 0.25726905 0.60491586 0.24834829 0.02507995\n",
      "  0.35510301 0.32619386 0.17911185 0.15066508 0.08448624 0.4340913\n",
      "  0.28721964 0.13523634 0.54778674 0.44254173 0.31100617 0.63753603\n",
      "  0.41042332 0.46267374 0.56566196 0.10774695 0.         0.35131048\n",
      "  0.5001936  0.29802322 0.67758557 0.06737268 0.41682146 0.77160987\n",
      "  0.56327148 0.2321701  0.24202884 0.3972719  0.6599508  0.06472541\n",
      "  0.27387276 0.4770305  0.24786577 0.33754057 0.48947821 0.24583859\n",
      "  0.51937947 0.38027435 0.42329911 0.5005788  0.55090072 0.5139129\n",
      "  0.06910705 0.73061575 0.34369861 0.68547751]\n",
      " [0.12527584 0.19052229 0.82546429 0.75609646 0.41991364 0.98900873\n",
      "  0.88707306 0.19054528 1.05698292 0.51713177 0.78079146 0.5270719\n",
      "  0.99745025 0.73992963 0.61418346 0.51209754 0.64368314 0.38300234\n",
      "  0.62368565 0.3698873  0.89370118 0.91453019 0.88033351 0.54540813\n",
      "  0.4142699  0.61242519 0.28659288 0.83663429 0.94076572 0.40357802\n",
      "  0.46792303 0.30925188 0.10383595 0.87921764 0.31306765 0.66212939\n",
      "  0.33265746 0.92193556 0.67779366 0.25166145 0.65866362 0.50697832\n",
      "  0.50756884 0.3847095  0.22680986 0.39042815 0.64101937 0.37379655\n",
      "  0.21432641 0.93909779 0.60504842 0.94009923 0.55991094 0.35761938\n",
      "  0.22867034 0.34078354 0.3970932  0.50089697 0.42713929 0.69866807\n",
      "  0.16870005 0.21620599 0.83378775 0.78309525 0.60032459 0.97642394\n",
      "  0.72982642 0.47821124 0.73574858 0.34045434 0.35131048 0.\n",
      "  0.85148359 0.07239777 1.01280465 0.39111784 0.16466481 0.99857021\n",
      "  0.71563428 0.56112138 0.58384469 0.7465367  0.9557099  0.39988779\n",
      "  0.36197751 0.37568633 0.59916301 0.31515432 0.37138024 0.5945624\n",
      "  0.73283707 0.60777689 0.7204062  0.79477538 0.90190134 0.84483735\n",
      "  0.33743074 1.07433829 0.02689365 1.03677184]\n",
      " [0.74186454 0.70040822 0.39628953 0.28710649 0.45908988 0.39020368\n",
      "  0.32342254 0.89178902 0.28833982 0.35628195 0.08805108 0.73529418\n",
      "  0.23984251 0.60865313 0.23738252 0.57534629 0.49583983 0.53237181\n",
      "  0.44989468 0.96536055 0.46764882 0.24533092 0.41715481 0.3673674\n",
      "  0.76488772 0.7823922  0.95876006 0.14169751 0.0893841  0.50341833\n",
      "  0.64226902 0.58853683 0.75958199 0.54009686 0.73379601 0.66600756\n",
      "  0.77156012 0.08279972 0.33353174 0.60161354 0.65817534 0.3566583\n",
      "  0.52933241 0.63321443 0.71566657 0.46117378 0.23267559 0.6800304\n",
      "  0.79868868 0.0982229  0.25675674 0.22669091 0.35594454 0.49498047\n",
      "  0.80870769 0.71725526 0.53074652 0.35217609 0.42899339 0.43892815\n",
      "  0.7638022  0.63530356 0.39745407 0.17190111 0.38809784 0.22529101\n",
      "  0.26957249 0.79075974 0.65039582 0.53623915 0.5001936  0.85148359\n",
      "  0.         0.79645187 0.28599811 0.46896313 0.89783578 0.66330859\n",
      "  0.67672278 0.3263957  0.2852516  0.11899486 0.41850691 0.45580053\n",
      "  0.64616874 0.87820393 0.25251485 0.74616671 0.89722188 0.26412361\n",
      "  0.55532851 0.5054247  0.34238275 0.37248417 0.06196024 0.21624911\n",
      "  0.52387696 0.28114073 0.84352367 0.18590303]\n",
      " [0.11613404 0.18214575 0.79899504 0.72074142 0.35491974 0.9570044\n",
      "  0.85344308 0.24704528 0.99282345 0.45466644 0.72285785 0.54181839\n",
      "  0.95331219 0.73488172 0.55927353 0.43976638 0.62799341 0.3130012\n",
      "  0.55209238 0.42441584 0.87145347 0.87432199 0.85432139 0.47892683\n",
      "  0.43595084 0.54662051 0.34664293 0.77433473 0.88537327 0.37450421\n",
      "  0.3966381  0.28588161 0.03694245 0.8636126  0.24565541 0.66512138\n",
      "  0.26944676 0.86924116 0.64524774 0.20653249 0.58769775 0.44637665\n",
      "  0.43530883 0.31264891 0.23290347 0.33623331 0.58031699 0.30331821\n",
      "  0.24602318 0.88640594 0.54587896 0.89766344 0.52279167 0.30801517\n",
      "  0.26287395 0.35408967 0.32650919 0.44435355 0.36847967 0.62705088\n",
      "  0.18658648 0.16701362 0.80725982 0.71986622 0.5307364  0.93226993\n",
      "  0.69246822 0.41520898 0.73502915 0.30623354 0.29802322 0.07239777\n",
      "  0.79645187 0.         0.94729245 0.33043202 0.22499693 0.9885447\n",
      "  0.71824291 0.51893617 0.53702611 0.69529412 0.92729601 0.3524153\n",
      "  0.36110612 0.41700665 0.54404552 0.33423002 0.41589503 0.53605748\n",
      "  0.72262917 0.53549683 0.68963734 0.72443359 0.84485043 0.80394297\n",
      "  0.29583084 1.01138997 0.05195139 0.98072989]\n",
      " [0.92264281 0.89670385 0.68004576 0.57300697 0.59291165 0.64489126\n",
      "  0.59799614 1.09452547 0.06152181 0.49820005 0.287179   1.00123762\n",
      "  0.46036179 0.89384972 0.44323562 0.6003005  0.7760255  0.64096413\n",
      "  0.44941805 1.19627242 0.7465467  0.50858978 0.69599566 0.468552\n",
      "  1.01422623 0.75010396 1.17448269 0.19382935 0.25404036 0.73324158\n",
      "  0.67444081 0.80261694 0.91127142 0.82242982 0.81300073 0.9465759\n",
      "  0.84014882 0.30649719 0.61436424 0.78177351 0.60642313 0.51241636\n",
      "  0.56899407 0.70294479 0.92602956 0.63987195 0.3842606  0.74460334\n",
      "  1.01021426 0.3050057  0.42529078 0.47772906 0.61108157 0.68187806\n",
      "  1.02321182 0.95382427 0.6314204  0.53202425 0.5939568  0.39468516\n",
      "  0.96328828 0.80637884 0.68060426 0.23615763 0.43131362 0.4558075\n",
      "  0.55402645 0.80800567 0.93511649 0.74608088 0.67758557 1.01280465\n",
      "  0.28599811 0.94729245 0.         0.62485858 1.09433443 0.93928998\n",
      "  0.96030608 0.57255734 0.52450319 0.38759928 0.68464759 0.65410093\n",
      "  0.88433651 1.11690895 0.45410549 0.97810682 1.13400225 0.4382441\n",
      "  0.84062406 0.49765487 0.6272329  0.28012102 0.23222956 0.49641826\n",
      "  0.72270458 0.09997265 0.9985351  0.24541178]\n",
      " [0.29851583 0.28121059 0.55952834 0.45162688 0.05221564 0.68837428\n",
      "  0.58321746 0.47705528 0.66692854 0.12676716 0.3928785  0.52498766\n",
      "  0.64667134 0.59455666 0.23430223 0.27686646 0.4548116  0.1127004\n",
      "  0.29930811 0.60497769 0.64417638 0.5809173  0.61302998 0.16802774\n",
      "  0.47757907 0.4911306  0.56538457 0.44557028 0.55714152 0.2159856\n",
      "  0.29768327 0.22272233 0.29352466 0.66440663 0.29975859 0.57118542\n",
      "  0.34373817 0.5447415  0.39431078 0.16071437 0.44363561 0.11603858\n",
      "  0.23680655 0.23348415 0.32319476 0.05347008 0.25011549 0.27409247\n",
      "  0.40327755 0.5618004  0.21557263 0.59687758 0.26914737 0.08705462\n",
      "  0.41893318 0.3935268  0.12614488 0.11900837 0.04152679 0.36685962\n",
      "  0.34736788 0.18162432 0.56697061 0.39255282 0.24447446 0.62595358\n",
      "  0.41763888 0.42397744 0.61424862 0.17324033 0.06737268 0.39111784\n",
      "  0.46896313 0.33043202 0.62485858 0.         0.47339204 0.80464917\n",
      "  0.61477721 0.24245758 0.23851196 0.37562677 0.67292995 0.10328073\n",
      "  0.34017743 0.54398041 0.21896573 0.4047967  0.55612461 0.20614048\n",
      "  0.56063815 0.31404741 0.44160388 0.43592289 0.51524242 0.51067335\n",
      "  0.13535411 0.6834034  0.37967997 0.65168056]\n",
      " [0.17780134 0.19890374 0.79544338 0.75013795 0.51416972 0.96867674\n",
      "  0.8730331  0.03028621 1.13234832 0.59800943 0.83807726 0.41964484\n",
      "  1.00880378 0.66424532 0.66706835 0.65021362 0.59513782 0.49914931\n",
      "  0.74394935 0.20622182 0.8519299  0.91687868 0.84776945 0.63998402\n",
      "  0.30036045 0.77153203 0.12220717 0.90793481 0.98652582 0.40431035\n",
      "  0.61524087 0.31138364 0.24198021 0.82263714 0.47039762 0.57238446\n",
      "  0.49403446 0.95959428 0.66769575 0.31333458 0.80639715 0.58216927\n",
      "  0.63754957 0.52810546 0.18692374 0.45450793 0.71136514 0.52481334\n",
      "  0.11620955 0.97642435 0.67153783 0.94789145 0.56713089 0.41313093\n",
      "  0.1178838  0.25374094 0.5157409  0.56391575 0.50088511 0.81812172\n",
      "  0.13404388 0.29432493 0.80367517 0.85890194 0.70770436 0.98821277\n",
      "  0.72988676 0.63987901 0.65113609 0.36165797 0.41682146 0.16466481\n",
      "  0.89783578 0.22499693 1.09433443 0.47339204 0.         0.92735997\n",
      "  0.62483834 0.58123046 0.61505302 0.78400943 0.92721687 0.44561018\n",
      "  0.3037236  0.22742015 0.65327564 0.21933572 0.21835551 0.65931242\n",
      "  0.66850605 0.73672392 0.7042388  0.90340634 0.95374764 0.85068346\n",
      "  0.37620503 1.14467759 0.19138676 1.0830989 ]\n",
      " [0.87767329 0.81012702 0.27824845 0.40638541 0.8401299  0.31295249\n",
      "  0.34149491 0.90270339 0.92349613 0.79027037 0.70667354 0.5229971\n",
      "  0.50329912 0.26311803 0.67565619 1.05903769 0.36361111 0.91684755\n",
      "  0.99996381 0.84480082 0.1965718  0.43204414 0.24654436 0.84897076\n",
      "  0.63690396 1.28484143 0.90135104 0.79839797 0.68662389 0.62886149\n",
      "  1.09705964 0.70501091 0.9629801  0.1423002  1.09124928 0.36116082\n",
      "  1.13596814 0.63335584 0.42453029 0.80645774 1.20341997 0.76908759\n",
      "  1.01076262 1.03811581 0.77324134 0.7556687  0.75110552 1.07757148\n",
      "  0.8146173  0.63680103 0.73233597 0.46705284 0.5381126  0.74783873\n",
      "  0.80984357 0.67445755 0.92852851 0.72689811 0.77352728 1.02672422\n",
      "  0.83477142 0.84531149 0.27434356 0.80663325 0.92185254 0.49932178\n",
      "  0.43955978 1.22862639 0.28090749 0.70034692 0.77160987 0.99857021\n",
      "  0.66330859 0.9885447  0.93928998 0.80464917 0.92735997 0.\n",
      "  0.31370012 0.57346461 0.60043452 0.60351402 0.26022226 0.70909059\n",
      "  0.63770618 0.7529576  0.681826   0.70814017 0.77373912 0.72508603\n",
      "  0.26606964 1.04481632 0.38205913 1.00330723 0.70867716 0.44707277\n",
      "  0.72724331 0.90061146 1.0093735  0.73000445]\n",
      " [0.60273292 0.53610157 0.32522135 0.39307669 0.66129804 0.48210752\n",
      "  0.43351432 0.59845034 0.96470548 0.64773089 0.68119571 0.21057864\n",
      "  0.62310174 0.07958985 0.57721162 0.89044496 0.1896296  0.72436412\n",
      "  0.87377001 0.53110615 0.32173827 0.52330818 0.35007788 0.7138747\n",
      "  0.32754715 1.10482987 0.58950511 0.78123659 0.73567217 0.40414532\n",
      "  0.9105943  0.45273063 0.69840771 0.25254506 0.86519695 0.05351165\n",
      "  0.90836117 0.68530382 0.34673747 0.56444917 1.05297416 0.62288887\n",
      "  0.84721569 0.83667922 0.48941925 0.56135938 0.66048518 0.86859959\n",
      "  0.51665617 0.69600019 0.62776656 0.56514416 0.39428089 0.53821087\n",
      "  0.50937156 0.37781801 0.73970057 0.57745523 0.59570059 0.92043771\n",
      "  0.54733237 0.59821246 0.32987587 0.76667107 0.79854852 0.60919898\n",
      "  0.40715793 1.02270501 0.0381518  0.46786742 0.56327148 0.71563428\n",
      "  0.67672278 0.71824291 0.96030608 0.61477721 0.62483834 0.31370012\n",
      "  0.         0.4393621  0.48399523 0.57464285 0.42275901 0.51149961\n",
      "  0.35713801 0.43977039 0.57621361 0.40867988 0.46036457 0.61631554\n",
      "  0.12850369 0.90686574 0.33473219 0.93317326 0.73600112 0.49280716\n",
      "  0.50303021 0.95393799 0.73030922 0.81039009]\n",
      " [0.4409252  0.38938509 0.31784789 0.21078085 0.27000726 0.44936185\n",
      "  0.34397948 0.57220862 0.59473916 0.21945312 0.28722271 0.4318054\n",
      "  0.43638337 0.39675012 0.14194779 0.48564636 0.25366301 0.35025482\n",
      "  0.44055206 0.63900735 0.40361875 0.35547245 0.37082558 0.28238173\n",
      "  0.44326315 0.71139674 0.63403753 0.37949888 0.41203803 0.17892679\n",
      "  0.52499114 0.26993537 0.48412572 0.43137285 0.54166159 0.40900344\n",
      "  0.58589747 0.38023562 0.15310994 0.31250275 0.63439938 0.1968395\n",
      "  0.43761158 0.47243542 0.39545733 0.20272847 0.22386673 0.51510608\n",
      "  0.47657705 0.39677319 0.18884936 0.37919461 0.04522547 0.2151253\n",
      "  0.48537271 0.39106252 0.35983849 0.15357631 0.20584724 0.48225207\n",
      "  0.44846543 0.35204352 0.32512235 0.3492059  0.36336835 0.41537018\n",
      "  0.1783132  0.66140421 0.42711001 0.2239062  0.2321701  0.56112138\n",
      "  0.3263957  0.51893617 0.57255734 0.24245758 0.58123046 0.57346461\n",
      "  0.4393621  0.         0.0490787  0.2079883  0.43093278 0.16946349\n",
      "  0.320016   0.55272059 0.13837456 0.41977309 0.57140053 0.17708281\n",
      "  0.35257886 0.47946338 0.20001342 0.49597063 0.38655272 0.2850128\n",
      "  0.22400874 0.59705896 0.55909049 0.50740627]\n",
      " [0.46701472 0.41979512 0.3351204  0.21703171 0.25707427 0.45069845\n",
      "  0.34595667 0.60773647 0.54795343 0.19030586 0.24037287 0.48085491\n",
      "  0.41673409 0.43781054 0.09400501 0.46101489 0.29624377 0.33925893\n",
      "  0.40384444 0.68216285 0.42254415 0.34392379 0.38548435 0.24890225\n",
      "  0.49024771 0.68766115 0.6735144  0.33112809 0.37268668 0.21834806\n",
      "  0.50578537 0.30425826 0.50124612 0.45818343 0.53742566 0.45545414\n",
      "  0.58089042 0.34461104 0.17590743 0.33253353 0.60323401 0.17051571\n",
      "  0.41203778 0.46027127 0.4311731  0.20761108 0.17687417 0.50465068\n",
      "  0.51374464 0.36150196 0.14417653 0.36294591 0.0926462  0.22914765\n",
      "  0.52352958 0.43505365 0.34664505 0.13245695 0.19848916 0.44123513\n",
      "  0.48133661 0.37038022 0.34175816 0.30014368 0.32587923 0.3957183\n",
      "  0.1818387  0.6464699  0.46999724 0.25396844 0.24202884 0.58384469\n",
      "  0.2852516  0.53702611 0.52450319 0.23851196 0.61505302 0.60043452\n",
      "  0.48399523 0.0490787  0.         0.16907325 0.43879525 0.18469618\n",
      "  0.36426693 0.5974924  0.09223767 0.46258108 0.61576649 0.13341715\n",
      "  0.39159517 0.44572292 0.21991235 0.44957066 0.3440883  0.27328779\n",
      "  0.24735595 0.5514303  0.57975338 0.46890539]\n",
      " [0.63292389 0.5880494  0.32606484 0.20153533 0.37564939 0.37226628\n",
      "  0.28205493 0.77680727 0.39947676 0.27894022 0.10836092 0.6192632\n",
      "  0.27715004 0.51152397 0.14275268 0.53011917 0.38867709 0.45481675\n",
      "  0.42735129 0.84666256 0.40791864 0.23495478 0.35986393 0.30894227\n",
      "  0.64607332 0.74996476 0.8415333  0.2078157  0.2041754  0.38602234\n",
      "  0.5899643  0.47333123 0.65876353 0.46971264 0.65896258 0.55915045\n",
      "  0.69954752 0.17628352 0.22790728 0.49504488 0.63970644 0.27234616\n",
      "  0.48128565 0.56609412 0.60021347 0.35929624 0.17642604 0.61286239\n",
      "  0.68259391 0.19333987 0.18211452 0.23697734 0.23698986 0.38895266\n",
      "  0.6920963  0.59846259 0.45658625 0.25662503 0.33427384 0.43663619\n",
      "  0.65019072 0.53082443 0.32938256 0.20441516 0.35449922 0.25735479\n",
      "  0.17459027 0.738051   0.55132605 0.42259819 0.3972719  0.7465367\n",
      "  0.11899486 0.69529412 0.38759928 0.37562677 0.78400943 0.60351402\n",
      "  0.57464285 0.2079883  0.16907325 0.         0.38345874 0.34719232\n",
      "  0.52737203 0.75923656 0.15776721 0.62764686 0.77829704 0.18423774\n",
      "  0.45899439 0.47993131 0.24684079 0.40022836 0.1802635  0.1767141\n",
      "  0.41338734 0.3965384  0.74046707 0.30002707]\n",
      " [0.83045092 0.76720583 0.13183441 0.22189288 0.6957347  0.06100406\n",
      "  0.10145168 0.90849762 0.66557322 0.62235578 0.47546658 0.58879602\n",
      "  0.2434801  0.34386101 0.48951516 0.89199092 0.33765575 0.77770523\n",
      "  0.80641314 0.90182625 0.10171679 0.17636315 0.0809691  0.67066166\n",
      "  0.67788556 1.11759389 0.93550278 0.55868244 0.43070555 0.55332986\n",
      "  0.94223106 0.64646079 0.89557825 0.18230937 0.97250854 0.44594757\n",
      "  1.0166409  0.37823136 0.28458976 0.7247973  1.01747906 0.60600123\n",
      "  0.84241856 0.8990331  0.74813642 0.6331686  0.55182995 0.9431644\n",
      "  0.81118939 0.38005712 0.54379969 0.20816702 0.41197208 0.64016746\n",
      "  0.81223239 0.68126897 0.78542681 0.57102556 0.63488972 0.81996103\n",
      "  0.81020014 0.76563211 0.1235699  0.57616583 0.73066198 0.23910124\n",
      "  0.25696857 1.08484264 0.38511762 0.62118419 0.6599508  0.9557099\n",
      "  0.41850691 0.92729601 0.68464759 0.67292995 0.92721687 0.26022226\n",
      "  0.42275901 0.43093278 0.43879525 0.38345874 0.         0.59545567\n",
      "  0.62369485 0.80486868 0.49977891 0.71697898 0.8266477  0.54011945\n",
      "  0.30410529 0.85676226 0.23845004 0.77853135 0.45741676 0.2091161\n",
      "  0.63616141 0.64145581 0.95976804 0.46987773]\n",
      " [0.28622588 0.24676142 0.47523848 0.37849028 0.15147323 0.61738323\n",
      "  0.51217416 0.44278075 0.68888188 0.17666281 0.39258194 0.42857911\n",
      "  0.60095241 0.49240365 0.22167993 0.37973277 0.35418397 0.21411686\n",
      "  0.38759319 0.54623986 0.5570288  0.52404349 0.53002497 0.23767504\n",
      "  0.39318374 0.59401855 0.52038178 0.46426044 0.54511664 0.11562404\n",
      "  0.40017456 0.15062612 0.31681208 0.57055815 0.38393097 0.46803392\n",
      "  0.42869377 0.52318549 0.31150411 0.14823715 0.54526952 0.15403403\n",
      "  0.33836285 0.33167289 0.27192931 0.04987908 0.26995241 0.36911341\n",
      "  0.35613958 0.5403102  0.22881634 0.54586064 0.18368293 0.04566266\n",
      "  0.36915891 0.31569019 0.2286995  0.1230259  0.09097049 0.44926094\n",
      "  0.31215868 0.18568405 0.48306271 0.41797067 0.32294624 0.57991396\n",
      "  0.34719858 0.52174985 0.51126484 0.0938129  0.06472541 0.39988779\n",
      "  0.45580053 0.3524153  0.65410093 0.10328073 0.44561018 0.70909059\n",
      "  0.51149961 0.16946349 0.18469618 0.34719232 0.59545567 0.\n",
      "  0.25424447 0.47467008 0.20771005 0.33342828 0.48939764 0.2159597\n",
      "  0.46002477 0.40938272 0.35859725 0.50209228 0.50970348 0.45335462\n",
      "  0.06945933 0.69973325 0.39516601 0.64170292]\n",
      " [0.24571302 0.17897169 0.49201283 0.45554228 0.39238842 0.66626632\n",
      "  0.57294616 0.28493186 0.91119015 0.43046063 0.60410948 0.19791713\n",
      "  0.72038463 0.37796676 0.44119841 0.60532081 0.29226481 0.42890342\n",
      "  0.63810111 0.31938385 0.54872943 0.62411487 0.54408141 0.491834\n",
      "  0.1389533  0.79619365 0.32423531 0.69061033 0.73065546 0.15196197\n",
      "  0.60551597 0.12179608 0.34203737 0.52369121 0.5269512  0.30403745\n",
      "  0.56767798 0.69551436 0.37271483 0.22932229 0.77521687 0.40704753\n",
      "  0.57158238 0.52153358 0.13560292 0.29329461 0.50841077 0.54449822\n",
      "  0.18756161 0.71145676 0.46685127 0.65805382 0.29234683 0.25323368\n",
      "  0.18885563 0.07109057 0.44672458 0.37059069 0.34258425 0.70236645\n",
      "  0.19716663 0.25487921 0.50021631 0.65198542 0.57653082 0.70042348\n",
      "  0.43968262 0.69501913 0.37477378 0.16705589 0.27387276 0.36197751\n",
      "  0.64616874 0.36110612 0.88433651 0.34017743 0.3037236  0.63770618\n",
      "  0.35713801 0.320016   0.36426693 0.52737203 0.62369485 0.25424447\n",
      "  0.         0.23329575 0.43093931 0.10211897 0.25152315 0.45330601\n",
      "  0.37304476 0.65406918 0.40530895 0.75547828 0.70655379 0.56138945\n",
      "  0.20492181 0.91563441 0.37477964 0.82494321]\n",
      " [0.31991011 0.28584331 0.6779382  0.66816178 0.5943503  0.85508448\n",
      "  0.77221527 0.1971342  1.14441887 0.65028154 0.83740466 0.23011848\n",
      "  0.93540809 0.49567639 0.67367824 0.78168466 0.4689322  0.6100921\n",
      "  0.84158644 0.09697112 0.71605359 0.83565034 0.72396055 0.70709485\n",
      "  0.12722993 0.94151557 0.15279391 0.92334191 0.96158193 0.38367031\n",
      "  0.76443949 0.32533082 0.41884241 0.66948947 0.64593974 0.39210397\n",
      "  0.67815406 0.9245696  0.58725569 0.39729382 0.94904092 0.62849371\n",
      "  0.75667276 0.67561604 0.22886458 0.50528532 0.73827416 0.68540348\n",
      "  0.17340284 0.94013107 0.69656121 0.87245508 0.52276678 0.46178503\n",
      "  0.15551999 0.16309945 0.62827208 0.59608139 0.55617814 0.91070938\n",
      "  0.23967223 0.40203853 0.68554846 0.88349708 0.78799767 0.91630303\n",
      "  0.65777247 0.82066566 0.47215856 0.38125296 0.4770305  0.37568633\n",
      "  0.87820393 0.41700665 1.11690895 0.54398041 0.22742015 0.7529576\n",
      "  0.43977039 0.55272059 0.5974924  0.75923656 0.80486868 0.47467008\n",
      "  0.23329575 0.         0.66296431 0.14124309 0.02178337 0.68308948\n",
      "  0.51432083 0.84858375 0.61207474 0.97501947 0.93895952 0.77787525\n",
      "  0.41355366 1.14890321 0.39991181 1.05492113]\n",
      " [0.49162563 0.45446466 0.40940774 0.28370789 0.2182056  0.50231842\n",
      "  0.4013212  0.6498797  0.48454344 0.12593105 0.18488632 0.56490993\n",
      "  0.4331682  0.52951262 0.01535024 0.3923031  0.38840039 0.29835149\n",
      "  0.31820928 0.74244776 0.49710754 0.37836263 0.45589075 0.17124069\n",
      "  0.56352041 0.61785493 0.7243014  0.26105217 0.34167097 0.27934782\n",
      "  0.44521309 0.35093933 0.50720708 0.54026588 0.50237321 0.54715126\n",
      "  0.54361809 0.32614653 0.25971425 0.35031295 0.52336278 0.11563512\n",
      "  0.34272145 0.41281925 0.47668993 0.208745   0.08558161 0.45917697\n",
      "  0.56091815 0.34325712 0.05244612 0.38806641 0.18344771 0.24396459\n",
      "  0.57282774 0.49994069 0.30129673 0.10036978 0.178024   0.35090901\n",
      "  0.51965282 0.38308257 0.41523063 0.22118062 0.24005199 0.41289804\n",
      "  0.24805347 0.59105194 0.56213021 0.29535239 0.24786577 0.59916301\n",
      "  0.25251485 0.54404552 0.45410549 0.21896573 0.65327564 0.681826\n",
      "  0.57621361 0.13837456 0.09223767 0.15776721 0.49977891 0.20771005\n",
      "  0.43093931 0.66296431 0.         0.52400994 0.67992416 0.04336369\n",
      "  0.48258221 0.36356504 0.29984771 0.35770729 0.30339963 0.31124438\n",
      "  0.27707133 0.49335431 0.59101002 0.4376123 ]\n",
      " [0.22132207 0.16821787 0.586031   0.55633093 0.45581562 0.76192989\n",
      "  0.67107671 0.19584875 1.00714945 0.50912551 0.70110673 0.21205823\n",
      "  0.82189973 0.445058   0.53520418 0.65172226 0.38082586 0.47730262\n",
      "  0.70353205 0.21960353 0.63714968 0.72500374 0.63655008 0.56644747\n",
      "  0.1018173  0.82466965 0.22300424 0.78490907 0.8313712  0.24566269\n",
      "  0.64085635 0.1843565  0.32515148 0.60430435 0.53802202 0.35558806\n",
      "  0.57463836 0.79698853 0.47364948 0.26496081 0.82077629 0.48726196\n",
      "  0.62363719 0.55314084 0.10780633 0.36462044 0.5979369  0.56840466\n",
      "  0.10797744 0.81302271 0.55621623 0.7594343  0.39382392 0.32136492\n",
      "  0.10171393 0.03573324 0.49552674 0.45499327 0.41546794 0.77162954\n",
      "  0.14869742 0.27667471 0.59410449 0.74384921 0.64808364 0.80203391\n",
      "  0.54132774 0.71169137 0.43326301 0.24004101 0.33754057 0.31515432\n",
      "  0.74616671 0.33423002 0.97810682 0.4047967  0.21933572 0.70814017\n",
      "  0.40867988 0.41977309 0.46258108 0.62764686 0.71697898 0.33342828\n",
      "  0.10211897 0.14124309 0.52400994 0.         0.15649702 0.54278851\n",
      "  0.44957442 0.71300506 0.50466898 0.83405288 0.806108   0.66296482\n",
      "  0.27284951 1.012965   0.33375257 0.92604445]\n",
      " [0.32275964 0.29283733 0.69967208 0.68924028 0.60603241 0.87682701\n",
      "  0.79378484 0.18822063 1.1621425  0.6643768  0.85539413 0.25113729\n",
      "  0.95648829 0.51696329 0.69085576 0.78955519 0.49065601 0.61922021\n",
      "  0.85276356 0.07520799 0.73781551 0.85686273 0.74573763 0.72031379\n",
      "  0.14895756 0.94542492 0.13499985 0.94058378 0.98095193 0.40087152\n",
      "  0.77039792 0.33938041 0.41965112 0.69104753 0.64836235 0.41307508\n",
      "  0.67954138 0.9443306  0.6081744  0.40692374 0.95616497 0.64292016\n",
      "  0.76566355 0.68144503 0.23763016 0.51867769 0.75440573 0.68980485\n",
      "  0.17586241 0.95996136 0.71268456 0.89354683 0.54211004 0.47498017\n",
      "  0.15765816 0.18077582 0.63734971 0.61133876 0.56957467 0.92248198\n",
      "  0.24295833 0.40965525 0.70728925 0.90011811 0.80045805 0.9373309\n",
      "  0.67854445 0.82289391 0.4930375  0.39572415 0.48947821 0.37138024\n",
      "  0.89722188 0.41589503 1.13400225 0.55612461 0.21835551 0.77373912\n",
      "  0.46036457 0.57140053 0.61576649 0.77829704 0.8266477  0.48939764\n",
      "  0.25152315 0.02178337 0.67992416 0.15649702 0.         0.69924739\n",
      "  0.53595538 0.85852026 0.63334855 0.98859645 0.95783082 0.79881472\n",
      "  0.42710825 1.16705515 0.39621665 1.07452698]\n",
      " [0.49250193 0.46063612 0.45214717 0.3258337  0.19559061 0.54052051\n",
      "  0.44084261 0.65788855 0.47332071 0.0950969  0.18681678 0.59665928\n",
      "  0.46137502 0.57122689 0.05075265 0.35315128 0.42940523 0.27205541\n",
      "  0.2748979  0.75939024 0.53977648 0.41282055 0.49803616 0.13072571\n",
      "  0.58853554 0.57770967 0.73629448 0.24872273 0.35150647 0.3014328\n",
      "  0.40873544 0.36461123 0.49911586 0.58358441 0.47587957 0.58587321\n",
      "  0.51587505 0.34231775 0.30305351 0.35037699 0.48076782 0.09255121\n",
      "  0.30363355 0.38185681 0.4878583  0.20674603 0.05518953 0.42862797\n",
      "  0.57209233 0.3591423  0.01355581 0.41964083 0.22229163 0.2463481\n",
      "  0.58497797 0.52073717 0.27286754 0.09558658 0.16767869 0.30815041\n",
      "  0.52682292 0.38003339 0.45786421 0.20224159 0.19676655 0.44158535\n",
      "  0.29031812 0.55584407 0.6031565  0.30794038 0.24583859 0.5945624\n",
      "  0.26412361 0.53605748 0.4382441  0.20614048 0.65931242 0.72508603\n",
      "  0.61631554 0.17708281 0.13341715 0.18423774 0.54011945 0.2159597\n",
      "  0.45330601 0.68308948 0.04336369 0.54278851 0.69924739 0.\n",
      "  0.52482957 0.32068927 0.34315629 0.32002299 0.30910197 0.34742705\n",
      "  0.28490462 0.48553387 0.58457113 0.44561463]\n",
      " [0.6116159  0.54408531 0.19759689 0.2689452  0.60185356 0.36132495\n",
      "  0.30582778 0.64540048 0.84210913 0.57053845 0.56699869 0.28937434\n",
      "  0.49489387 0.05338862 0.4810576  0.82857015 0.10586925 0.67318461\n",
      "  0.79312858 0.610283   0.20671433 0.39484424 0.22722955 0.63466378\n",
      "  0.39034139 1.0501862  0.65512373 0.66678834 0.61045931 0.36874441\n",
      "  0.85794307 0.44007487 0.69749549 0.15596725 0.83556809 0.14217986\n",
      "  0.87999248 0.55936374 0.23392158 0.5441671  0.98409531 0.54683115\n",
      "  0.7824877  0.79168617 0.50823718 0.50887461 0.56361823 0.82827435\n",
      "  0.55389496 0.56953238 0.53501246 0.43667033 0.30992843 0.49475083\n",
      "  0.55062363 0.41478116 0.68667421 0.50188677 0.53461801 0.83283003\n",
      "  0.57018721 0.58217254 0.2026917  0.65717231 0.71582987 0.48079403\n",
      "  0.28679117 0.98155221 0.09645699 0.43930129 0.51937947 0.73283707\n",
      "  0.55532851 0.72262917 0.84062406 0.56063815 0.66850605 0.26606964\n",
      "  0.12850369 0.35257886 0.39159517 0.45899439 0.30410529 0.46002477\n",
      "  0.37304476 0.51432083 0.48258221 0.44957442 0.53595538 0.52482957\n",
      "  0.         0.83135967 0.21349556 0.83390838 0.61335945 0.36524537\n",
      "  0.46888838 0.82979407 0.74336602 0.6831117 ]\n",
      " [0.56144346 0.5690135  0.77283619 0.6461999  0.2618587  0.85133627\n",
      "  0.7560369  0.74849563 0.55617188 0.26090772 0.41898261 0.8375218\n",
      "  0.74048498 0.87336014 0.37108413 0.10890684 0.72953363 0.24078077\n",
      "  0.0557403  0.89912973 0.86045129 0.71451342 0.8182853  0.19722515\n",
      "  0.7907709  0.27718248 0.8455361  0.39675842 0.56948874 0.52499588\n",
      "  0.18071194 0.5350858  0.50575775 0.90288098 0.3380731  0.86838972\n",
      "  0.35572651 0.58675958 0.62090218 0.45159981 0.16073286 0.28503607\n",
      "  0.10022804 0.23317292 0.62102339 0.36354822 0.30538441 0.26483087\n",
      "  0.6931228  0.60027796 0.31486192 0.71210979 0.52143198 0.40110203\n",
      "  0.71045698 0.70498709 0.22309778 0.33039836 0.31869055 0.10665291\n",
      "  0.62946456 0.4529789  0.77853241 0.34391416 0.12613079 0.72333997\n",
      "  0.61082961 0.31072639 0.9000798  0.48727022 0.38027435 0.60777689\n",
      "  0.5054247  0.53549683 0.49765487 0.31404741 0.73672392 1.04481632\n",
      "  0.90686574 0.47946338 0.44572292 0.47993131 0.85676226 0.40938272\n",
      "  0.65406918 0.84858375 0.36356504 0.71300506 0.85852026 0.32068927\n",
      "  0.83135967 0.         0.66279084 0.22273734 0.518217   0.65557417\n",
      "  0.44914767 0.58783648 0.58625252 0.64111475]\n",
      " [0.59542001 0.53391335 0.11793696 0.06129158 0.46988961 0.26865103\n",
      "  0.16894983 0.68824821 0.63004447 0.41020879 0.35518783 0.42445247\n",
      "  0.3245546  0.26663704 0.29411526 0.6807973  0.16279251 0.55025761\n",
      "  0.61805169 0.70765354 0.20381623 0.22373735 0.17178478 0.46734413\n",
      "  0.48648343 0.90737936 0.72748716 0.45449454 0.40207472 0.31689503\n",
      "  0.72363159 0.41165614 0.65752567 0.24043241 0.73941219 0.32799172\n",
      "  0.78391248 0.3530142  0.04736991 0.48642341 0.82168098 0.39016985\n",
      "  0.63190861 0.67244575 0.52038244 0.39859095 0.37176935 0.71496519\n",
      "  0.58973789 0.36487161 0.35072798 0.26165138 0.17499562 0.4027723\n",
      "  0.5931673  0.46982727 0.55979112 0.35001236 0.40578723 0.64717536\n",
      "  0.58120068 0.52725471 0.12537693 0.44839422 0.53989968 0.30623248\n",
      "  0.07329892 0.86131261 0.30803603 0.3834042  0.42329911 0.7204062\n",
      "  0.34238275 0.68963734 0.6272329  0.44160388 0.7042388  0.38205913\n",
      "  0.33473219 0.20001342 0.21991235 0.24684079 0.23845004 0.35859725\n",
      "  0.40530895 0.61207474 0.29984771 0.50466898 0.63334855 0.34315629\n",
      "  0.21349556 0.66279084 0.         0.63386157 0.40129309 0.17132923\n",
      "  0.39771204 0.6193525  0.72334737 0.48122629]\n",
      " [0.72573581 0.71647668 0.72525228 0.5981777  0.39035439 0.7579867\n",
      "  0.67827946 0.90987769 0.34059424 0.32543884 0.30323906 0.91352953\n",
      "  0.61016612 0.88299407 0.35598027 0.32997144 0.74434367 0.41178165\n",
      "  0.18184484 1.04028891 0.80810372 0.61313108 0.76005167 0.268685\n",
      "  0.89401121 0.47076868 1.00065785 0.23471488 0.40982611 0.6076105\n",
      "  0.4031137  0.64972064 0.69094021 0.86747356 0.55417145 0.904858\n",
      "  0.57583256 0.44257688 0.60222425 0.59523189 0.32829015 0.34844971\n",
      "  0.30694873 0.44521717 0.75881486 0.46992294 0.27274902 0.48232947\n",
      "  0.83917426 0.45197101 0.30756704 0.59856908 0.54112026 0.51368761\n",
      "  0.85485085 0.8177199  0.39792652 0.38634554 0.41903267 0.11661992\n",
      "  0.78199866 0.60925309 0.72896852 0.20322832 0.19590498 0.59697569\n",
      "  0.5670886  0.53020499 0.91755232 0.59429794 0.5005788  0.79477538\n",
      "  0.37248417 0.72443359 0.28012102 0.43592289 0.90340634 1.00330723\n",
      "  0.93317326 0.49597063 0.44957066 0.40022836 0.77853135 0.50209228\n",
      "  0.75547828 0.97501947 0.35770729 0.83405288 0.98859645 0.32002299\n",
      "  0.83390838 0.22273734 0.63386157 0.         0.36114527 0.56944883\n",
      "  0.56152706 0.37535287 0.77635461 0.4606713 ]\n",
      " [0.79489382 0.75562231 0.44791826 0.34447174 0.50081284 0.42285013\n",
      "  0.36719472 0.94853297 0.22879865 0.39722348 0.12267671 0.7972423\n",
      "  0.25330679 0.66674321 0.28872985 0.59678952 0.55658846 0.57031195\n",
      "  0.46251844 1.02550206 0.51485234 0.28122883 0.46425758 0.39960614\n",
      "  0.82633614 0.79496315 1.01726677 0.12740959 0.05128671 0.56243224\n",
      "  0.66639077 0.64581886 0.8079118  0.59021664 0.76853157 0.72647057\n",
      "  0.80458837 0.08463077 0.39440511 0.65371251 0.66486981 0.40061007\n",
      "  0.55290849 0.66487687 0.77293403 0.51165497 0.27034604 0.71127442\n",
      "  0.85635158 0.09140925 0.3000717  0.25515661 0.41720355 0.54731247\n",
      "  0.86677296 0.77761175 0.56705713 0.40106161 0.47638888 0.44150048\n",
      "  0.81972742 0.68611722 0.44839941 0.17456754 0.40803503 0.24297593\n",
      "  0.32905737 0.8137056  0.70891871 0.59263014 0.55090072 0.90190134\n",
      "  0.06196024 0.84485043 0.23222956 0.51524242 0.95374764 0.70867716\n",
      "  0.73600112 0.38655272 0.3440883  0.1802635  0.45741676 0.50970348\n",
      "  0.70655379 0.93895952 0.30339963 0.806108   0.95783082 0.30910197\n",
      "  0.61335945 0.518217   0.40129309 0.36114527 0.         0.26422503\n",
      "  0.57846606 0.21965511 0.89286621 0.13702377]\n",
      " [0.72287573 0.66730538 0.18487928 0.11106114 0.52314647 0.19579714\n",
      "  0.10927159 0.83768765 0.48782244 0.43713841 0.26654418 0.59574126\n",
      "  0.15901591 0.41789586 0.29867455 0.70004148 0.33329329 0.60525015\n",
      "  0.60358173 0.87226498 0.25152396 0.07076361 0.20097264 0.47736591\n",
      "  0.65384306 0.92280182 0.8856239  0.35282352 0.25050779 0.44865386\n",
      "  0.75591863 0.54467449 0.7691138  0.32601662 0.80724259 0.49340035\n",
      "  0.84988429 0.1975333  0.19064638 0.59747276 0.81576656 0.42484396\n",
      "  0.65065679 0.72284987 0.66395811 0.48066184 0.35049072 0.76875894\n",
      "  0.73940298 0.20590087 0.34870593 0.09722198 0.28633396 0.49887\n",
      "  0.745004   0.62925677 0.61008995 0.39723449 0.46983357 0.61290132\n",
      "  0.72170749 0.63705268 0.18474688 0.36735668 0.5296865  0.13907449\n",
      "  0.12173471 0.90225762 0.46162376 0.50502318 0.5139129  0.84483735\n",
      "  0.21624911 0.80394297 0.49641826 0.51067335 0.85068346 0.44707277\n",
      "  0.49280716 0.2850128  0.27328779 0.1767141  0.2091161  0.45335462\n",
      "  0.56138945 0.77787525 0.31124438 0.66296482 0.79881472 0.34742705\n",
      "  0.36524537 0.65557417 0.17132923 0.56944883 0.26422503 0.\n",
      "  0.50866082 0.47086271 0.84365028 0.31790393]\n",
      " [0.21976724 0.17742477 0.51092027 0.42549405 0.18753338 0.6629382\n",
      "  0.55869602 0.37336257 0.75808799 0.23762903 0.46189891 0.39315932\n",
      "  0.66010403 0.49480708 0.29092021 0.40415955 0.36495781 0.22910077\n",
      "  0.43417474 0.48107088 0.58853443 0.57884245 0.56631352 0.29360442\n",
      "  0.34226975 0.60621337 0.45200699 0.53345169 0.61306929 0.10064241\n",
      "  0.41238875 0.08867972 0.26189127 0.59278414 0.36688585 0.45558468\n",
      "  0.41119039 0.5896571  0.35204863 0.08955231 0.57340984 0.21708915\n",
      "  0.36808487 0.33447191 0.20369611 0.09177151 0.33844402 0.36558006\n",
      "  0.28764932 0.60672603 0.29760028 0.60320292 0.22738349 0.0489475\n",
      "  0.3011623  0.25917899 0.24623638 0.1907821  0.14263826 0.50022766\n",
      "  0.24269964 0.13011982 0.51903072 0.48654928 0.37568668 0.63907037\n",
      "  0.39671318 0.51970977 0.50797884 0.03882922 0.06910705 0.33743074\n",
      "  0.52387696 0.29583084 0.72270458 0.13535411 0.37620503 0.72724331\n",
      "  0.50303021 0.22400874 0.24735595 0.41338734 0.63616141 0.06945933\n",
      "  0.20492181 0.41355366 0.27707133 0.27284951 0.42710825 0.28490462\n",
      "  0.46888838 0.44914767 0.39771204 0.56152706 0.57846606 0.50866082\n",
      "  0.         0.7691568  0.3350898  0.70971272]\n",
      " [0.97737873 0.94585052 0.65547119 0.56112174 0.65680138 0.59569519\n",
      "  0.56357443 1.14251344 0.04033351 0.55722623 0.31186611 1.01563333\n",
      "  0.40479136 0.88314558 0.48056553 0.68731544 0.77607251 0.71212334\n",
      "  0.5373298  1.23247315 0.71350842 0.46930827 0.66372538 0.53681202\n",
      "  1.03996514 0.84612148 1.21755018 0.23798926 0.22045366 0.76739891\n",
      "  0.76134872 0.84414635 0.97482819 0.79329183 0.89296885 0.94570594\n",
      "  0.92245426 0.27337837 0.61398748 0.83535107 0.70323358 0.56808302\n",
      "  0.65293704 0.78348612 0.97003653 0.69182762 0.43492854 0.82667129\n",
      "  1.05427224 0.26648233 0.47358942 0.43359647 0.63126132 0.73187938\n",
      "  1.06611137 0.98628526 0.70423322 0.58109828 0.64918661 0.48750581\n",
      "  1.01175057 0.8631342  0.65482231 0.29152598 0.51075138 0.4043349\n",
      "  0.54783031 0.89853305 0.9258669  0.7887067  0.73061575 1.07433829\n",
      "  0.28114073 1.01138997 0.09997265 0.6834034  1.14467759 0.90061146\n",
      "  0.95393799 0.59705896 0.5514303  0.3965384  0.64145581 0.69973325\n",
      "  0.91563441 1.14890321 0.49335431 1.012965   1.16705515 0.48553387\n",
      "  0.82979407 0.58783648 0.6193525  0.37535287 0.21965511 0.47086271\n",
      "  0.7691568  0.         1.06182576 0.17626838]\n",
      " [0.13207337 0.19933796 0.83018824 0.75720638 0.4058417  0.99165402\n",
      "  0.88899515 0.21691678 1.04366389 0.5047582  0.77122078 0.5450685\n",
      "  0.99489123 0.75219141 0.60615155 0.48917198 0.652195   0.36495259\n",
      "  0.6036602  0.39626016 0.90007933 0.91368563 0.88527557 0.53035024\n",
      "  0.43392645 0.58594295 0.31339997 0.82449392 0.93264583 0.40658462\n",
      "  0.44343924 0.31398075 0.08726368 0.88800293 0.28706884 0.67685989\n",
      "  0.3059834  0.91522081 0.6799749  0.2473143  0.63385042 0.49571855\n",
      "  0.4861483  0.3611886  0.24089873 0.38246392 0.6297876  0.34884315\n",
      "  0.23571004 0.93239082 0.5946884  0.93828319 0.56005045 0.35178931\n",
      "  0.25078884 0.35784793 0.3784281  0.49189362 0.41689475 0.67859336\n",
      "  0.18565299 0.20977855 0.83849578 0.77034696 0.58268444 0.9738484\n",
      "  0.73007325 0.45145846 0.7494024  0.34117538 0.34369861 0.02689365\n",
      "  0.84352367 0.05195139 0.9985351  0.37967997 0.19138676 1.0093735\n",
      "  0.73030922 0.55909049 0.57975338 0.74046707 0.95976804 0.39516601\n",
      "  0.37477964 0.39991181 0.59101002 0.33375257 0.39621665 0.58457113\n",
      "  0.74336602 0.58625252 0.72334737 0.77635461 0.89286621 0.84365028\n",
      "  0.3350898  1.06182576 0.         1.02832889]\n",
      " [0.92775409 0.88604089 0.49785157 0.42028981 0.63783514 0.42159884\n",
      "  0.3990021  1.0765037  0.2074312  0.53424709 0.25964422 0.89726979\n",
      "  0.229646   0.73579955 0.42262996 0.72591442 0.64332749 0.7070032\n",
      "  0.5859863  1.14424027 0.54783096 0.30288763 0.49924626 0.53523503\n",
      "  0.93784873 0.91534716 1.14138464 0.24457022 0.09665359 0.68593643\n",
      "  0.79698881 0.77304319 0.94380894 0.62977754 0.90422402 0.80863559\n",
      "  0.9396085  0.13132702 0.48587128 0.78735365 0.78008139 0.53742212\n",
      "  0.68370728 0.79955548 0.90005276 0.64634499 0.40732253 0.84567993\n",
      "  0.98259629 0.11724384 0.43686118 0.26430942 0.53268234 0.68073871\n",
      "  0.99211783 0.89592135 0.70342407 0.53647157 0.61246311 0.55555989\n",
      "  0.94911104 0.82068439 0.49607927 0.29970784 0.53769761 0.23097428\n",
      "  0.41497123 0.94295906 0.77951513 0.72144146 0.68547751 1.03677184\n",
      "  0.18590303 0.98072989 0.24541178 0.65168056 1.0830989  0.73000445\n",
      "  0.81039009 0.50740627 0.46890539 0.30002707 0.46987773 0.64170292\n",
      "  0.82494321 1.05492113 0.4376123  0.92604445 1.07452698 0.44561463\n",
      "  0.6831117  0.64111475 0.48122629 0.4606713  0.13702377 0.31790393\n",
      "  0.70971272 0.17626838 1.02832889 0.        ]]\n"
     ]
    }
   ],
   "source": [
    "x = np.random.random((100, 2))\n",
    "y, q = np.atleast_2d(x[:, 0], x[:, 1])\n",
    "check = np.sqrt((y - y.T)**2 + (q - q.T)**2)\n",
    "print(check)"
   ]
  },
  {
   "attachments": {},
   "cell_type": "markdown",
   "metadata": {},
   "source": [
    "53. How to convert a float (32 bits) array into an integer (32 bits) in place?"
   ]
  },
  {
   "cell_type": "code",
   "execution_count": 111,
   "metadata": {},
   "outputs": [
    {
     "name": "stdout",
     "output_type": "stream",
     "text": [
      "[88 75 56 52 69 62 36 80 82 17]\n"
     ]
    }
   ],
   "source": [
    "x = (np.random.rand(10) * 100).astype(np.float32)\n",
    "k = x.view(np.int32)\n",
    "k[:] = x\n",
    "print(k)"
   ]
  },
  {
   "attachments": {},
   "cell_type": "markdown",
   "metadata": {},
   "source": [
    "54. How to read the following file?"
   ]
  },
  {
   "cell_type": "code",
   "execution_count": null,
   "metadata": {},
   "outputs": [],
   "source": [
    "x = np.genfromtxt(file, delimiter=\",\", dtype=int)"
   ]
  },
  {
   "attachments": {},
   "cell_type": "markdown",
   "metadata": {},
   "source": [
    "55. What is the equivalent of enumerate for numpy arrays?"
   ]
  },
  {
   "cell_type": "code",
   "execution_count": 116,
   "metadata": {},
   "outputs": [
    {
     "name": "stdout",
     "output_type": "stream",
     "text": [
      "(0, 0) 0\n",
      "(0, 1) 1\n",
      "(0, 2) 2\n",
      "(1, 0) 3\n",
      "(1, 1) 4\n",
      "(1, 2) 5\n",
      "(2, 0) 6\n",
      "(2, 1) 7\n",
      "(2, 2) 8\n"
     ]
    }
   ],
   "source": [
    "x = np.arange(9).reshape(3, 3)\n",
    "for i in np.ndindex(x.shape):\n",
    "    print(i, x[i])"
   ]
  },
  {
   "attachments": {},
   "cell_type": "markdown",
   "metadata": {},
   "source": [
    "56. Generate a generic 2D Gaussian-like array"
   ]
  },
  {
   "cell_type": "code",
   "execution_count": 121,
   "metadata": {},
   "outputs": [
    {
     "name": "stdout",
     "output_type": "stream",
     "text": [
      "[[0.13533528 0.2865048  0.36787944 0.2865048  0.13533528]\n",
      " [0.2865048  0.60653066 0.77880078 0.60653066 0.2865048 ]\n",
      " [0.36787944 0.77880078 1.         0.77880078 0.36787944]\n",
      " [0.2865048  0.60653066 0.77880078 0.60653066 0.2865048 ]\n",
      " [0.13533528 0.2865048  0.36787944 0.2865048  0.13533528]]\n"
     ]
    }
   ],
   "source": [
    "x, y = np.meshgrid(np.linspace(-1, 1, 5), np.linspace(-1, 1, 5))\n",
    "z = np.sqrt(x * x + y * y)\n",
    "Gauss = np.exp(-(z**2))\n",
    "print(Gauss)"
   ]
  },
  {
   "attachments": {},
   "cell_type": "markdown",
   "metadata": {},
   "source": [
    "57. How to randomly place p elements in a 2D array?"
   ]
  },
  {
   "cell_type": "code",
   "execution_count": 122,
   "metadata": {},
   "outputs": [
    {
     "name": "stdout",
     "output_type": "stream",
     "text": [
      "[[0 0 1 0 1]\n",
      " [0 0 0 0 1]\n",
      " [0 1 1 0 0]\n",
      " [1 0 1 0 1]\n",
      " [0 1 1 0 0]]\n"
     ]
    }
   ],
   "source": [
    "n = 5\n",
    "p = 10\n",
    "x = np.zeros((n, n), dtype=int)\n",
    "np.put(x, np.random.choice(range(n * n), p, replace=False), 1)\n",
    "print(x)"
   ]
  },
  {
   "attachments": {},
   "cell_type": "markdown",
   "metadata": {},
   "source": [
    "58. Subtract the mean of each row of a matrix"
   ]
  },
  {
   "cell_type": "code",
   "execution_count": 124,
   "metadata": {},
   "outputs": [
    {
     "name": "stdout",
     "output_type": "stream",
     "text": [
      "[[ 0.02589241  0.07396178 -0.05500008  0.06336037 -0.10821448]\n",
      " [-0.26841028  0.25503911 -0.38671547  0.23404058  0.16604605]\n",
      " [-0.16115673  0.01631293  0.09121482 -0.32862422  0.3822532 ]\n",
      " [ 0.2005037   0.30022713 -0.40463533 -0.28399594  0.18790045]\n",
      " [ 0.09410514  0.3232957   0.01192879 -0.05644173 -0.37288789]]\n"
     ]
    }
   ],
   "source": [
    "x = np.random.rand(5, 5)\n",
    "check = x - x.mean(axis=1).reshape(-1, 1)\n",
    "print(check)"
   ]
  },
  {
   "attachments": {},
   "cell_type": "markdown",
   "metadata": {},
   "source": [
    "59. How to sort an array by the nth column?"
   ]
  },
  {
   "cell_type": "code",
   "execution_count": 128,
   "metadata": {},
   "outputs": [
    {
     "name": "stdout",
     "output_type": "stream",
     "text": [
      "[[6 5 8]\n",
      " [8 4 4]\n",
      " [2 0 6]]\n",
      "[[2 0 6]\n",
      " [6 5 8]\n",
      " [8 4 4]]\n"
     ]
    }
   ],
   "source": [
    "x = np.random.randint(0, 10, (3, 3))\n",
    "print(x)\n",
    "print(x[x[:, 0].argsort()])"
   ]
  },
  {
   "attachments": {},
   "cell_type": "markdown",
   "metadata": {},
   "source": [
    "60. How to tell if a given 2D array has null columns?"
   ]
  },
  {
   "cell_type": "code",
   "execution_count": 135,
   "metadata": {},
   "outputs": [
    {
     "name": "stdout",
     "output_type": "stream",
     "text": [
      "True\n"
     ]
    }
   ],
   "source": [
    "x = np.random.randint(0, 3, (3, 10))\n",
    "print((~x.any(axis=0)).any())"
   ]
  },
  {
   "attachments": {},
   "cell_type": "markdown",
   "metadata": {},
   "source": [
    "61. Find the nearest value from a given value in an array"
   ]
  },
  {
   "cell_type": "code",
   "execution_count": 137,
   "metadata": {},
   "outputs": [
    {
     "name": "stdout",
     "output_type": "stream",
     "text": [
      "0.46944010560006566\n"
     ]
    }
   ],
   "source": [
    "x = np.random.uniform(0, 1, 10)\n",
    "y = x.flat[np.abs(x - 0.5).argmin()]\n",
    "print(y)"
   ]
  },
  {
   "attachments": {},
   "cell_type": "markdown",
   "metadata": {},
   "source": [
    "62. Considering two arrays with shape (1,3) and (3,1), how to compute their sum using an iterator? "
   ]
  },
  {
   "cell_type": "code",
   "execution_count": 140,
   "metadata": {},
   "outputs": [
    {
     "name": "stdout",
     "output_type": "stream",
     "text": [
      "[[0 1 2]\n",
      " [1 2 3]\n",
      " [2 3 4]]\n"
     ]
    }
   ],
   "source": [
    "x = np.arange(3).reshape(3, 1)\n",
    "y = np.arange(3).reshape(1, 3)\n",
    "i = np.nditer([x, y, None])\n",
    "for a, b, c in i:\n",
    "    c[...] = a + b\n",
    "print(i.operands[2])"
   ]
  },
  {
   "attachments": {},
   "cell_type": "markdown",
   "metadata": {},
   "source": [
    "63. Create an array class that has a name attribute"
   ]
  },
  {
   "cell_type": "code",
   "execution_count": 143,
   "metadata": {},
   "outputs": [
    {
     "name": "stdout",
     "output_type": "stream",
     "text": [
      "range_5\n"
     ]
    }
   ],
   "source": [
    "class NArray(np.ndarray):\n",
    "    def __new__(cls, array, name=\"no name\"):\n",
    "        x = np.asarray(array).view(cls)\n",
    "        x.name = name\n",
    "        return x\n",
    "    def __final__(m, x):\n",
    "        if x is None:\n",
    "            return\n",
    "        m.info = getattr(x, 'name', \"no name\")\n",
    "\n",
    "check = NArray(np.arange(5), \"range_5\")\n",
    "print(check.name)"
   ]
  },
  {
   "attachments": {},
   "cell_type": "markdown",
   "metadata": {},
   "source": [
    "64. Consider a given vector, how to add 1 to each element indexed by a second vector (be careful with repeated indices)?"
   ]
  },
  {
   "cell_type": "code",
   "execution_count": 146,
   "metadata": {},
   "outputs": [
    {
     "name": "stdout",
     "output_type": "stream",
     "text": [
      "[7 7 0 6 8 5 7 8 1 2]\n",
      "[2 2 2 1 1 2 2 4 3 1]\n"
     ]
    }
   ],
   "source": [
    "x = np.ones((10), dtype=int)\n",
    "a = np.random.randint(0, 10, 10)\n",
    "np.add.at(x, a, 1)\n",
    "print(a)\n",
    "print(x)"
   ]
  },
  {
   "attachments": {},
   "cell_type": "markdown",
   "metadata": {},
   "source": [
    "65. How to accumulate elements of a vector (X) to an array (F) based on an index list (I)?"
   ]
  },
  {
   "cell_type": "code",
   "execution_count": 204,
   "metadata": {},
   "outputs": [
    {
     "name": "stdout",
     "output_type": "stream",
     "text": [
      "[0. 7. 0. 6. 5. 0. 0. 0. 0. 3.]\n"
     ]
    }
   ],
   "source": [
    "x = [1, 2, 3, 4, 5, 6]\n",
    "f = [1, 3, 9, 3, 4, 1]\n",
    "check = np.bincount(f, x)\n",
    "print(check)"
   ]
  },
  {
   "attachments": {},
   "cell_type": "markdown",
   "metadata": {},
   "source": [
    "66. Considering a (w,h,3) image of (dtype=ubyte), compute the number of unique colors"
   ]
  },
  {
   "cell_type": "code",
   "execution_count": 158,
   "metadata": {},
   "outputs": [
    {
     "name": "stdout",
     "output_type": "stream",
     "text": [
      "[0 1]\n"
     ]
    }
   ],
   "source": [
    "w, h = 16, 16\n",
    "x = np.random.randint(0, 2, (h, w, 3)).astype(np.ubyte)\n",
    "print(np.unique(x))"
   ]
  },
  {
   "attachments": {},
   "cell_type": "markdown",
   "metadata": {},
   "source": [
    "67. Considering a four dimensions array, how to get sum over the last two axis at once?"
   ]
  },
  {
   "cell_type": "code",
   "execution_count": 161,
   "metadata": {},
   "outputs": [
    {
     "name": "stdout",
     "output_type": "stream",
     "text": [
      "[[55 46 55 65]\n",
      " [49 53 60 52]\n",
      " [55 60 65 56]]\n"
     ]
    }
   ],
   "source": [
    "x = np.random.randint(0, 10, (3, 4, 3, 4))\n",
    "sum = x.sum(axis=(-2, -1))\n",
    "print(sum)"
   ]
  },
  {
   "attachments": {},
   "cell_type": "markdown",
   "metadata": {},
   "source": [
    "68. Considering a one-dimensional vector D, how to compute means of subsets of D using a vector S of same size describing subset indices?"
   ]
  },
  {
   "cell_type": "code",
   "execution_count": 173,
   "metadata": {},
   "outputs": [
    {
     "name": "stdout",
     "output_type": "stream",
     "text": [
      "[1.73333333 1.36363636 1.         0.75       1.47058824 1.75\n",
      " 3.         2.16666667 1.63636364 1.9       ]\n"
     ]
    }
   ],
   "source": [
    "d = np.random.randint(0, 5, 100)\n",
    "s = np.random.randint(0, 10, 100)\n",
    "sum = np.bincount(s, weights=d)\n",
    "count = np.bincount(s)\n",
    "mean = sum / count\n",
    "print(mean)"
   ]
  },
  {
   "attachments": {},
   "cell_type": "markdown",
   "metadata": {},
   "source": [
    "69. How to get the diagonal of a dot product?"
   ]
  },
  {
   "cell_type": "code",
   "execution_count": 174,
   "metadata": {},
   "outputs": [
    {
     "name": "stdout",
     "output_type": "stream",
     "text": [
      "[0.92804148 0.97869356 1.62482717 1.15529695 0.91538121]\n"
     ]
    }
   ],
   "source": [
    "x = np.random.uniform(0, 1, (5, 5))\n",
    "y = np.random.uniform(0, 1, (5, 5))\n",
    "check = np.diag(np.dot(x, y))\n",
    "print(check)"
   ]
  },
  {
   "attachments": {},
   "cell_type": "markdown",
   "metadata": {},
   "source": [
    "70. Consider the vector [1, 2, 3, 4, 5], how to build a new vector with 3 consecutive zeros interleaved between each value?"
   ]
  },
  {
   "cell_type": "code",
   "execution_count": 176,
   "metadata": {},
   "outputs": [
    {
     "name": "stdout",
     "output_type": "stream",
     "text": [
      "[1 0 0 0 2 0 0 0 3 0 0 0 4 0 0 0 5]\n"
     ]
    }
   ],
   "source": [
    "x = np.array([1, 2, 3, 4, 5])\n",
    "a = 3\n",
    "y = np.zeros((len(x) + (len(x) - 1) * a), dtype=int)\n",
    "y[::a + 1] = x\n",
    "print(y)"
   ]
  },
  {
   "attachments": {},
   "cell_type": "markdown",
   "metadata": {},
   "source": [
    "71. Consider an array of dimension (5,5,3), how to mulitply it by an array with dimensions (5,5)?"
   ]
  },
  {
   "cell_type": "code",
   "execution_count": 177,
   "metadata": {},
   "outputs": [
    {
     "name": "stdout",
     "output_type": "stream",
     "text": [
      "[[[2 2 2]\n",
      "  [2 2 2]\n",
      "  [2 2 2]\n",
      "  [2 2 2]\n",
      "  [2 2 2]]\n",
      "\n",
      " [[2 2 2]\n",
      "  [2 2 2]\n",
      "  [2 2 2]\n",
      "  [2 2 2]\n",
      "  [2 2 2]]\n",
      "\n",
      " [[2 2 2]\n",
      "  [2 2 2]\n",
      "  [2 2 2]\n",
      "  [2 2 2]\n",
      "  [2 2 2]]\n",
      "\n",
      " [[2 2 2]\n",
      "  [2 2 2]\n",
      "  [2 2 2]\n",
      "  [2 2 2]\n",
      "  [2 2 2]]\n",
      "\n",
      " [[2 2 2]\n",
      "  [2 2 2]\n",
      "  [2 2 2]\n",
      "  [2 2 2]\n",
      "  [2 2 2]]]\n"
     ]
    }
   ],
   "source": [
    "x = np.ones((5, 5, 3), dtype=int)\n",
    "y = 2 * np.ones((5, 5), dtype=int)\n",
    "check = x * y[:, :, None]\n",
    "print(check)"
   ]
  },
  {
   "attachments": {},
   "cell_type": "markdown",
   "metadata": {},
   "source": [
    "72. How to swap two rows of an array?"
   ]
  },
  {
   "cell_type": "code",
   "execution_count": 180,
   "metadata": {},
   "outputs": [
    {
     "name": "stdout",
     "output_type": "stream",
     "text": [
      "[[3 4 5]\n",
      " [0 1 2]\n",
      " [6 7 8]]\n"
     ]
    }
   ],
   "source": [
    "x = np.arange(9).reshape(3, 3)\n",
    "x[[0, 1]] = x[[1, 0]]\n",
    "print(x)"
   ]
  },
  {
   "attachments": {},
   "cell_type": "markdown",
   "metadata": {},
   "source": [
    "73. Consider a set of 10 triplets describing 10 triangles (with shared vertices), find the set of unique line segments composing all the triangles"
   ]
  },
  {
   "cell_type": "code",
   "execution_count": 182,
   "metadata": {},
   "outputs": [
    {
     "name": "stdout",
     "output_type": "stream",
     "text": [
      "[(0, 9) (1, 4) (1, 5) (1, 9) (2, 4) (2, 6) (2, 8) (2, 9) (3, 5) (3, 9)\n",
      " (4, 5) (4, 6) (4, 7) (4, 9) (5, 5) (5, 7) (5, 8) (5, 9) (6, 8) (6, 9)\n",
      " (9, 9)]\n"
     ]
    }
   ],
   "source": [
    "x = np.random.randint(0, 10, (10, 3))\n",
    "q = np.roll(x.repeat(2, axis=1), -1, axis=1)\n",
    "q = q.reshape(len(q)*3, 2)\n",
    "q = np.sort(q, axis=1)\n",
    "fin = q.view(dtype=[('p0', q.dtype), ('p1', q.dtype)])\n",
    "fin = np.unique(fin)\n",
    "print(fin)\n"
   ]
  },
  {
   "attachments": {},
   "cell_type": "markdown",
   "metadata": {},
   "source": [
    "74. Given a sorted array C that corresponds to a bincount, how to produce an array A such that np.bincount(A) == C?"
   ]
  },
  {
   "cell_type": "code",
   "execution_count": 183,
   "metadata": {},
   "outputs": [
    {
     "name": "stdout",
     "output_type": "stream",
     "text": [
      "[1 1 2 4 5]\n"
     ]
    }
   ],
   "source": [
    "c = np.bincount([1, 1, 2, 4, 5])\n",
    "a = np.repeat(np.arange(len(c)), c)\n",
    "print(a)"
   ]
  },
  {
   "attachments": {},
   "cell_type": "markdown",
   "metadata": {},
   "source": [
    "75. How to compute averages using a sliding window over an array?"
   ]
  },
  {
   "cell_type": "code",
   "execution_count": 186,
   "metadata": {},
   "outputs": [
    {
     "name": "stdout",
     "output_type": "stream",
     "text": [
      "[1.33333333 2.33333333 3.66666667]\n"
     ]
    }
   ],
   "source": [
    "def move(x, n = 3):\n",
    "    q = np.cumsum(a, dtype=float)\n",
    "    q[n:] = q[n:] - q[:-n]\n",
    "    return q[n - 1:] / n\n",
    "p = np.arange(20)\n",
    "print(move(p, n = 3))"
   ]
  },
  {
   "attachments": {},
   "cell_type": "markdown",
   "metadata": {},
   "source": [
    "76. Consider a one-dimensional array Z, build a two-dimensional array whose first row is (Z[0],Z[1],Z[2]) and each subsequent row is shifted by 1 (last row should be (Z[-3],Z[-2],Z[-1]) "
   ]
  },
  {
   "cell_type": "code",
   "execution_count": 190,
   "metadata": {},
   "outputs": [
    {
     "name": "stdout",
     "output_type": "stream",
     "text": [
      "[[0 1 2]\n",
      " [1 2 3]\n",
      " [2 3 4]\n",
      " [3 4 5]\n",
      " [4 5 6]\n",
      " [5 6 7]\n",
      " [6 7 8]\n",
      " [7 8 9]]\n"
     ]
    }
   ],
   "source": [
    "from numpy.lib import stride_tricks\n",
    "\n",
    "def shake(x, y):\n",
    "    shape = (x.size - y + 1, y)\n",
    "    strides = (x.itemsize, x.itemsize)\n",
    "    return stride_tricks.as_strided(x, shape=shape, strides=strides)\n",
    "p = shake(np.arange(10), 3)\n",
    "print(p)"
   ]
  },
  {
   "attachments": {},
   "cell_type": "markdown",
   "metadata": {},
   "source": [
    "77. How to negate a boolean, or to change the sign of a float inplace?"
   ]
  },
  {
   "cell_type": "code",
   "execution_count": 193,
   "metadata": {},
   "outputs": [
    {
     "name": "stdout",
     "output_type": "stream",
     "text": [
      "[1 1 0 1 1 1 1 0 1 0]\n",
      "[-0.14260127  0.67837399 -0.16581615 -0.36918877 -0.95020488 -0.77772803\n",
      "  0.5602042   0.72430678  0.75270658  0.06653833]\n"
     ]
    }
   ],
   "source": [
    "x = np.random.randint(0, 2, 10)\n",
    "check = np.logical_not(x, out=x)\n",
    "print(check)\n",
    "\n",
    "x = np.random.uniform(-1.0, 1.0, 10)\n",
    "check = np.negative(x, out=x)\n",
    "print(check)"
   ]
  },
  {
   "attachments": {},
   "cell_type": "markdown",
   "metadata": {},
   "source": [
    "78. Consider 2 sets of points P0,P1 describing lines (2d) and a point p, how to compute distance from p to each line i (P0[i],P1[i])?"
   ]
  },
  {
   "cell_type": "code",
   "execution_count": 196,
   "metadata": {},
   "outputs": [
    {
     "name": "stdout",
     "output_type": "stream",
     "text": [
      "[ 2.04739134  0.67821856  1.49059882  1.57253251  6.68786163 15.57098422\n",
      "  5.32964526  0.32894089  1.05818083  5.85774469]\n"
     ]
    }
   ],
   "source": [
    "def metr(p0, p1, p):\n",
    "    rast = p1 - p0\n",
    "    kek = (rast**2).sum(axis=1)\n",
    "    check = -((p0[:, 0] - p[..., 0]) * rast[:, 0] + (p0[:, 1] - p[..., 1]) * rast[:, 1]) / kek\n",
    "    check = check.reshape(len(check), 1)\n",
    "    dist = p0 + check * rast - p\n",
    "    return np.sqrt((dist**2).sum(axis=1))\n",
    "p0 = np.random.uniform(-10, 10, (10, 2))\n",
    "p1 = np.random.uniform(-10, 10, (10, 2))\n",
    "p = np.random.uniform(-10, 10, (10, 2))\n",
    "print(metr(p0, p1, p))"
   ]
  },
  {
   "attachments": {},
   "cell_type": "markdown",
   "metadata": {},
   "source": [
    "79. Consider 2 sets of points P0,P1 describing lines (2d) and a set of points P, how to compute distance from each point j (P[j]) to each line i (P0[i],P1[i])?"
   ]
  },
  {
   "cell_type": "code",
   "execution_count": 199,
   "metadata": {},
   "outputs": [
    {
     "name": "stdout",
     "output_type": "stream",
     "text": [
      "[[13.07461457  0.25987521  2.79843799 12.62869217  3.3567584   8.56657368\n",
      "   4.06484228  9.28879449 12.79555988  5.67763039]\n",
      " [ 6.52308506 18.40255712 17.77196585  7.2366253  14.43824538  3.48703483\n",
      "   4.37756587  5.52305231  6.04847067 11.09894442]\n",
      " [ 3.31021299 14.49520172 18.01589228  4.27729021 10.04014407  3.08098679\n",
      "   2.37746627  1.19674197  8.23293304 14.53423847]\n",
      " [ 4.75702494 17.5396825  12.42529366  5.15917924 14.26491028 11.09319464\n",
      "   8.80460399 12.94937467  0.74362184  3.61236575]\n",
      " [ 4.72634863 17.64607211 11.81469723  5.08051518 14.47389435 12.28484929\n",
      "   9.65044051 14.12879838  1.61662402  2.59674896]\n",
      " [ 7.62304608 18.9216404  21.18029488  8.5369628  14.51416555  1.41046201\n",
      "   1.50404966  0.73894059 10.39291848 15.89567153]\n",
      " [13.08790443  0.96354278  0.13506018 12.39975811  4.57572822  2.53800008\n",
      "   8.44819511  3.31117782  8.50993075  0.64736027]\n",
      " [ 7.69761652 19.25745433 20.12907696  8.51965952 15.04437293  0.8817359\n",
      "   3.21372149  3.016269    8.817431   14.02750112]\n",
      " [ 3.75993408 16.138354   13.30591917  4.3069707  12.57039682  7.40756146\n",
      "   5.51273451  9.23079922  1.10817112  6.0553177 ]\n",
      " [ 9.42095129  3.49054956  0.11989504  9.02024655  0.43436435  9.98630988\n",
      "   0.77328424 10.93312301 10.96893504  4.52806639]]\n"
     ]
    }
   ],
   "source": [
    "p0 = np.random.uniform(-10, 10, (10, 2))\n",
    "p1 = np.random.uniform(-10, 10, (10, 2))\n",
    "p = np.random.uniform(-10, 10, (10, 2))\n",
    "print(np.array([metr(p0, p1, x) for x in p]))"
   ]
  },
  {
   "attachments": {},
   "cell_type": "markdown",
   "metadata": {},
   "source": [
    "80. Consider an arbitrary array, write a function that extract a subpart with a fixed shape and centered on a given element (pad with a fill value when necessary)"
   ]
  },
  {
   "attachments": {},
   "cell_type": "markdown",
   "metadata": {},
   "source": [
    "81. Consider an array Z = [1,2,3,4,5,6,7,8,9,10,11,12,13,14], how to generate an array R = [[1,2,3,4], [2,3,4,5], [3,4,5,6], ..., [11,12,13,14]]?"
   ]
  },
  {
   "cell_type": "code",
   "execution_count": 250,
   "metadata": {},
   "outputs": [
    {
     "name": "stdout",
     "output_type": "stream",
     "text": [
      "[[ 1  2  3  4]\n",
      " [ 2  3  4  5]\n",
      " [ 3  4  5  6]\n",
      " [ 4  5  6  7]\n",
      " [ 5  6  7  8]\n",
      " [ 6  7  8  9]\n",
      " [ 7  8  9 10]\n",
      " [ 8  9 10 11]\n",
      " [ 9 10 11 12]\n",
      " [10 11 12 13]\n",
      " [11 12 13 14]]\n"
     ]
    }
   ],
   "source": [
    "z = np.arange(1, 15, dtype=np.uint32)\n",
    "r = stride_tricks.as_strided(z, (11, 4), (4, 4))\n",
    "print(r)"
   ]
  },
  {
   "attachments": {},
   "cell_type": "markdown",
   "metadata": {},
   "source": [
    "82. Compute a matrix rank"
   ]
  },
  {
   "cell_type": "code",
   "execution_count": 252,
   "metadata": {},
   "outputs": [
    {
     "name": "stdout",
     "output_type": "stream",
     "text": [
      "10\n"
     ]
    }
   ],
   "source": [
    "x = np.random.uniform(0, 1, (10, 10))\n",
    "y, z, q = np.linalg.svd(x)\n",
    "r = np.sum(z > 1e-10)\n",
    "print(r)"
   ]
  },
  {
   "attachments": {},
   "cell_type": "markdown",
   "metadata": {},
   "source": [
    "83. How to find the most frequent value in an array?"
   ]
  },
  {
   "cell_type": "code",
   "execution_count": 254,
   "metadata": {},
   "outputs": [
    {
     "name": "stdout",
     "output_type": "stream",
     "text": [
      "4\n"
     ]
    }
   ],
   "source": [
    "x = np.random.randint(0, 10, 20)\n",
    "y = np.bincount(x).argmax()\n",
    "print(y)"
   ]
  },
  {
   "attachments": {},
   "cell_type": "markdown",
   "metadata": {},
   "source": [
    "84. Extract all the contiguous 3x3 blocks from a random 10x10 matrix "
   ]
  },
  {
   "cell_type": "code",
   "execution_count": 256,
   "metadata": {},
   "outputs": [
    {
     "name": "stdout",
     "output_type": "stream",
     "text": [
      "[[[[                   0                    0                    2\n",
      "                       4                    0]\n",
      "   [                   3                    2                    0\n",
      "                       1                    2]\n",
      "   [                   1                    1                    2\n",
      "                       1                    4]\n",
      "   [                   3                    4                    4\n",
      "                       2                    4]\n",
      "   [                   3                    2                    3\n",
      "                       4                    3]]\n",
      "\n",
      "  [[                   0                    2                    4\n",
      "                       0                    0]\n",
      "   [                   2                    0                    1\n",
      "                       2                    0]\n",
      "   [                   1                    2                    1\n",
      "                       4                    4]\n",
      "   [                   4                    4                    2\n",
      "                       4                    2]\n",
      "   [                   2                    3                    4\n",
      "                       3                    4]]\n",
      "\n",
      "  [[                   2                    4                    0\n",
      "                       0                    2]\n",
      "   [                   0                    1                    2\n",
      "                       0                    0]\n",
      "   [                   2                    1                    4\n",
      "                       4                    4]\n",
      "   [                   4                    2                    4\n",
      "                       2                    3]\n",
      "   [                   3                    4                    3\n",
      "                       4                    2]]\n",
      "\n",
      "  [[                   4                    0                    0\n",
      "                       2                    4]\n",
      "   [                   1                    2                    0\n",
      "                       0                    4]\n",
      "   [                   1                    4                    4\n",
      "                       4                    0]\n",
      "   [                   2                    4                    2\n",
      "                       3                    1]\n",
      "   [                   4                    3                    4\n",
      "                       2                    1]]\n",
      "\n",
      "  [[                   0                    0                    2\n",
      "                       4                    0]\n",
      "   [                   2                    0                    0\n",
      "                       4                    3]\n",
      "   [                   4                    4                    4\n",
      "                       0                    3]\n",
      "   [                   4                    2                    3\n",
      "                       1                    3]\n",
      "   [                   3                    4                    2\n",
      "                       1                    3]]\n",
      "\n",
      "  [[                   0                    2                    4\n",
      "                       0                    1]\n",
      "   [                   0                    0                    4\n",
      "                       3                    0]\n",
      "   [                   4                    4                    0\n",
      "                       3                    1]\n",
      "   [                   2                    3                    1\n",
      "                       3                    1]\n",
      "   [                   4                    2                    1\n",
      "                       3                    2]]\n",
      "\n",
      "  [[                   2                    4                    0\n",
      "                       1                    3]\n",
      "   [                   0                    4                    3\n",
      "                       0                    1]\n",
      "   [                   4                    0                    3\n",
      "                       1                    3]\n",
      "   [                   3                    1                    3\n",
      "                       1                    3]\n",
      "   [                   2                    1                    3\n",
      "                       2                    0]]\n",
      "\n",
      "  [[                   4                    0                    1\n",
      "                       3                    2]\n",
      "   [                   4                    3                    0\n",
      "                       1                    1]\n",
      "   [                   0                    3                    1\n",
      "                       3                    4]\n",
      "   [                   1                    3                    1\n",
      "                       3                    2]\n",
      "   [                   1                    3                    2\n",
      "                       0                    1]]]\n",
      "\n",
      "\n",
      " [[[                   3                    2                    0\n",
      "                       1                    2]\n",
      "   [                   1                    1                    2\n",
      "                       1                    4]\n",
      "   [                   3                    4                    4\n",
      "                       2                    4]\n",
      "   [                   3                    2                    3\n",
      "                       4                    3]\n",
      "   [                   0                    1                    4\n",
      "                       1                    0]]\n",
      "\n",
      "  [[                   2                    0                    1\n",
      "                       2                    0]\n",
      "   [                   1                    2                    1\n",
      "                       4                    4]\n",
      "   [                   4                    4                    2\n",
      "                       4                    2]\n",
      "   [                   2                    3                    4\n",
      "                       3                    4]\n",
      "   [                   1                    4                    1\n",
      "                       0                    2]]\n",
      "\n",
      "  [[                   0                    1                    2\n",
      "                       0                    0]\n",
      "   [                   2                    1                    4\n",
      "                       4                    4]\n",
      "   [                   4                    2                    4\n",
      "                       2                    3]\n",
      "   [                   3                    4                    3\n",
      "                       4                    2]\n",
      "   [                   4                    1                    0\n",
      "                       2                    3]]\n",
      "\n",
      "  [[                   1                    2                    0\n",
      "                       0                    4]\n",
      "   [                   1                    4                    4\n",
      "                       4                    0]\n",
      "   [                   2                    4                    2\n",
      "                       3                    1]\n",
      "   [                   4                    3                    4\n",
      "                       2                    1]\n",
      "   [                   1                    0                    2\n",
      "                       3                    4]]\n",
      "\n",
      "  [[                   2                    0                    0\n",
      "                       4                    3]\n",
      "   [                   4                    4                    4\n",
      "                       0                    3]\n",
      "   [                   4                    2                    3\n",
      "                       1                    3]\n",
      "   [                   3                    4                    2\n",
      "                       1                    3]\n",
      "   [                   0                    2                    3\n",
      "                       4                    0]]\n",
      "\n",
      "  [[                   0                    0                    4\n",
      "                       3                    0]\n",
      "   [                   4                    4                    0\n",
      "                       3                    1]\n",
      "   [                   2                    3                    1\n",
      "                       3                    1]\n",
      "   [                   4                    2                    1\n",
      "                       3                    2]\n",
      "   [                   2                    3                    4\n",
      "                       0                    4]]\n",
      "\n",
      "  [[                   0                    4                    3\n",
      "                       0                    1]\n",
      "   [                   4                    0                    3\n",
      "                       1                    3]\n",
      "   [                   3                    1                    3\n",
      "                       1                    3]\n",
      "   [                   2                    1                    3\n",
      "                       2                    0]\n",
      "   [                   3                    4                    0\n",
      "                       4                    3]]\n",
      "\n",
      "  [[                   4                    3                    0\n",
      "                       1                    1]\n",
      "   [                   0                    3                    1\n",
      "                       3                    4]\n",
      "   [                   1                    3                    1\n",
      "                       3                    2]\n",
      "   [                   1                    3                    2\n",
      "                       0                    1]\n",
      "   [                   4                    0                    4\n",
      "                       3                    2]]]\n",
      "\n",
      "\n",
      " [[[                   1                    1                    2\n",
      "                       1                    4]\n",
      "   [                   3                    4                    4\n",
      "                       2                    4]\n",
      "   [                   3                    2                    3\n",
      "                       4                    3]\n",
      "   [                   0                    1                    4\n",
      "                       1                    0]\n",
      "   [                   3                    2                    0\n",
      "                       1                    2]]\n",
      "\n",
      "  [[                   1                    2                    1\n",
      "                       4                    4]\n",
      "   [                   4                    4                    2\n",
      "                       4                    2]\n",
      "   [                   2                    3                    4\n",
      "                       3                    4]\n",
      "   [                   1                    4                    1\n",
      "                       0                    2]\n",
      "   [                   2                    0                    1\n",
      "                       2                    2]]\n",
      "\n",
      "  [[                   2                    1                    4\n",
      "                       4                    4]\n",
      "   [                   4                    2                    4\n",
      "                       2                    3]\n",
      "   [                   3                    4                    3\n",
      "                       4                    2]\n",
      "   [                   4                    1                    0\n",
      "                       2                    3]\n",
      "   [                   0                    1                    2\n",
      "                       2                    3]]\n",
      "\n",
      "  [[                   1                    4                    4\n",
      "                       4                    0]\n",
      "   [                   2                    4                    2\n",
      "                       3                    1]\n",
      "   [                   4                    3                    4\n",
      "                       2                    1]\n",
      "   [                   1                    0                    2\n",
      "                       3                    4]\n",
      "   [                   1                    2                    2\n",
      "                       3                    3]]\n",
      "\n",
      "  [[                   4                    4                    4\n",
      "                       0                    3]\n",
      "   [                   4                    2                    3\n",
      "                       1                    3]\n",
      "   [                   3                    4                    2\n",
      "                       1                    3]\n",
      "   [                   0                    2                    3\n",
      "                       4                    0]\n",
      "   [                   2                    2                    3\n",
      "                       3                    0]]\n",
      "\n",
      "  [[                   4                    4                    0\n",
      "                       3                    1]\n",
      "   [                   2                    3                    1\n",
      "                       3                    1]\n",
      "   [                   4                    2                    1\n",
      "                       3                    2]\n",
      "   [                   2                    3                    4\n",
      "                       0                    4]\n",
      "   [                   2                    3                    3\n",
      "                       0                    3]]\n",
      "\n",
      "  [[                   4                    0                    3\n",
      "                       1                    3]\n",
      "   [                   3                    1                    3\n",
      "                       1                    3]\n",
      "   [                   2                    1                    3\n",
      "                       2                    0]\n",
      "   [                   3                    4                    0\n",
      "                       4                    3]\n",
      "   [                   3                    3                    0\n",
      "                       3                    0]]\n",
      "\n",
      "  [[                   0                    3                    1\n",
      "                       3                    4]\n",
      "   [                   1                    3                    1\n",
      "                       3                    2]\n",
      "   [                   1                    3                    2\n",
      "                       0                    1]\n",
      "   [                   4                    0                    4\n",
      "                       3                    2]\n",
      "   [                   3                    0                    3\n",
      "                       0                    2]]]\n",
      "\n",
      "\n",
      " [[[                   3                    4                    4\n",
      "                       2                    4]\n",
      "   [                   3                    2                    3\n",
      "                       4                    3]\n",
      "   [                   0                    1                    4\n",
      "                       1                    0]\n",
      "   [                   3                    2                    0\n",
      "                       1                    2]\n",
      "   [                   0                    2                    3\n",
      "                       2                    2]]\n",
      "\n",
      "  [[                   4                    4                    2\n",
      "                       4                    2]\n",
      "   [                   2                    3                    4\n",
      "                       3                    4]\n",
      "   [                   1                    4                    1\n",
      "                       0                    2]\n",
      "   [                   2                    0                    1\n",
      "                       2                    2]\n",
      "   [                   2                    3                    2\n",
      "                       2                    2]]\n",
      "\n",
      "  [[                   4                    2                    4\n",
      "                       2                    3]\n",
      "   [                   3                    4                    3\n",
      "                       4                    2]\n",
      "   [                   4                    1                    0\n",
      "                       2                    3]\n",
      "   [                   0                    1                    2\n",
      "                       2                    3]\n",
      "   [                   3                    2                    2\n",
      "                       2                    4]]\n",
      "\n",
      "  [[                   2                    4                    2\n",
      "                       3                    1]\n",
      "   [                   4                    3                    4\n",
      "                       2                    1]\n",
      "   [                   1                    0                    2\n",
      "                       3                    4]\n",
      "   [                   1                    2                    2\n",
      "                       3                    3]\n",
      "   [                   2                    2                    2\n",
      "                       4                    0]]\n",
      "\n",
      "  [[                   4                    2                    3\n",
      "                       1                    3]\n",
      "   [                   3                    4                    2\n",
      "                       1                    3]\n",
      "   [                   0                    2                    3\n",
      "                       4                    0]\n",
      "   [                   2                    2                    3\n",
      "                       3                    0]\n",
      "   [                   2                    2                    4\n",
      "                       0                    3]]\n",
      "\n",
      "  [[                   2                    3                    1\n",
      "                       3                    1]\n",
      "   [                   4                    2                    1\n",
      "                       3                    2]\n",
      "   [                   2                    3                    4\n",
      "                       0                    4]\n",
      "   [                   2                    3                    3\n",
      "                       0                    3]\n",
      "   [                   2                    4                    0\n",
      "                       3                    4]]\n",
      "\n",
      "  [[                   3                    1                    3\n",
      "                       1                    3]\n",
      "   [                   2                    1                    3\n",
      "                       2                    0]\n",
      "   [                   3                    4                    0\n",
      "                       4                    3]\n",
      "   [                   3                    3                    0\n",
      "                       3                    0]\n",
      "   [                   4                    0                    3\n",
      "                       4                    0]]\n",
      "\n",
      "  [[                   1                    3                    1\n",
      "                       3                    2]\n",
      "   [                   1                    3                    2\n",
      "                       0                    1]\n",
      "   [                   4                    0                    4\n",
      "                       3                    2]\n",
      "   [                   3                    0                    3\n",
      "                       0                    2]\n",
      "   [                   0                    3                    4\n",
      "                       0                    2]]]\n",
      "\n",
      "\n",
      " [[[                   3                    2                    3\n",
      "                       4                    3]\n",
      "   [                   0                    1                    4\n",
      "                       1                    0]\n",
      "   [                   3                    2                    0\n",
      "                       1                    2]\n",
      "   [                   0                    2                    3\n",
      "                       2                    2]\n",
      "   [                   0                    2                    2\n",
      "                       4                    0]]\n",
      "\n",
      "  [[                   2                    3                    4\n",
      "                       3                    4]\n",
      "   [                   1                    4                    1\n",
      "                       0                    2]\n",
      "   [                   2                    0                    1\n",
      "                       2                    2]\n",
      "   [                   2                    3                    2\n",
      "                       2                    2]\n",
      "   [                   2                    2                    4\n",
      "                       0                    0]]\n",
      "\n",
      "  [[                   3                    4                    3\n",
      "                       4                    2]\n",
      "   [                   4                    1                    0\n",
      "                       2                    3]\n",
      "   [                   0                    1                    2\n",
      "                       2                    3]\n",
      "   [                   3                    2                    2\n",
      "                       2                    4]\n",
      "   [                   2                    4                    0\n",
      "                       0                    1]]\n",
      "\n",
      "  [[                   4                    3                    4\n",
      "                       2                    1]\n",
      "   [                   1                    0                    2\n",
      "                       3                    4]\n",
      "   [                   1                    2                    2\n",
      "                       3                    3]\n",
      "   [                   2                    2                    2\n",
      "                       4                    0]\n",
      "   [                   4                    0                    0\n",
      "                       1                    0]]\n",
      "\n",
      "  [[                   3                    4                    2\n",
      "                       1                    3]\n",
      "   [                   0                    2                    3\n",
      "                       4                    0]\n",
      "   [                   2                    2                    3\n",
      "                       3                    0]\n",
      "   [                   2                    2                    4\n",
      "                       0                    3]\n",
      "   [                   0                    0                    1\n",
      "                       0                    2]]\n",
      "\n",
      "  [[                   4                    2                    1\n",
      "                       3                    2]\n",
      "   [                   2                    3                    4\n",
      "                       0                    4]\n",
      "   [                   2                    3                    3\n",
      "                       0                    3]\n",
      "   [                   2                    4                    0\n",
      "                       3                    4]\n",
      "   [                   0                    1                    0\n",
      "                       2                    3]]\n",
      "\n",
      "  [[                   2                    1                    3\n",
      "                       2                    0]\n",
      "   [                   3                    4                    0\n",
      "                       4                    3]\n",
      "   [                   3                    3                    0\n",
      "                       3                    0]\n",
      "   [                   4                    0                    3\n",
      "                       4                    0]\n",
      "   [                   1                    0                    2\n",
      "                       3                    0]]\n",
      "\n",
      "  [[                   1                    3                    2\n",
      "                       0                    1]\n",
      "   [                   4                    0                    4\n",
      "                       3                    2]\n",
      "   [                   3                    0                    3\n",
      "                       0                    2]\n",
      "   [                   0                    3                    4\n",
      "                       0                    2]\n",
      "   [                   0                    2                    3\n",
      "                       0                    0]]]\n",
      "\n",
      "\n",
      " [[[                   0                    1                    4\n",
      "                       1                    0]\n",
      "   [                   3                    2                    0\n",
      "                       1                    2]\n",
      "   [                   0                    2                    3\n",
      "                       2                    2]\n",
      "   [                   0                    2                    2\n",
      "                       4                    0]\n",
      "   [                   0                    0                    3\n",
      "                       3                    0]]\n",
      "\n",
      "  [[                   1                    4                    1\n",
      "                       0                    2]\n",
      "   [                   2                    0                    1\n",
      "                       2                    2]\n",
      "   [                   2                    3                    2\n",
      "                       2                    2]\n",
      "   [                   2                    2                    4\n",
      "                       0                    0]\n",
      "   [                   0                    3                    3\n",
      "                       0                    4]]\n",
      "\n",
      "  [[                   4                    1                    0\n",
      "                       2                    3]\n",
      "   [                   0                    1                    2\n",
      "                       2                    3]\n",
      "   [                   3                    2                    2\n",
      "                       2                    4]\n",
      "   [                   2                    4                    0\n",
      "                       0                    1]\n",
      "   [                   3                    3                    0\n",
      "                       4                    3]]\n",
      "\n",
      "  [[                   1                    0                    2\n",
      "                       3                    4]\n",
      "   [                   1                    2                    2\n",
      "                       3                    3]\n",
      "   [                   2                    2                    2\n",
      "                       4                    0]\n",
      "   [                   4                    0                    0\n",
      "                       1                    0]\n",
      "   [                   3                    0                    4\n",
      "                       3                    3]]\n",
      "\n",
      "  [[                   0                    2                    3\n",
      "                       4                    0]\n",
      "   [                   2                    2                    3\n",
      "                       3                    0]\n",
      "   [                   2                    2                    4\n",
      "                       0                    3]\n",
      "   [                   0                    0                    1\n",
      "                       0                    2]\n",
      "   [                   0                    4                    3\n",
      "                       3                    4]]\n",
      "\n",
      "  [[                   2                    3                    4\n",
      "                       0                    4]\n",
      "   [                   2                    3                    3\n",
      "                       0                    3]\n",
      "   [                   2                    4                    0\n",
      "                       3                    4]\n",
      "   [                   0                    1                    0\n",
      "                       2                    3]\n",
      "   [                   4                    3                    3\n",
      "                       4                    0]]\n",
      "\n",
      "  [[                   3                    4                    0\n",
      "                       4                    3]\n",
      "   [                   3                    3                    0\n",
      "                       3                    0]\n",
      "   [                   4                    0                    3\n",
      "                       4                    0]\n",
      "   [                   1                    0                    2\n",
      "                       3                    0]\n",
      "   [                   3                    3                    4\n",
      "                       0 -4622390985787582217]]\n",
      "\n",
      "  [[                   4                    0                    4\n",
      "                       3                    2]\n",
      "   [                   3                    0                    3\n",
      "                       0                    2]\n",
      "   [                   0                    3                    4\n",
      "                       0                    2]\n",
      "   [                   0                    2                    3\n",
      "                       0                    0]\n",
      "   [                   3                    4                    0\n",
      "    -4622390985787582217 -4624745476328832680]]]\n",
      "\n",
      "\n",
      " [[[                   3                    2                    0\n",
      "                       1                    2]\n",
      "   [                   0                    2                    3\n",
      "                       2                    2]\n",
      "   [                   0                    2                    2\n",
      "                       4                    0]\n",
      "   [                   0                    0                    3\n",
      "                       3                    0]\n",
      "   [-4622390985787582217 -4624745476328832680 -4626072823164735181\n",
      "    -4623763382661760056 -4624428304425401692]]\n",
      "\n",
      "  [[                   2                    0                    1\n",
      "                       2                    2]\n",
      "   [                   2                    3                    2\n",
      "                       2                    2]\n",
      "   [                   2                    2                    4\n",
      "                       0                    0]\n",
      "   [                   0                    3                    3\n",
      "                       0                    4]\n",
      "   [-4624745476328832680 -4626072823164735181 -4623763382661760056\n",
      "    -4624428304425401692 -4623130349296720152]]\n",
      "\n",
      "  [[                   0                    1                    2\n",
      "                       2                    3]\n",
      "   [                   3                    2                    2\n",
      "                       2                    4]\n",
      "   [                   2                    4                    0\n",
      "                       0                    1]\n",
      "   [                   3                    3                    0\n",
      "                       4                    3]\n",
      "   [-4626072823164735181 -4623763382661760056 -4624428304425401692\n",
      "    -4623130349296720152 -4624788075012509630]]\n",
      "\n",
      "  [[                   1                    2                    2\n",
      "                       3                    3]\n",
      "   [                   2                    2                    2\n",
      "                       4                    0]\n",
      "   [                   4                    0                    0\n",
      "                       1                    0]\n",
      "   [                   3                    0                    4\n",
      "                       3                    3]\n",
      "   [-4623763382661760056 -4624428304425401692 -4623130349296720152\n",
      "    -4624788075012509630 -4623866614840700526]]\n",
      "\n",
      "  [[                   2                    2                    3\n",
      "                       3                    0]\n",
      "   [                   2                    2                    4\n",
      "                       0                    3]\n",
      "   [                   0                    0                    1\n",
      "                       0                    2]\n",
      "   [                   0                    4                    3\n",
      "                       3                    4]\n",
      "   [-4624428304425401692 -4623130349296720152 -4624788075012509630\n",
      "    -4623866614840700526 -4624053116904481327]]\n",
      "\n",
      "  [[                   2                    3                    3\n",
      "                       0                    3]\n",
      "   [                   2                    4                    0\n",
      "                       3                    4]\n",
      "   [                   0                    1                    0\n",
      "                       2                    3]\n",
      "   [                   4                    3                    3\n",
      "                       4                    0]\n",
      "   [-4623130349296720152 -4624788075012509630 -4623866614840700526\n",
      "    -4624053116904481327 -4623891408920902818]]\n",
      "\n",
      "  [[                   3                    3                    0\n",
      "                       3                    0]\n",
      "   [                   4                    0                    3\n",
      "                       4                    0]\n",
      "   [                   1                    0                    2\n",
      "                       3                    0]\n",
      "   [                   3                    3                    4\n",
      "                       0 -4622390985787582217]\n",
      "   [-4624788075012509630 -4623866614840700526 -4624053116904481327\n",
      "    -4623891408920902818  4601166519406718472]]\n",
      "\n",
      "  [[                   3                    0                    3\n",
      "                       0                    2]\n",
      "   [                   0                    3                    4\n",
      "                       0                    2]\n",
      "   [                   0                    2                    3\n",
      "                       0                    0]\n",
      "   [                   3                    4                    0\n",
      "    -4622390985787582217 -4624745476328832680]\n",
      "   [-4623866614840700526 -4624053116904481327 -4623891408920902818\n",
      "     4601166519406718472 -4621002820516865229]]]\n",
      "\n",
      "\n",
      " [[[                   0                    2                    3\n",
      "                       2                    2]\n",
      "   [                   0                    2                    2\n",
      "                       4                    0]\n",
      "   [                   0                    0                    3\n",
      "                       3                    0]\n",
      "   [-4622390985787582217 -4624745476328832680 -4626072823164735181\n",
      "    -4623763382661760056 -4624428304425401692]\n",
      "   [ 4601166519406718472 -4621002820516865229 -4625634405104183385\n",
      "    -4625592676511353042  4599522786715311882]]\n",
      "\n",
      "  [[                   2                    3                    2\n",
      "                       2                    2]\n",
      "   [                   2                    2                    4\n",
      "                       0                    0]\n",
      "   [                   0                    3                    3\n",
      "                       0                    4]\n",
      "   [-4624745476328832680 -4626072823164735181 -4623763382661760056\n",
      "    -4624428304425401692 -4623130349296720152]\n",
      "   [-4621002820516865229 -4625634405104183385 -4625592676511353042\n",
      "     4599522786715311882 -4624967403561058167]]\n",
      "\n",
      "  [[                   3                    2                    2\n",
      "                       2                    4]\n",
      "   [                   2                    4                    0\n",
      "                       0                    1]\n",
      "   [                   3                    3                    0\n",
      "                       4                    3]\n",
      "   [-4626072823164735181 -4623763382661760056 -4624428304425401692\n",
      "    -4623130349296720152 -4624788075012509630]\n",
      "   [-4625634405104183385 -4625592676511353042  4599522786715311882\n",
      "    -4624967403561058167  4594420525812766434]]\n",
      "\n",
      "  [[                   2                    2                    2\n",
      "                       4                    0]\n",
      "   [                   4                    0                    0\n",
      "                       1                    0]\n",
      "   [                   3                    0                    4\n",
      "                       3                    3]\n",
      "   [-4623763382661760056 -4624428304425401692 -4623130349296720152\n",
      "    -4624788075012509630 -4623866614840700526]\n",
      "   [-4625592676511353042  4599522786715311882 -4624967403561058167\n",
      "     4594420525812766434 -4624461848640277756]]\n",
      "\n",
      "  [[                   2                    2                    4\n",
      "                       0                    3]\n",
      "   [                   0                    0                    1\n",
      "                       0                    2]\n",
      "   [                   0                    4                    3\n",
      "                       3                    4]\n",
      "   [-4624428304425401692 -4623130349296720152 -4624788075012509630\n",
      "    -4623866614840700526 -4624053116904481327]\n",
      "   [ 4599522786715311882 -4624967403561058167  4594420525812766434\n",
      "    -4624461848640277756  4582756078774983939]]\n",
      "\n",
      "  [[                   2                    4                    0\n",
      "                       3                    4]\n",
      "   [                   0                    1                    0\n",
      "                       2                    3]\n",
      "   [                   4                    3                    3\n",
      "                       4                    0]\n",
      "   [-4623130349296720152 -4624788075012509630 -4623866614840700526\n",
      "    -4624053116904481327 -4623891408920902818]\n",
      "   [-4624967403561058167  4594420525812766434 -4624461848640277756\n",
      "     4582756078774983939  4601710542529045303]]\n",
      "\n",
      "  [[                   4                    0                    3\n",
      "                       4                    0]\n",
      "   [                   1                    0                    2\n",
      "                       3                    0]\n",
      "   [                   3                    3                    4\n",
      "                       0 -4622390985787582217]\n",
      "   [-4624788075012509630 -4623866614840700526 -4624053116904481327\n",
      "    -4623891408920902818  4601166519406718472]\n",
      "   [ 4594420525812766434 -4624461848640277756  4582756078774983939\n",
      "     4601710542529045303  4595076622683790972]]\n",
      "\n",
      "  [[                   0                    3                    4\n",
      "                       0                    2]\n",
      "   [                   0                    2                    3\n",
      "                       0                    0]\n",
      "   [                   3                    4                    0\n",
      "    -4622390985787582217 -4624745476328832680]\n",
      "   [-4623866614840700526 -4624053116904481327 -4623891408920902818\n",
      "     4601166519406718472 -4621002820516865229]\n",
      "   [-4624461848640277756  4582756078774983939  4601710542529045303\n",
      "     4595076622683790972  4600484847331896603]]]]\n"
     ]
    }
   ],
   "source": [
    "x = np.random.randint(0, 5, (10, 10))\n",
    "p = 3\n",
    "y = 1 + (x.shape[0] - 3)\n",
    "z = 1 + (x.shape[1] - 3)\n",
    "check = stride_tricks.as_strided(x, shape=(y, z, n, n), strides=x.strides + x.strides)\n",
    "print(check)\n"
   ]
  },
  {
   "attachments": {},
   "cell_type": "markdown",
   "metadata": {},
   "source": [
    "85. Create a 2D array subclass such that Z[i,j] == Z[j,i]"
   ]
  },
  {
   "cell_type": "code",
   "execution_count": 306,
   "metadata": {},
   "outputs": [
    {
     "name": "stdout",
     "output_type": "stream",
     "text": [
      "[[ 0  5  2  1  2]\n",
      " [ 5  2  4  7  6]\n",
      " [ 2  4  2 24  0]\n",
      " [ 1  7  4  1  5]\n",
      " [ 2  6  0  5  0]]\n"
     ]
    }
   ],
   "source": [
    "class Sym(np.ndarray):\n",
    "    def __set__(m, i, v):\n",
    "        a, b = i\n",
    "        super(Sym, m).__set__((a, b), v)\n",
    "        super(Sym, m).__set__((b, a), v)\n",
    "\n",
    "def switch(x):\n",
    "    return np.asarray(x + x.T - np.diag(x.diagonal())).view(Sym)\n",
    "\n",
    "k = switch(np.random.randint(0, 5, (5, 5)))\n",
    "k[2, 3] = 24\n",
    "print(k)"
   ]
  },
  {
   "attachments": {},
   "cell_type": "markdown",
   "metadata": {},
   "source": [
    "86. Consider a set of p matrices wich shape (n,n) and a set of p vectors with shape (n,1). How to compute the sum of of the p matrix products at once? (result has shape (n,1))"
   ]
  },
  {
   "cell_type": "code",
   "execution_count": 307,
   "metadata": {},
   "outputs": [
    {
     "name": "stdout",
     "output_type": "stream",
     "text": [
      "[[50]\n",
      " [50]\n",
      " [50]\n",
      " [50]\n",
      " [50]]\n"
     ]
    }
   ],
   "source": [
    "n, p = 5, 10\n",
    "z = np.ones((p, n, n), dtype=int)\n",
    "y = np.ones((p, n, 1), dtype=int)\n",
    "x = np.tensordot(z, y, axes=[[0, 2], [0, 1]])\n",
    "print(x)"
   ]
  },
  {
   "attachments": {},
   "cell_type": "markdown",
   "metadata": {},
   "source": [
    "87. Consider a 16x16 array, how to get the block-sum (block size is 4x4)?"
   ]
  },
  {
   "cell_type": "code",
   "execution_count": 308,
   "metadata": {},
   "outputs": [
    {
     "name": "stdout",
     "output_type": "stream",
     "text": [
      "[[16 16 16 16]\n",
      " [16 16 16 16]\n",
      " [16 16 16 16]\n",
      " [16 16 16 16]]\n"
     ]
    }
   ],
   "source": [
    "x = np.ones((16, 16), dtype=int)\n",
    "check = np.add.reduceat(np.add.reduceat(x, np.arange(0, x.shape[0], 4), axis=0),\n",
    "                                        np.arange(0, x.shape[1], 4), axis=1)\n",
    "print(check)"
   ]
  },
  {
   "attachments": {},
   "cell_type": "markdown",
   "metadata": {},
   "source": [
    "88. How to implement the Game of Life using numpy arrays? "
   ]
  },
  {
   "cell_type": "code",
   "execution_count": 309,
   "metadata": {},
   "outputs": [
    {
     "name": "stdout",
     "output_type": "stream",
     "text": [
      "[[0 0 0 0 0 0 0 0 0 0 0 0 0 0 0 0 0 0 0 0 0 0 0 0 0 0 0 0 0 0 0 0 0 0 0 0\n",
      "  0 0 0 0 0 0 0 0 0 0 0 0 0 0]\n",
      " [0 0 0 0 0 0 0 0 0 0 0 0 0 0 0 0 0 0 0 0 0 0 0 0 0 0 0 0 1 1 1 1 1 0 0 0\n",
      "  0 0 0 0 0 0 0 0 0 0 0 0 0 0]\n",
      " [0 0 0 1 0 0 0 0 0 0 0 0 0 0 0 0 0 0 0 0 0 0 0 0 0 0 0 0 1 0 0 0 0 1 0 0\n",
      "  0 0 0 0 0 0 0 0 0 0 0 0 0 0]\n",
      " [0 0 1 0 1 0 0 0 0 0 0 0 0 0 0 0 0 0 0 0 0 0 0 0 1 1 0 0 0 0 0 1 0 0 1 0\n",
      "  0 0 0 0 0 0 0 0 0 0 0 0 0 0]\n",
      " [0 0 1 1 0 0 0 0 0 0 0 0 0 0 0 0 0 0 0 0 0 0 0 0 1 1 0 0 0 0 1 0 0 0 1 0\n",
      "  0 0 0 0 0 0 0 0 0 0 0 0 0 0]\n",
      " [0 0 0 0 0 0 0 0 0 0 0 0 0 0 0 0 0 0 0 0 0 0 0 0 0 0 0 0 0 0 1 0 0 0 1 0\n",
      "  0 0 0 0 0 0 0 0 0 0 0 0 0 0]\n",
      " [0 0 0 0 0 0 0 0 0 0 0 0 0 0 0 0 0 0 0 0 0 0 0 0 0 0 0 0 0 0 0 0 0 1 0 0\n",
      "  0 0 0 0 0 0 0 0 0 0 0 0 0 0]\n",
      " [0 0 0 0 0 0 0 0 0 0 0 0 0 0 0 0 0 0 0 0 0 0 0 0 0 0 1 1 1 0 1 1 1 0 0 0\n",
      "  0 0 0 0 0 0 0 0 0 0 0 0 0 0]\n",
      " [0 0 0 0 0 0 0 0 0 0 0 0 0 0 0 0 0 0 0 0 0 0 0 0 0 1 0 0 0 0 1 0 0 0 0 0\n",
      "  0 0 0 0 0 0 0 0 0 0 0 0 0 0]\n",
      " [0 0 0 0 0 0 0 0 0 0 0 0 0 0 0 0 0 0 0 0 0 0 0 0 0 1 0 0 0 0 1 0 0 0 0 0\n",
      "  0 0 0 0 0 0 0 0 0 0 0 0 0 0]\n",
      " [0 0 0 0 0 0 0 0 0 0 0 0 0 0 0 0 0 0 0 0 0 0 0 0 1 1 0 0 0 0 0 1 0 0 0 0\n",
      "  0 0 0 0 0 0 0 0 0 0 0 0 0 0]\n",
      " [0 0 0 0 0 0 0 0 0 0 0 0 0 0 0 0 0 0 0 0 0 1 0 0 1 1 1 1 1 0 0 1 0 0 0 0\n",
      "  0 0 0 0 0 0 0 0 0 0 0 0 0 0]\n",
      " [0 0 0 0 0 0 0 0 0 0 0 0 0 0 0 0 0 0 0 0 0 1 0 0 0 0 1 0 0 0 0 1 0 0 0 0\n",
      "  0 0 0 0 0 0 0 0 0 0 0 0 0 0]\n",
      " [0 0 0 0 0 0 0 0 0 0 1 1 0 0 0 0 0 0 0 0 0 1 0 0 0 0 0 1 0 0 1 0 0 0 0 0\n",
      "  0 0 1 1 1 0 0 0 0 0 0 0 0 0]\n",
      " [0 0 0 0 0 0 0 0 0 0 1 1 0 0 0 0 0 0 0 0 0 0 0 0 0 0 0 1 1 0 0 0 0 0 0 0\n",
      "  0 0 0 0 0 0 0 0 0 0 0 0 0 0]\n",
      " [0 0 0 0 1 1 1 0 0 0 0 0 0 0 0 0 0 0 0 0 0 0 0 0 0 0 0 0 0 0 0 0 0 0 0 0\n",
      "  0 0 0 0 0 0 0 0 0 0 0 0 0 0]\n",
      " [0 0 0 1 0 0 1 0 0 0 0 0 0 0 0 0 0 0 0 0 0 0 0 0 0 0 0 0 0 0 0 0 0 0 0 0\n",
      "  0 0 0 0 0 0 0 0 0 0 0 0 0 0]\n",
      " [0 0 0 1 0 0 0 1 1 0 0 0 0 0 0 0 0 0 1 1 0 0 0 0 0 0 0 0 0 0 0 0 0 0 0 0\n",
      "  0 0 0 0 0 0 0 0 0 0 0 0 0 0]\n",
      " [0 0 0 1 0 1 0 0 1 0 0 0 0 0 0 0 0 0 1 1 0 0 0 0 0 0 0 0 0 0 0 0 0 0 0 0\n",
      "  1 1 0 0 0 0 0 0 0 0 0 0 0 0]\n",
      " [0 0 0 0 0 0 1 1 1 0 0 0 0 0 0 0 0 0 0 0 0 0 0 0 0 0 0 0 0 0 0 0 0 0 0 0\n",
      "  1 1 0 0 0 0 0 0 0 0 0 0 0 0]\n",
      " [0 0 0 0 0 0 0 0 0 0 0 0 0 0 0 0 0 0 0 0 0 0 0 0 0 0 0 0 0 0 0 0 0 0 0 0\n",
      "  0 0 0 0 0 0 0 0 0 0 0 0 0 0]\n",
      " [0 0 0 0 0 0 0 0 0 0 1 0 0 0 0 0 0 0 0 0 0 0 1 1 0 0 0 0 0 0 0 0 0 0 0 0\n",
      "  0 0 0 0 0 0 0 0 0 0 0 0 0 0]\n",
      " [0 0 0 0 0 0 0 0 0 1 0 0 0 1 0 0 0 0 0 0 0 1 0 1 0 0 0 0 0 0 0 0 0 0 0 0\n",
      "  0 0 0 0 0 0 0 0 0 0 0 0 0 0]\n",
      " [0 0 0 0 0 0 0 0 0 1 0 1 0 1 1 0 0 0 0 0 0 1 1 0 0 0 0 0 0 0 0 0 0 0 0 0\n",
      "  0 0 0 0 0 0 0 0 0 0 0 0 0 0]\n",
      " [0 0 0 0 0 0 0 0 1 0 0 1 0 1 1 0 0 0 0 0 0 0 0 0 0 0 0 0 0 0 0 0 0 0 0 0\n",
      "  0 0 0 0 0 0 0 0 0 0 0 0 0 0]\n",
      " [0 0 0 0 0 0 0 0 0 0 1 1 1 1 1 1 0 0 0 0 0 0 0 0 0 0 0 0 0 0 0 0 0 0 0 0\n",
      "  0 0 0 0 0 0 0 0 0 0 0 0 0 0]\n",
      " [0 0 0 0 0 0 0 0 0 0 0 0 1 1 1 0 0 0 0 0 0 0 0 0 0 0 0 0 0 0 0 0 0 0 0 0\n",
      "  0 0 0 0 0 0 0 0 0 0 0 0 0 0]\n",
      " [0 0 0 0 0 0 0 0 0 0 0 0 0 1 0 0 0 0 0 0 0 0 0 0 0 0 0 0 0 0 0 0 0 0 0 0\n",
      "  0 0 0 0 0 0 0 0 0 0 0 0 0 0]\n",
      " [0 0 0 0 0 0 0 0 0 0 0 0 0 0 0 0 0 0 1 1 0 0 0 0 0 0 0 0 0 0 0 0 0 0 0 0\n",
      "  0 0 0 0 0 0 0 0 0 0 0 0 0 0]\n",
      " [0 0 0 0 0 0 0 0 1 1 0 0 0 0 0 0 1 0 0 0 0 1 0 0 0 0 0 0 0 0 0 0 0 0 0 0\n",
      "  0 0 0 0 0 0 0 0 0 0 0 0 0 0]\n",
      " [0 0 0 0 0 0 0 0 1 1 0 0 0 0 0 0 1 0 0 0 0 1 0 0 0 0 0 0 0 0 0 0 0 0 0 0\n",
      "  0 0 0 0 0 0 0 0 0 0 0 0 0 0]\n",
      " [0 0 0 0 0 0 0 0 0 0 0 0 0 0 0 0 1 0 0 0 0 1 0 0 0 0 0 0 0 0 0 0 0 0 0 0\n",
      "  0 0 0 0 0 0 0 0 0 0 0 0 0 0]\n",
      " [0 0 0 0 0 0 0 0 0 0 0 0 0 0 0 0 1 0 0 1 0 0 0 0 0 0 0 0 0 0 0 0 0 0 0 0\n",
      "  0 0 0 0 0 0 0 0 0 0 0 0 0 0]\n",
      " [0 0 1 1 0 0 0 0 0 0 0 0 0 0 0 0 1 0 1 1 0 0 0 0 0 0 0 0 0 0 0 0 0 0 0 0\n",
      "  1 0 0 0 0 0 0 0 0 0 0 0 0 0]\n",
      " [0 0 1 1 0 0 0 0 0 0 0 0 0 0 0 1 1 0 0 0 0 1 1 1 0 0 0 0 0 0 0 0 0 0 0 1\n",
      "  0 1 0 0 0 0 0 0 0 0 0 0 0 0]\n",
      " [0 0 0 0 0 0 0 0 0 0 0 0 0 0 0 0 0 0 0 0 0 0 0 0 0 0 0 0 0 0 0 0 0 0 1 0\n",
      "  0 1 0 0 0 0 0 0 0 0 0 0 0 0]\n",
      " [0 0 0 0 0 0 0 0 0 0 0 0 0 0 0 0 0 0 0 1 0 0 0 0 0 0 0 0 0 0 0 0 0 0 0 1\n",
      "  1 0 0 0 0 0 0 0 0 0 0 0 0 0]\n",
      " [0 0 0 0 0 0 0 0 0 0 0 0 0 0 0 0 0 0 0 1 0 0 0 0 0 0 0 0 0 0 0 0 0 0 0 0\n",
      "  0 0 0 0 0 0 0 0 0 0 0 0 0 0]\n",
      " [0 0 0 0 0 0 0 0 0 0 0 0 0 0 0 0 0 0 0 1 0 0 0 0 0 0 0 0 0 0 0 0 0 0 0 0\n",
      "  0 0 0 0 0 0 0 0 0 0 0 0 0 0]\n",
      " [0 0 0 0 0 0 0 0 0 0 0 0 0 0 0 0 0 0 0 0 0 0 0 0 0 0 0 0 0 0 0 0 0 0 0 0\n",
      "  0 0 0 0 0 0 0 0 0 0 0 0 0 0]\n",
      " [0 0 0 0 0 0 0 0 0 0 0 0 0 0 0 0 0 0 0 0 0 0 0 0 0 0 0 0 0 0 0 0 0 0 0 0\n",
      "  0 0 0 0 0 0 0 0 0 0 0 0 0 0]\n",
      " [0 0 0 0 0 0 0 0 0 0 0 0 0 0 0 0 0 0 0 0 0 0 0 0 0 0 0 0 0 0 1 0 0 0 0 0\n",
      "  0 0 0 0 0 0 0 0 0 0 0 0 0 0]\n",
      " [0 0 0 0 0 0 0 0 0 0 0 0 0 0 0 0 0 0 0 0 0 0 0 0 0 0 0 0 0 1 0 1 0 0 0 0\n",
      "  0 0 0 0 0 0 0 0 0 0 0 0 0 0]\n",
      " [0 0 0 0 0 0 0 0 0 0 0 0 0 0 0 0 1 0 0 0 0 0 0 0 0 0 0 0 0 1 0 1 0 0 0 0\n",
      "  0 0 0 0 0 0 0 0 0 0 0 0 0 0]\n",
      " [0 0 0 0 0 0 0 0 0 0 0 0 0 0 1 0 0 1 1 0 0 0 0 0 0 0 0 0 0 0 1 0 0 0 0 0\n",
      "  0 0 0 0 0 0 0 0 0 0 0 0 0 0]\n",
      " [0 0 0 0 0 0 0 0 0 0 0 0 0 1 0 0 0 0 1 0 0 0 0 0 0 0 0 0 0 0 0 0 0 0 1 1\n",
      "  0 0 0 0 0 0 0 0 0 0 0 0 0 0]\n",
      " [0 0 0 0 0 0 0 0 0 0 0 0 0 0 1 1 1 0 0 1 1 0 0 0 0 0 0 0 0 0 0 0 0 0 1 1\n",
      "  0 0 0 0 0 0 0 0 0 0 0 0 0 0]\n",
      " [0 0 0 0 0 0 0 0 0 0 0 0 0 0 0 0 0 0 1 1 0 0 1 0 0 0 0 0 0 0 0 0 0 0 0 0\n",
      "  0 0 0 1 1 0 1 1 0 0 0 0 0 0]\n",
      " [0 0 0 0 0 0 0 0 0 0 0 0 0 0 0 0 0 0 0 1 1 1 0 0 0 0 0 0 0 0 0 0 0 0 0 0\n",
      "  0 0 0 1 1 0 1 1 0 0 0 0 0 0]\n",
      " [0 0 0 0 0 0 0 0 0 0 0 0 0 0 0 0 0 0 0 0 0 0 0 0 0 0 0 0 0 0 0 0 0 0 0 0\n",
      "  0 0 0 0 0 0 0 0 0 0 0 0 0 0]]\n"
     ]
    }
   ],
   "source": [
    "def iterate(Z):\n",
    "    N = (Z[0:-2, 0:-2] + Z[0:-2, 1:-1] + Z[0:-2, 2:] +\n",
    "         Z[1:-1, 0:-2] + Z[1:-1, 2:] + Z[2:, 0:-2] + \n",
    "         Z[2:, 1:-1] + Z[2:, 2:])\n",
    "\n",
    "    birth = (N == 3) & (Z[1:-1, 1:-1] == 0)\n",
    "    survive = ((N == 2) | (N == 3)) & (Z[1:-1, 1:-1] == 1)\n",
    "    Z[...] = 0\n",
    "    Z[1:-1, 1:-1][birth | survive] = 1\n",
    "    return Z\n",
    "\n",
    "Z = np.random.randint(0, 2, (50, 50))\n",
    "for i in range(100): Z = iterate(Z)\n",
    "print(Z)"
   ]
  },
  {
   "attachments": {},
   "cell_type": "markdown",
   "metadata": {},
   "source": [
    "89. How to get the n largest values of an array"
   ]
  },
  {
   "cell_type": "code",
   "execution_count": 310,
   "metadata": {},
   "outputs": [
    {
     "name": "stdout",
     "output_type": "stream",
     "text": [
      "[95 96 97 98 99]\n"
     ]
    }
   ],
   "source": [
    "x = np.arange(100)\n",
    "np.random.shuffle(x)\n",
    "n = 5\n",
    "y = x[np.argsort(x)[-n:]]\n",
    "print(y)"
   ]
  },
  {
   "attachments": {},
   "cell_type": "markdown",
   "metadata": {},
   "source": [
    "90. Given an arbitrary number of vectors, build the cartesian product (every combinations of every item)"
   ]
  },
  {
   "cell_type": "code",
   "execution_count": 311,
   "metadata": {},
   "outputs": [
    {
     "name": "stdout",
     "output_type": "stream",
     "text": [
      "[[1 4 6]\n",
      " [1 4 7]\n",
      " [1 5 6]\n",
      " [1 5 7]\n",
      " [2 4 6]\n",
      " [2 4 7]\n",
      " [2 5 6]\n",
      " [2 5 7]\n",
      " [3 4 6]\n",
      " [3 4 7]\n",
      " [3 5 6]\n",
      " [3 5 7]]\n"
     ]
    }
   ],
   "source": [
    "def tree(arrays):\n",
    "    arrays = [np.asarray(a) for a in arrays]\n",
    "    shape = (len(x) for x in arrays)\n",
    "\n",
    "    ix = np.indices(shape, dtype=int)\n",
    "    ix = ix.reshape(len(arrays), -1).T\n",
    "\n",
    "    for n, arr in enumerate(arrays):\n",
    "        ix[:, n] = arrays[n][ix[:, n]]\n",
    "\n",
    "    return ix\n",
    "\n",
    "print (tree(([1, 2, 3], [4, 5], [6, 7])))"
   ]
  },
  {
   "attachments": {},
   "cell_type": "markdown",
   "metadata": {},
   "source": [
    "91. How to create a record array from a regular array?"
   ]
  },
  {
   "cell_type": "code",
   "execution_count": 312,
   "metadata": {},
   "outputs": [
    {
     "name": "stdout",
     "output_type": "stream",
     "text": [
      "[(b'Hello', 2.5, 3) (b'World', 3.6, 2)]\n"
     ]
    }
   ],
   "source": [
    "Z = np.array([(\"Hello\", 2.5, 3),\n",
    "              (\"World\", 3.6, 2)])\n",
    "R = np.core.records.fromarrays(Z.T,\n",
    "                               names='col1, col2, col3',\n",
    "                               formats = 'S8, f8, i8')\n",
    "print(R)"
   ]
  },
  {
   "attachments": {},
   "cell_type": "markdown",
   "metadata": {},
   "source": [
    "92. Consider a large vector Z, compute Z to the power of 3 using 3 different methods"
   ]
  },
  {
   "cell_type": "code",
   "execution_count": 313,
   "metadata": {},
   "outputs": [
    {
     "name": "stdout",
     "output_type": "stream",
     "text": [
      "395 ms ± 2.58 ms per loop (mean ± std. dev. of 7 runs, 1 loop each)\n",
      "66.1 ms ± 3.71 ms per loop (mean ± std. dev. of 7 runs, 10 loops each)\n",
      "65.8 ms ± 657 µs per loop (mean ± std. dev. of 7 runs, 10 loops each)\n"
     ]
    }
   ],
   "source": [
    "x = np.random.rand(int(5e7))\n",
    "\n",
    "%timeit np.power(x,3)\n",
    "%timeit x*x*x\n",
    "%timeit np.einsum('i,i,i->i',x,x,x)"
   ]
  },
  {
   "attachments": {},
   "cell_type": "markdown",
   "metadata": {},
   "source": [
    "93. Consider two arrays A and B of shape (8,3) and (2,2). How to find rows of A that contain elements of each row of B regardless of the order of the elements in B?"
   ]
  },
  {
   "cell_type": "code",
   "execution_count": 315,
   "metadata": {},
   "outputs": [
    {
     "name": "stdout",
     "output_type": "stream",
     "text": [
      "[0 1 2 3 4 6]\n"
     ]
    }
   ],
   "source": [
    "A = np.random.randint(0, 5, (8, 3))\n",
    "B = np.random.randint(0, 5, (2, 2))\n",
    "\n",
    "C = (A[..., np.newaxis, np.newaxis] == B)\n",
    "rows = np.where(C.any((3, 1)).all(1))[0]\n",
    "print(rows)"
   ]
  },
  {
   "attachments": {},
   "cell_type": "markdown",
   "metadata": {},
   "source": [
    "94. Considering a 10x3 matrix, extract rows with unequal values (e.g. [2,2,3])"
   ]
  },
  {
   "cell_type": "code",
   "execution_count": 318,
   "metadata": {},
   "outputs": [
    {
     "name": "stdout",
     "output_type": "stream",
     "text": [
      "[[3 2 2]\n",
      " [4 2 0]\n",
      " [0 4 1]\n",
      " [3 0 3]\n",
      " [4 3 3]\n",
      " [3 0 1]\n",
      " [1 1 0]\n",
      " [2 3 4]\n",
      " [1 4 2]\n",
      " [0 4 3]]\n"
     ]
    }
   ],
   "source": [
    "Z = np.random.randint(0,5,(10,3))\n",
    "print(Z)"
   ]
  },
  {
   "attachments": {},
   "cell_type": "markdown",
   "metadata": {},
   "source": [
    "95. Convert a vector of ints into a matrix binary representation"
   ]
  },
  {
   "cell_type": "code",
   "execution_count": 319,
   "metadata": {},
   "outputs": [
    {
     "name": "stdout",
     "output_type": "stream",
     "text": [
      "[[0 0 0 0 0 0 0 0]\n",
      " [0 0 0 0 0 0 0 1]\n",
      " [0 0 0 0 0 0 1 0]\n",
      " [0 0 0 0 0 0 1 1]\n",
      " [0 0 0 0 1 1 1 1]\n",
      " [0 0 0 1 0 0 0 0]\n",
      " [0 0 1 0 0 0 0 0]\n",
      " [0 1 0 0 0 0 0 0]\n",
      " [1 0 0 0 0 0 0 0]]\n"
     ]
    }
   ],
   "source": [
    "I = np.array([0, 1, 2, 3, 15, 16, 32, 64, 128], dtype=np.uint8)\n",
    "print(np.unpackbits(I[:, np.newaxis], axis=1))"
   ]
  },
  {
   "attachments": {},
   "cell_type": "markdown",
   "metadata": {},
   "source": [
    "96. Given a two dimensional array, how to extract unique rows?"
   ]
  },
  {
   "cell_type": "code",
   "execution_count": 320,
   "metadata": {},
   "outputs": [
    {
     "name": "stdout",
     "output_type": "stream",
     "text": [
      "[[0 0 0]\n",
      " [0 1 0]\n",
      " [0 1 1]\n",
      " [1 1 0]\n",
      " [1 1 1]]\n"
     ]
    }
   ],
   "source": [
    "Z = np.random.randint(0, 2, (6, 3))\n",
    "uZ = np.unique(Z, axis=0)\n",
    "print(uZ)"
   ]
  },
  {
   "attachments": {},
   "cell_type": "markdown",
   "metadata": {},
   "source": [
    "\n",
    "97. Considering 2 vectors A & B, write the einsum equivalent of inner, outer, sum, and mul function"
   ]
  },
  {
   "cell_type": "code",
   "execution_count": 322,
   "metadata": {},
   "outputs": [
    {
     "data": {
      "text/plain": [
       "array([[0.08147448, 0.0991071 , 0.07127163, 0.16554427, 0.00840854],\n",
       "       [0.01207311, 0.01468596, 0.01056123, 0.02453081, 0.001246  ],\n",
       "       [0.12043341, 0.14649749, 0.10535183, 0.24470315, 0.01242928],\n",
       "       [0.30157754, 0.36684466, 0.26381174, 0.61276164, 0.0311242 ],\n",
       "       [0.02823846, 0.0343498 , 0.02470223, 0.05737644, 0.00291434]])"
      ]
     },
     "execution_count": 322,
     "metadata": {},
     "output_type": "execute_result"
    }
   ],
   "source": [
    "A = np.random.uniform(0, 1, 5)\n",
    "B = np.random.uniform(0, 1, 5)\n",
    "\n",
    "np.einsum('i->', A)\n",
    "np.einsum('i,i->i', A, B)\n",
    "np.einsum('i,i', A, B)\n",
    "np.einsum('i,j->ij', A, B)"
   ]
  },
  {
   "attachments": {},
   "cell_type": "markdown",
   "metadata": {},
   "source": [
    "98. Considering a path described by two vectors (X,Y), how to sample it using equidistant samples"
   ]
  },
  {
   "cell_type": "code",
   "execution_count": 323,
   "metadata": {},
   "outputs": [],
   "source": [
    "phi = np.arange(0, 10*np.pi, 0.1)\n",
    "a = 1\n",
    "x = a*phi*np.cos(phi)\n",
    "y = a*phi*np.sin(phi)\n",
    "\n",
    "dr = (np.diff(x)**2 + np.diff(y)**2)**.5\n",
    "r = np.zeros_like(x)\n",
    "r[1:] = np.cumsum(dr)\n",
    "r_int = np.linspace(0, r.max(), 200)\n",
    "x_int = np.interp(r_int, r, x)\n",
    "y_int = np.interp(r_int, r, y)"
   ]
  },
  {
   "attachments": {},
   "cell_type": "markdown",
   "metadata": {},
   "source": [
    "99. Given an integer n and a 2D array X, select from X the rows which can be interpreted as draws from a multinomial distribution with n degrees, i.e., the rows which only contain integers and which sum to n."
   ]
  },
  {
   "cell_type": "code",
   "execution_count": 324,
   "metadata": {},
   "outputs": [
    {
     "name": "stdout",
     "output_type": "stream",
     "text": [
      "[[2. 0. 1. 1.]]\n"
     ]
    }
   ],
   "source": [
    "X = np.asarray([[1.0, 0.0, 3.0, 8.0],\n",
    "                [2.0, 0.0, 1.0, 1.0],\n",
    "                [1.5, 2.5, 1.0, 0.0]])\n",
    "n = 4\n",
    "M = np.logical_and.reduce(np.mod(X, 1) == 0, axis=-1)\n",
    "M &= (X.sum(axis=-1) == n)\n",
    "print(X[M])"
   ]
  },
  {
   "attachments": {},
   "cell_type": "markdown",
   "metadata": {},
   "source": [
    "100. Compute bootstrapped 95% confidence intervals for the mean of a 1D array X (i.e., resample the elements of an array with replacement N times, compute the mean of each sample, and then compute percentiles over the means). "
   ]
  },
  {
   "cell_type": "code",
   "execution_count": 325,
   "metadata": {},
   "outputs": [
    {
     "name": "stdout",
     "output_type": "stream",
     "text": [
      "[-0.31218603  0.05556338]\n"
     ]
    }
   ],
   "source": [
    "X = np.random.randn(100)\n",
    "N = 1000\n",
    "idx = np.random.randint(0, X.size, (N, X.size))\n",
    "means = X[idx].mean(axis=1)\n",
    "confint = np.percentile(means, [2.5, 97.5])\n",
    "print(confint)"
   ]
  }
 ],
 "metadata": {
  "kernelspec": {
   "display_name": "Python 3",
   "language": "python",
   "name": "python3"
  },
  "language_info": {
   "codemirror_mode": {
    "name": "ipython",
    "version": 3
   },
   "file_extension": ".py",
   "mimetype": "text/x-python",
   "name": "python",
   "nbconvert_exporter": "python",
   "pygments_lexer": "ipython3",
   "version": "3.11.2"
  },
  "orig_nbformat": 4,
  "vscode": {
   "interpreter": {
    "hash": "b0fa6594d8f4cbf19f97940f81e996739fb7646882a419484c72d19e05852a7e"
   }
  }
 },
 "nbformat": 4,
 "nbformat_minor": 2
}
